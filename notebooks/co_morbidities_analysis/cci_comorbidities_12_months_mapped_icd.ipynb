{
 "cells": [
  {
   "cell_type": "markdown",
   "metadata": {},
   "source": [
    "# Exploring Co-Morbidities"
   ]
  },
  {
   "cell_type": "markdown",
   "metadata": {},
   "source": [
    "## Read data files"
   ]
  },
  {
   "cell_type": "code",
   "execution_count": 2,
   "metadata": {},
   "outputs": [
    {
     "name": "stderr",
     "output_type": "stream",
     "text": [
      "/tmp/ipykernel_711754/959883491.py:6: DtypeWarning: Columns (6) have mixed types. Specify dtype option on import or set low_memory=False.\n",
      "  icdDf = pd.read_csv(os.environ['EHR_DATA_BASE'] + '/blood_pos_cohort_20240119/additional_data/2023-03-20-blood-pos-ICDs.csv')\n"
     ]
    }
   ],
   "source": [
    "import os\n",
    "import pandas as pd\n",
    "\n",
    "\n",
    "datamatrixDf = pd.read_csv(os.environ['EHR_DATA_BASE'] + '/blood_pos_cohort_20240531/data/data_matrix.csv')\n",
    "icdDf = pd.read_csv(os.environ['EHR_DATA_BASE'] + '/blood_pos_cohort_20240119/additional_data/2023-03-20-blood-pos-ICDs.csv')\n",
    "admissionsDf = pd.read_csv(os.environ['EHR_DATA_BASE'] + '/blood_pos_cohort_20240119/2023-11-10-blood-admissions.csv')\n",
    "icdMappingsDf = pd.read_csv(os.environ['EHR_DATA_BASE'] + '/blood_pos_cohort_20240119/additional_data/unique_yash_items_no_geography.csv')"
   ]
  },
  {
   "cell_type": "code",
   "execution_count": 3,
   "metadata": {},
   "outputs": [
    {
     "data": {
      "text/plain": [
       "((456648, 7), (116754, 194), (436214, 20), (6235, 4))"
      ]
     },
     "execution_count": 3,
     "metadata": {},
     "output_type": "execute_result"
    }
   ],
   "source": [
    "icdDf.shape, datamatrixDf.shape, admissionsDf.shape, icdMappingsDf.shape"
   ]
  },
  {
   "cell_type": "markdown",
   "metadata": {},
   "source": [
    "## Explore ICD mappings"
   ]
  },
  {
   "cell_type": "code",
   "execution_count": 4,
   "metadata": {},
   "outputs": [
    {
     "data": {
      "text/html": [
       "<div>\n",
       "<style scoped>\n",
       "    .dataframe tbody tr th:only-of-type {\n",
       "        vertical-align: middle;\n",
       "    }\n",
       "\n",
       "    .dataframe tbody tr th {\n",
       "        vertical-align: top;\n",
       "    }\n",
       "\n",
       "    .dataframe thead th {\n",
       "        text-align: right;\n",
       "    }\n",
       "</style>\n",
       "<table border=\"1\" class=\"dataframe\">\n",
       "  <thead>\n",
       "    <tr style=\"text-align: right;\">\n",
       "      <th></th>\n",
       "      <th>Input_Text</th>\n",
       "      <th>Matched_Label</th>\n",
       "      <th>Matched_Code</th>\n",
       "      <th>Similarity</th>\n",
       "    </tr>\n",
       "  </thead>\n",
       "  <tbody>\n",
       "    <tr>\n",
       "      <th>0</th>\n",
       "      <td>4-Aminophenol derivatives</td>\n",
       "      <td>Poisoning: 4-Aminophenol derivatives</td>\n",
       "      <td>T39.1</td>\n",
       "      <td>0.688</td>\n",
       "    </tr>\n",
       "    <tr>\n",
       "      <th>1</th>\n",
       "      <td>4-Aminophenol derivatives causing adverse effe...</td>\n",
       "      <td>Adverse effects in the therapeutic use of 4-am...</td>\n",
       "      <td>Y45.5</td>\n",
       "      <td>0.922</td>\n",
       "    </tr>\n",
       "    <tr>\n",
       "      <th>2</th>\n",
       "      <td>Abdominal aortic aneurysm, ruptured</td>\n",
       "      <td>Abdominal aortic aneurysm, ruptured</td>\n",
       "      <td>I71.3</td>\n",
       "      <td>1.000</td>\n",
       "    </tr>\n",
       "    <tr>\n",
       "      <th>3</th>\n",
       "      <td>Abdominal aortic aneurysm, without mention of ...</td>\n",
       "      <td>Abdominal aortic aneurysm, without mention of ...</td>\n",
       "      <td>I71.4</td>\n",
       "      <td>1.000</td>\n",
       "    </tr>\n",
       "    <tr>\n",
       "      <th>4</th>\n",
       "      <td>Abdominal compartment syndrome</td>\n",
       "      <td>Traumatic compartment syndrome of abdomen</td>\n",
       "      <td>T79.A3</td>\n",
       "      <td>0.750</td>\n",
       "    </tr>\n",
       "    <tr>\n",
       "      <th>...</th>\n",
       "      <td>...</td>\n",
       "      <td>...</td>\n",
       "      <td>...</td>\n",
       "      <td>...</td>\n",
       "    </tr>\n",
       "    <tr>\n",
       "      <th>6230</th>\n",
       "      <td>Zoster ocular disease</td>\n",
       "      <td>Zoster ocular disease</td>\n",
       "      <td>B02.3</td>\n",
       "      <td>1.000</td>\n",
       "    </tr>\n",
       "    <tr>\n",
       "      <th>6231</th>\n",
       "      <td>Zoster with other complications</td>\n",
       "      <td>Zoster with other complications</td>\n",
       "      <td>B02.8</td>\n",
       "      <td>1.000</td>\n",
       "    </tr>\n",
       "    <tr>\n",
       "      <th>6232</th>\n",
       "      <td>Zoster with other nervous system involvement</td>\n",
       "      <td>Other contact with chicken, sequela</td>\n",
       "      <td>W61.39XS</td>\n",
       "      <td>0.041</td>\n",
       "    </tr>\n",
       "    <tr>\n",
       "      <th>6233</th>\n",
       "      <td>Zoster without complication</td>\n",
       "      <td>Zoster without complication</td>\n",
       "      <td>B02.9</td>\n",
       "      <td>1.000</td>\n",
       "    </tr>\n",
       "    <tr>\n",
       "      <th>6234</th>\n",
       "      <td>Zygomycosis, unspecified</td>\n",
       "      <td>Zygomycosis, unspecified</td>\n",
       "      <td>B46.9</td>\n",
       "      <td>1.000</td>\n",
       "    </tr>\n",
       "  </tbody>\n",
       "</table>\n",
       "<p>6235 rows × 4 columns</p>\n",
       "</div>"
      ],
      "text/plain": [
       "                                             Input_Text  \\\n",
       "0                             4-Aminophenol derivatives   \n",
       "1     4-Aminophenol derivatives causing adverse effe...   \n",
       "2                   Abdominal aortic aneurysm, ruptured   \n",
       "3     Abdominal aortic aneurysm, without mention of ...   \n",
       "4                        Abdominal compartment syndrome   \n",
       "...                                                 ...   \n",
       "6230                              Zoster ocular disease   \n",
       "6231                    Zoster with other complications   \n",
       "6232       Zoster with other nervous system involvement   \n",
       "6233                        Zoster without complication   \n",
       "6234                           Zygomycosis, unspecified   \n",
       "\n",
       "                                          Matched_Label Matched_Code  \\\n",
       "0                  Poisoning: 4-Aminophenol derivatives        T39.1   \n",
       "1     Adverse effects in the therapeutic use of 4-am...        Y45.5   \n",
       "2                   Abdominal aortic aneurysm, ruptured        I71.3   \n",
       "3     Abdominal aortic aneurysm, without mention of ...        I71.4   \n",
       "4             Traumatic compartment syndrome of abdomen       T79.A3   \n",
       "...                                                 ...          ...   \n",
       "6230                              Zoster ocular disease        B02.3   \n",
       "6231                    Zoster with other complications        B02.8   \n",
       "6232                Other contact with chicken, sequela     W61.39XS   \n",
       "6233                        Zoster without complication        B02.9   \n",
       "6234                           Zygomycosis, unspecified        B46.9   \n",
       "\n",
       "      Similarity  \n",
       "0          0.688  \n",
       "1          0.922  \n",
       "2          1.000  \n",
       "3          1.000  \n",
       "4          0.750  \n",
       "...          ...  \n",
       "6230       1.000  \n",
       "6231       1.000  \n",
       "6232       0.041  \n",
       "6233       1.000  \n",
       "6234       1.000  \n",
       "\n",
       "[6235 rows x 4 columns]"
      ]
     },
     "execution_count": 4,
     "metadata": {},
     "output_type": "execute_result"
    }
   ],
   "source": [
    "icdMappingsDf"
   ]
  },
  {
   "cell_type": "code",
   "execution_count": 5,
   "metadata": {},
   "outputs": [
    {
     "data": {
      "text/plain": [
       "<Axes: >"
      ]
     },
     "execution_count": 5,
     "metadata": {},
     "output_type": "execute_result"
    },
    {
     "data": {
      "image/png": "[encoded data removed]",
      "text/plain": [
       "<Figure size 640x480 with 1 Axes>"
      ]
     },
     "metadata": {},
     "output_type": "display_data"
    }
   ],
   "source": [
    "icdMappingsDf.Similarity.hist(bins=100)"
   ]
  },
  {
   "cell_type": "markdown",
   "metadata": {},
   "source": [
    "## Filter patients from the cohort"
   ]
  },
  {
   "cell_type": "code",
   "execution_count": 6,
   "metadata": {},
   "outputs": [
    {
     "data": {
      "text/html": [
       "<div>\n",
       "<style scoped>\n",
       "    .dataframe tbody tr th:only-of-type {\n",
       "        vertical-align: middle;\n",
       "    }\n",
       "\n",
       "    .dataframe tbody tr th {\n",
       "        vertical-align: top;\n",
       "    }\n",
       "\n",
       "    .dataframe thead th {\n",
       "        text-align: right;\n",
       "    }\n",
       "</style>\n",
       "<table border=\"1\" class=\"dataframe\">\n",
       "  <thead>\n",
       "    <tr style=\"text-align: right;\">\n",
       "      <th></th>\n",
       "      <th>PATIENT_ID</th>\n",
       "      <th>EPISODE_ID</th>\n",
       "      <th>AUSTRALIAN_MODIFICATION</th>\n",
       "      <th>PREFIX</th>\n",
       "      <th>ICD_DESCRIPTION</th>\n",
       "      <th>RANK</th>\n",
       "      <th>ICD10CODE</th>\n",
       "      <th>Input_Text</th>\n",
       "      <th>Matched_Label</th>\n",
       "      <th>Matched_Code</th>\n",
       "      <th>Similarity</th>\n",
       "    </tr>\n",
       "  </thead>\n",
       "  <tbody>\n",
       "    <tr>\n",
       "      <th>0</th>\n",
       "      <td>2152832</td>\n",
       "      <td>583214</td>\n",
       "      <td>Z466</td>\n",
       "      <td>P</td>\n",
       "      <td>Fitting and adjustment of urinary device</td>\n",
       "      <td>1</td>\n",
       "      <td>NaN</td>\n",
       "      <td>Fitting and adjustment of urinary device</td>\n",
       "      <td>Underdosing of drugs affecting uric acid metab...</td>\n",
       "      <td>T50.4X6S</td>\n",
       "      <td>-0.096</td>\n",
       "    </tr>\n",
       "    <tr>\n",
       "      <th>1</th>\n",
       "      <td>2152832</td>\n",
       "      <td>583214</td>\n",
       "      <td>Z466</td>\n",
       "      <td>P</td>\n",
       "      <td>Fitting and adjustment of urinary device</td>\n",
       "      <td>1</td>\n",
       "      <td>NaN</td>\n",
       "      <td>Fitting and adjustment of urinary device</td>\n",
       "      <td>Underdosing of drugs affecting uric acid metab...</td>\n",
       "      <td>T50.4X6S</td>\n",
       "      <td>-0.096</td>\n",
       "    </tr>\n",
       "    <tr>\n",
       "      <th>2</th>\n",
       "      <td>2152832</td>\n",
       "      <td>583214</td>\n",
       "      <td>Z466</td>\n",
       "      <td>P</td>\n",
       "      <td>Fitting and adjustment of urinary device</td>\n",
       "      <td>1</td>\n",
       "      <td>NaN</td>\n",
       "      <td>Fitting and adjustment of urinary device</td>\n",
       "      <td>Underdosing of drugs affecting uric acid metab...</td>\n",
       "      <td>T50.4X6S</td>\n",
       "      <td>-0.096</td>\n",
       "    </tr>\n",
       "    <tr>\n",
       "      <th>3</th>\n",
       "      <td>2152832</td>\n",
       "      <td>583214</td>\n",
       "      <td>Z466</td>\n",
       "      <td>P</td>\n",
       "      <td>Fitting and adjustment of urinary device</td>\n",
       "      <td>1</td>\n",
       "      <td>NaN</td>\n",
       "      <td>Fitting and adjustment of urinary device</td>\n",
       "      <td>Underdosing of drugs affecting uric acid metab...</td>\n",
       "      <td>T50.4X6S</td>\n",
       "      <td>-0.096</td>\n",
       "    </tr>\n",
       "    <tr>\n",
       "      <th>4</th>\n",
       "      <td>2152832</td>\n",
       "      <td>583214</td>\n",
       "      <td>Z466</td>\n",
       "      <td>P</td>\n",
       "      <td>Fitting and adjustment of urinary device</td>\n",
       "      <td>1</td>\n",
       "      <td>NaN</td>\n",
       "      <td>Fitting and adjustment of urinary device</td>\n",
       "      <td>Underdosing of drugs affecting uric acid metab...</td>\n",
       "      <td>T50.4X6S</td>\n",
       "      <td>-0.096</td>\n",
       "    </tr>\n",
       "    <tr>\n",
       "      <th>...</th>\n",
       "      <td>...</td>\n",
       "      <td>...</td>\n",
       "      <td>...</td>\n",
       "      <td>...</td>\n",
       "      <td>...</td>\n",
       "      <td>...</td>\n",
       "      <td>...</td>\n",
       "      <td>...</td>\n",
       "      <td>...</td>\n",
       "      <td>...</td>\n",
       "      <td>...</td>\n",
       "    </tr>\n",
       "    <tr>\n",
       "      <th>12374463</th>\n",
       "      <td>2481867</td>\n",
       "      <td>15380875</td>\n",
       "      <td>H433</td>\n",
       "      <td>P</td>\n",
       "      <td>Other vitreous opacities</td>\n",
       "      <td>19</td>\n",
       "      <td>NaN</td>\n",
       "      <td>Other vitreous opacities</td>\n",
       "      <td>Other vitreous opacities</td>\n",
       "      <td>H43.39</td>\n",
       "      <td>1.000</td>\n",
       "    </tr>\n",
       "    <tr>\n",
       "      <th>12374464</th>\n",
       "      <td>2481867</td>\n",
       "      <td>15380875</td>\n",
       "      <td>H433</td>\n",
       "      <td>P</td>\n",
       "      <td>Other vitreous opacities</td>\n",
       "      <td>19</td>\n",
       "      <td>NaN</td>\n",
       "      <td>Other vitreous opacities</td>\n",
       "      <td>Other vitreous opacities</td>\n",
       "      <td>H43.39</td>\n",
       "      <td>1.000</td>\n",
       "    </tr>\n",
       "    <tr>\n",
       "      <th>12374465</th>\n",
       "      <td>2481867</td>\n",
       "      <td>15380875</td>\n",
       "      <td>H433</td>\n",
       "      <td>P</td>\n",
       "      <td>Other vitreous opacities</td>\n",
       "      <td>19</td>\n",
       "      <td>NaN</td>\n",
       "      <td>Other vitreous opacities</td>\n",
       "      <td>Other vitreous opacities</td>\n",
       "      <td>H43.39</td>\n",
       "      <td>1.000</td>\n",
       "    </tr>\n",
       "    <tr>\n",
       "      <th>12374466</th>\n",
       "      <td>2481867</td>\n",
       "      <td>15380875</td>\n",
       "      <td>H433</td>\n",
       "      <td>P</td>\n",
       "      <td>Other vitreous opacities</td>\n",
       "      <td>19</td>\n",
       "      <td>NaN</td>\n",
       "      <td>Other vitreous opacities</td>\n",
       "      <td>Other vitreous opacities</td>\n",
       "      <td>H43.39</td>\n",
       "      <td>1.000</td>\n",
       "    </tr>\n",
       "    <tr>\n",
       "      <th>12374467</th>\n",
       "      <td>297900</td>\n",
       "      <td>15355134</td>\n",
       "      <td>M2544</td>\n",
       "      <td>C</td>\n",
       "      <td>Effusion of joint, hand</td>\n",
       "      <td>11</td>\n",
       "      <td>NaN</td>\n",
       "      <td>Effusion of joint, hand</td>\n",
       "      <td>Effusion of joint, hand</td>\n",
       "      <td>M25.44</td>\n",
       "      <td>1.000</td>\n",
       "    </tr>\n",
       "  </tbody>\n",
       "</table>\n",
       "<p>12374468 rows × 11 columns</p>\n",
       "</div>"
      ],
      "text/plain": [
       "          PATIENT_ID  EPISODE_ID AUSTRALIAN_MODIFICATION PREFIX  \\\n",
       "0            2152832      583214                    Z466      P   \n",
       "1            2152832      583214                    Z466      P   \n",
       "2            2152832      583214                    Z466      P   \n",
       "3            2152832      583214                    Z466      P   \n",
       "4            2152832      583214                    Z466      P   \n",
       "...              ...         ...                     ...    ...   \n",
       "12374463     2481867    15380875                    H433      P   \n",
       "12374464     2481867    15380875                    H433      P   \n",
       "12374465     2481867    15380875                    H433      P   \n",
       "12374466     2481867    15380875                    H433      P   \n",
       "12374467      297900    15355134                   M2544      C   \n",
       "\n",
       "                                   ICD_DESCRIPTION  RANK ICD10CODE  \\\n",
       "0         Fitting and adjustment of urinary device     1       NaN   \n",
       "1         Fitting and adjustment of urinary device     1       NaN   \n",
       "2         Fitting and adjustment of urinary device     1       NaN   \n",
       "3         Fitting and adjustment of urinary device     1       NaN   \n",
       "4         Fitting and adjustment of urinary device     1       NaN   \n",
       "...                                            ...   ...       ...   \n",
       "12374463                  Other vitreous opacities    19       NaN   \n",
       "12374464                  Other vitreous opacities    19       NaN   \n",
       "12374465                  Other vitreous opacities    19       NaN   \n",
       "12374466                  Other vitreous opacities    19       NaN   \n",
       "12374467                   Effusion of joint, hand    11       NaN   \n",
       "\n",
       "                                        Input_Text  \\\n",
       "0         Fitting and adjustment of urinary device   \n",
       "1         Fitting and adjustment of urinary device   \n",
       "2         Fitting and adjustment of urinary device   \n",
       "3         Fitting and adjustment of urinary device   \n",
       "4         Fitting and adjustment of urinary device   \n",
       "...                                            ...   \n",
       "12374463                  Other vitreous opacities   \n",
       "12374464                  Other vitreous opacities   \n",
       "12374465                  Other vitreous opacities   \n",
       "12374466                  Other vitreous opacities   \n",
       "12374467                   Effusion of joint, hand   \n",
       "\n",
       "                                              Matched_Label Matched_Code  \\\n",
       "0         Underdosing of drugs affecting uric acid metab...     T50.4X6S   \n",
       "1         Underdosing of drugs affecting uric acid metab...     T50.4X6S   \n",
       "2         Underdosing of drugs affecting uric acid metab...     T50.4X6S   \n",
       "3         Underdosing of drugs affecting uric acid metab...     T50.4X6S   \n",
       "4         Underdosing of drugs affecting uric acid metab...     T50.4X6S   \n",
       "...                                                     ...          ...   \n",
       "12374463                           Other vitreous opacities       H43.39   \n",
       "12374464                           Other vitreous opacities       H43.39   \n",
       "12374465                           Other vitreous opacities       H43.39   \n",
       "12374466                           Other vitreous opacities       H43.39   \n",
       "12374467                            Effusion of joint, hand       M25.44   \n",
       "\n",
       "          Similarity  \n",
       "0             -0.096  \n",
       "1             -0.096  \n",
       "2             -0.096  \n",
       "3             -0.096  \n",
       "4             -0.096  \n",
       "...              ...  \n",
       "12374463       1.000  \n",
       "12374464       1.000  \n",
       "12374465       1.000  \n",
       "12374466       1.000  \n",
       "12374467       1.000  \n",
       "\n",
       "[12374468 rows x 11 columns]"
      ]
     },
     "execution_count": 6,
     "metadata": {},
     "output_type": "execute_result"
    }
   ],
   "source": [
    "filteredIcdDf = datamatrixDf[['person_id', 'visit_occurrence_id']].drop_duplicates().merge(\n",
    "    admissionsDf[['PATIENT_ID', 'EPISODE_ID', 'start_date']],\n",
    "    how='inner',\n",
    "    left_on=['person_id', 'visit_occurrence_id'],\n",
    "    right_on=['PATIENT_ID', 'EPISODE_ID']\n",
    ").drop(\n",
    "    columns=['person_id', 'visit_occurrence_id']\n",
    ").merge(\n",
    "    admissionsDf[['PATIENT_ID', 'EPISODE_ID', 'start_date']].add_suffix('_PREV'),\n",
    "    how='inner',\n",
    "    left_on=['PATIENT_ID'],\n",
    "    right_on=['PATIENT_ID_PREV']\n",
    ").drop(\n",
    "    columns=['PATIENT_ID', 'EPISODE_ID']\n",
    ").merge(\n",
    "    icdDf,\n",
    "    how='inner',\n",
    "    left_on=['PATIENT_ID_PREV', 'EPISODE_ID_PREV'],\n",
    "    right_on=['PATIENT_ID', 'EPISODE_ID'],\n",
    ").drop(\n",
    "    columns=['PATIENT_ID', 'EPISODE_ID']\n",
    ").rename(\n",
    "    columns = {'PATIENT_ID_PREV': 'PATIENT_ID', 'EPISODE_ID_PREV': 'EPISODE_ID'}\n",
    ")\n",
    "filteredIcdDf = filteredIcdDf[((pd.to_datetime(filteredIcdDf.start_date) - pd.Timedelta(weeks=52)) < pd.to_datetime(filteredIcdDf.start_date_PREV)) & (pd.to_datetime(filteredIcdDf.start_date) >= pd.to_datetime(filteredIcdDf.start_date_PREV))]\n",
    "filteredIcdDf = filteredIcdDf.drop(columns=['start_date', 'start_date_PREV'])\n",
    "filteredIcdDf = filteredIcdDf.merge(\n",
    "    icdMappingsDf,\n",
    "    how='inner',\n",
    "    left_on=['ICD_DESCRIPTION'],\n",
    "    right_on=['Input_Text'],\n",
    ")\n",
    "# filteredIcdDf = icdDf.merge(\n",
    "#     datamatrixDf[['person_id', 'visit_occurrence_id']].drop_duplicates(),\n",
    "#     how='inner',\n",
    "#     left_on=['PATIENT_ID', 'EPISODE_ID'],\n",
    "#     right_on=['person_id', 'visit_occurrence_id']\n",
    "#     )\n",
    "# icdDf[['PATIENT_ID', 'EPISODE_ID']].drop_duplicates().shape, filteredIcdDf[['PATIENT_ID', 'EPISODE_ID']].drop_duplicates().shape, datamatrixDf[['person_id', 'visit_occurrence_id']].drop_duplicates().shape\n",
    "# (pd.to_datetime(filteredIcdDf.start_date) - pd.to_datetime(filteredIcdDf.start_date_PREV)).dt.days.hist(bins=100)\n",
    "# filteredIcdDf[['PATIENT_ID', 'EPISODE_ID']].drop_duplicates().shape, filteredIcdDf[['PATIENT_ID_PREV', 'EPISODE_ID_PREV']].drop_duplicates().shape, datamatrixDf[['person_id', 'visit_occurrence_id']].drop_duplicates().shape\n",
    "# filteredIcdDf[['PATIENT_ID']].drop_duplicates().shape, filteredIcdDf[['PATIENT_ID_PREV']].drop_duplicates().shape, datamatrixDf[['person_id']].drop_duplicates().shape\n",
    "filteredIcdDf\n"
   ]
  },
  {
   "cell_type": "markdown",
   "metadata": {},
   "source": [
    "## Obtaining Co-morbidities from Charlson Comorbidity Index"
   ]
  },
  {
   "cell_type": "markdown",
   "metadata": {},
   "source": [
    "### Myocardial infarction"
   ]
  },
  {
   "cell_type": "code",
   "execution_count": 7,
   "metadata": {},
   "outputs": [
    {
     "data": {
      "text/plain": [
       "AUSTRALIAN_MODIFICATION  ICD_DESCRIPTION                                           \n",
       "I214                     Acute subendocardial myocardial infarction                    4565\n",
       "I211                     Acute transmural myocardial infarction of inferior wall       1447\n",
       "I219                     Acute myocardial infarction, unspecified                       409\n",
       "I210                     Acute transmural myocardial infarction of anterior wall        144\n",
       "I213                     Acute transmural myocardial infarction of unspecified site      48\n",
       "I212                     Acute transmural myocardial infarction of other sites           14\n",
       "dtype: int64"
      ]
     },
     "execution_count": 7,
     "metadata": {},
     "output_type": "execute_result"
    }
   ],
   "source": [
    "filteredIcdDf[\n",
    "    (filteredIcdDf.Matched_Code.str.startswith('I21'))\n",
    "    |\n",
    "    (filteredIcdDf.Matched_Code.str.startswith('I22'))\n",
    "    |\n",
    "    (filteredIcdDf.Matched_Code.str.startswith('I252'))\n",
    "][['AUSTRALIAN_MODIFICATION', 'ICD_DESCRIPTION']].value_counts()"
   ]
  },
  {
   "cell_type": "code",
   "execution_count": 8,
   "metadata": {},
   "outputs": [
    {
     "data": {
      "text/plain": [
       "5.67"
      ]
     },
     "execution_count": 8,
     "metadata": {},
     "output_type": "execute_result"
    }
   ],
   "source": [
    "round(filteredIcdDf[\n",
    "    (filteredIcdDf.Matched_Code.str.startswith('I21'))\n",
    "    |\n",
    "    (filteredIcdDf.Matched_Code.str.startswith('I22'))\n",
    "    |\n",
    "    (filteredIcdDf.Matched_Code.str.startswith('I252'))\n",
    "].PATIENT_ID.unique().shape[0]/datamatrixDf.person_id.unique().shape[0] * 100, 2)"
   ]
  },
  {
   "cell_type": "markdown",
   "metadata": {},
   "source": [
    "### Congestive heart failure"
   ]
  },
  {
   "cell_type": "code",
   "execution_count": 9,
   "metadata": {},
   "outputs": [
    {
     "data": {
      "text/plain": [
       "Matched_Code  ICD_DESCRIPTION                                      \n",
       "I50.0         Congestive heart failure                                 12569\n",
       "I50.84        Chronic heart failure                                    11980\n",
       "I50.9         Heart failure, unspecified                                9180\n",
       "I50.1         Left ventricular failure                                  7752\n",
       "I43.8         Cardiomyopathy in other diseases classified elsewhere      112\n",
       "I43.1         Cardiomyopathy in metabolic diseases                         5\n",
       "dtype: int64"
      ]
     },
     "execution_count": 9,
     "metadata": {},
     "output_type": "execute_result"
    }
   ],
   "source": [
    "filteredIcdDf[\n",
    "    (filteredIcdDf.Matched_Code.str.startswith('I099'))\n",
    "    |\n",
    "    (filteredIcdDf.Matched_Code.str.startswith('I110'))\n",
    "    |\n",
    "    (filteredIcdDf.Matched_Code.str.startswith('I130'))\n",
    "    |\n",
    "    (filteredIcdDf.Matched_Code.str.startswith('I132'))\n",
    "    |\n",
    "    (filteredIcdDf.Matched_Code.str.startswith('I255'))\n",
    "    |\n",
    "    (filteredIcdDf.Matched_Code.str.startswith('I420'))\n",
    "    |\n",
    "    (filteredIcdDf.Matched_Code.str.startswith('I425'))\n",
    "    |\n",
    "    (filteredIcdDf.Matched_Code.str.startswith('I426'))\n",
    "    |\n",
    "    (filteredIcdDf.Matched_Code.str.startswith('I427'))\n",
    "    |\n",
    "    (filteredIcdDf.Matched_Code.str.startswith('I428'))\n",
    "    |\n",
    "    (filteredIcdDf.Matched_Code.str.startswith('I429'))\n",
    "    |\n",
    "    (filteredIcdDf.Matched_Code.str.startswith('I43'))\n",
    "    |\n",
    "    (filteredIcdDf.Matched_Code.str.startswith('I50'))\n",
    "    |\n",
    "    (filteredIcdDf.Matched_Code.str.startswith('P290'))\n",
    "][['Matched_Code', 'ICD_DESCRIPTION']].value_counts()"
   ]
  },
  {
   "cell_type": "code",
   "execution_count": 10,
   "metadata": {},
   "outputs": [
    {
     "data": {
      "text/plain": [
       "14.53"
      ]
     },
     "execution_count": 10,
     "metadata": {},
     "output_type": "execute_result"
    }
   ],
   "source": [
    "round(filteredIcdDf[\n",
    "    (filteredIcdDf.Matched_Code.str.startswith('I099'))\n",
    "    |\n",
    "    (filteredIcdDf.Matched_Code.str.startswith('I110'))\n",
    "    |\n",
    "    (filteredIcdDf.Matched_Code.str.startswith('I130'))\n",
    "    |\n",
    "    (filteredIcdDf.Matched_Code.str.startswith('I132'))\n",
    "    |\n",
    "    (filteredIcdDf.Matched_Code.str.startswith('I255'))\n",
    "    |\n",
    "    (filteredIcdDf.Matched_Code.str.startswith('I420'))\n",
    "    |\n",
    "    (filteredIcdDf.Matched_Code.str.startswith('I425'))\n",
    "    |\n",
    "    (filteredIcdDf.Matched_Code.str.startswith('I426'))\n",
    "    |\n",
    "    (filteredIcdDf.Matched_Code.str.startswith('I427'))\n",
    "    |\n",
    "    (filteredIcdDf.Matched_Code.str.startswith('I428'))\n",
    "    |\n",
    "    (filteredIcdDf.Matched_Code.str.startswith('I429'))\n",
    "    |\n",
    "    (filteredIcdDf.Matched_Code.str.startswith('I43'))\n",
    "    |\n",
    "    (filteredIcdDf.Matched_Code.str.startswith('I50'))\n",
    "    |\n",
    "    (filteredIcdDf.Matched_Code.str.startswith('P290'))\n",
    "].PATIENT_ID.unique().shape[0]/datamatrixDf.person_id.unique().shape[0] * 100, 2)"
   ]
  },
  {
   "cell_type": "markdown",
   "metadata": {},
   "source": [
    "## Peripheral vascular disease"
   ]
  },
  {
   "cell_type": "code",
   "execution_count": 11,
   "metadata": {},
   "outputs": [
    {
     "data": {
      "text/plain": [
       "Matched_Code  ICD_DESCRIPTION                                                          \n",
       "I70.21        Atherosclerosis of arteries of extremities with intermittent claudication    527\n",
       "I70.2         Atherosclerosis of arteries of extremities, unspecified                      441\n",
       "I70.25        Atherosclerosis of arteries of extremities with ulceration                   428\n",
       "I70.22        Atherosclerosis of arteries of extremities with rest pain                    233\n",
       "I71.01        Dissection of thoracic aorta                                                 162\n",
       "I70.26        Atherosclerosis of arteries of extremities with gangrene                     158\n",
       "I71.4         Abdominal aortic aneurysm, without mention of rupture                        132\n",
       "I70.8         Atherosclerosis of other arteries                                            103\n",
       "I70.1         Atherosclerosis of renal artery                                               25\n",
       "I71.2         Thoracic aortic aneurysm, without mention of rupture                          19\n",
       "I71.5         Thoracoabdominal aortic aneurysm, ruptured                                    17\n",
       "I71.03        Dissection of thoracoabdominal aorta                                          16\n",
       "I71.9         Aortic aneurysm of unspecified site, without mention of rupture               14\n",
       "I70.0         Atherosclerosis of aorta                                                       8\n",
       "I71.00        Dissection of aorta, unspecified site                                          8\n",
       "dtype: int64"
      ]
     },
     "execution_count": 11,
     "metadata": {},
     "output_type": "execute_result"
    }
   ],
   "source": [
    "filteredIcdDf[\n",
    "    (filteredIcdDf.Matched_Code.str.startswith('I70'))\n",
    "    |\n",
    "    (filteredIcdDf.Matched_Code.str.startswith('I71'))\n",
    "    |\n",
    "    (filteredIcdDf.Matched_Code.str.startswith('I731'))\n",
    "    |\n",
    "    (filteredIcdDf.Matched_Code.str.startswith('I738'))\n",
    "    |\n",
    "    (filteredIcdDf.Matched_Code.str.startswith('I739'))\n",
    "    |\n",
    "    (filteredIcdDf.Matched_Code.str.startswith('I771'))\n",
    "    |\n",
    "    (filteredIcdDf.Matched_Code.str.startswith('I790'))\n",
    "    |\n",
    "    (filteredIcdDf.Matched_Code.str.startswith('I792'))\n",
    "    |\n",
    "    (filteredIcdDf.Matched_Code.str.startswith('K551'))\n",
    "    |\n",
    "    (filteredIcdDf.Matched_Code.str.startswith('K558'))\n",
    "    |\n",
    "    (filteredIcdDf.Matched_Code.str.startswith('K559'))\n",
    "    |\n",
    "    (filteredIcdDf.Matched_Code.str.startswith('Z958'))\n",
    "    |\n",
    "    (filteredIcdDf.Matched_Code.str.startswith('Z959'))\n",
    "][['Matched_Code', 'ICD_DESCRIPTION']].value_counts()"
   ]
  },
  {
   "cell_type": "code",
   "execution_count": 12,
   "metadata": {},
   "outputs": [
    {
     "data": {
      "text/plain": [
       "1.85"
      ]
     },
     "execution_count": 12,
     "metadata": {},
     "output_type": "execute_result"
    }
   ],
   "source": [
    "round(filteredIcdDf[\n",
    "    (filteredIcdDf.Matched_Code.str.startswith('I70'))\n",
    "    |\n",
    "    (filteredIcdDf.Matched_Code.str.startswith('I71'))\n",
    "    |\n",
    "    (filteredIcdDf.Matched_Code.str.startswith('I731'))\n",
    "    |\n",
    "    (filteredIcdDf.Matched_Code.str.startswith('I738'))\n",
    "    |\n",
    "    (filteredIcdDf.Matched_Code.str.startswith('I739'))\n",
    "    |\n",
    "    (filteredIcdDf.Matched_Code.str.startswith('I771'))\n",
    "    |\n",
    "    (filteredIcdDf.Matched_Code.str.startswith('I790'))\n",
    "    |\n",
    "    (filteredIcdDf.Matched_Code.str.startswith('I792'))\n",
    "    |\n",
    "    (filteredIcdDf.Matched_Code.str.startswith('K551'))\n",
    "    |\n",
    "    (filteredIcdDf.Matched_Code.str.startswith('K558'))\n",
    "    |\n",
    "    (filteredIcdDf.Matched_Code.str.startswith('K559'))\n",
    "    |\n",
    "    (filteredIcdDf.Matched_Code.str.startswith('Z958'))\n",
    "    |\n",
    "    (filteredIcdDf.Matched_Code.str.startswith('Z959'))\n",
    "].PATIENT_ID.unique().shape[0]/datamatrixDf.person_id.unique().shape[0] * 100, 2)"
   ]
  },
  {
   "cell_type": "markdown",
   "metadata": {},
   "source": [
    "## Cerebrovascular disease"
   ]
  },
  {
   "cell_type": "code",
   "execution_count": 13,
   "metadata": {},
   "outputs": [
    {
     "data": {
      "text/plain": [
       "Matched_Code  ICD_DESCRIPTION                                                                     \n",
       "I67.8         Other specified cerebrovascular diseases                                                2725\n",
       "I61.1         Intracerebral haemorrhage in hemisphere, cortical                                       2150\n",
       "I63.4         Cerebral infarction due to embolism of cerebral arteries                                1089\n",
       "I63.9         Cerebral infarction, unspecified                                                         961\n",
       "I66.0         Occlusion and stenosis of middle cerebral artery                                         604\n",
       "G46.0         Middle cerebral artery syndrome (I66.0+)                                                 568\n",
       "I61.6         Multiple intracerebral and cerebellar haematomas                                         402\n",
       "I61.5         Intracerebral haemorrhage, intraventricular                                              390\n",
       "I60.1         Subarachnoid haemorrhage from middle cerebral artery                                     339\n",
       "G45.9         Transient cerebral ischaemic attack, unspecified                                         296\n",
       "I60.8         Other subarachnoid haemorrhage                                                           239\n",
       "I61.0         Intracerebral haemorrhage in hemisphere, subcortical                                     174\n",
       "I61.8         Other intracerebral haemorrhage                                                          166\n",
       "I67.1         Cerebral aneurysm, nonruptured                                                           147\n",
       "I63.5         Cerebral infarction due to unspecified occlusion or stenosis of cerebral arteries        141\n",
       "I69.4         Sequelae of stroke, not specified as haemorrhage or infarction                           137\n",
       "I65.2         Occlusion and stenosis of carotid artery                                                 131\n",
       "I69.3         Sequelae of cerebral infarction                                                          129\n",
       "I63.0         Cerebral infarction due to thrombosis of precerebral arteries                            129\n",
       "I60.9         Subarachnoid haemorrhage, unspecified                                                    109\n",
       "I63.3         Cerebral infarction due to thrombosis of cerebral arteries                                82\n",
       "I66.9         Occlusion and stenosis of unspecified cerebral artery                                     66\n",
       "I65.1         Occlusion and stenosis of basilar artery                                                  62\n",
       "I64           Stroke, not specified as haemorrhage or infarction                                        61\n",
       "I61.6         Focal cerebral haematoma                                                                  61\n",
       "I67.4         Hypertensive encephalopathy                                                               56\n",
       "I60.2         Subarachnoid haemorrhage from anterior communicating artery                               53\n",
       "I61.9         Intracerebral haemorrhage, unspecified                                                    34\n",
       "I63.89        Other cerebral infarction                                                                 29\n",
       "I61.4         Intracerebral haemorrhage in cerebellum                                                   22\n",
       "I62.1         Nontraumatic extradural haemorrhage                                                       21\n",
       "I63.1         Cerebral infarction due to embolism of precerebral arteries                               17\n",
       "I67.85        Personal history of cerebrovascular disease                                               12\n",
       "I61.4         Focal cerebellar haematoma                                                                12\n",
       "I63.2         Cerebral infarction due to unspecified occlusion or stenosis of precerebral arteries      10\n",
       "I69.0         Sequelae of subarachnoid haemorrhage                                                       8\n",
       "I67.2         Cerebral atherosclerosis                                                                   8\n",
       "I68.0         Cerebral amyloid angiopathy (E85.-+)                                                       6\n",
       "I61.2         Intracerebral haemorrhage in hemisphere, unspecified                                       5\n",
       "I62.9         Intracranial haemorrhage (nontraumatic), unspecified                                       4\n",
       "I69.992       Facial paralysis due to cerebrovascular accident                                           4\n",
       "I60.7         Subarachnoid haemorrhage from intracranial artery, unspecified                             2\n",
       "I69.1         Sequelae of intracerebral haemorrhage                                                      2\n",
       "I61.3         Intracerebral haemorrhage in brain stem                                                    1\n",
       "dtype: int64"
      ]
     },
     "execution_count": 13,
     "metadata": {},
     "output_type": "execute_result"
    }
   ],
   "source": [
    "filteredIcdDf[\n",
    "    (filteredIcdDf.Matched_Code.str.startswith('G45'))\n",
    "    |\n",
    "    (filteredIcdDf.Matched_Code.str.startswith('G46'))\n",
    "    |\n",
    "    (filteredIcdDf.Matched_Code.str.startswith('I6'))\n",
    "    |\n",
    "    (filteredIcdDf.Matched_Code.str.startswith('H340'))\n",
    "][['Matched_Code', 'ICD_DESCRIPTION']].value_counts()"
   ]
  },
  {
   "cell_type": "code",
   "execution_count": 14,
   "metadata": {},
   "outputs": [
    {
     "data": {
      "text/plain": [
       "5.85"
      ]
     },
     "execution_count": 14,
     "metadata": {},
     "output_type": "execute_result"
    }
   ],
   "source": [
    "round(filteredIcdDf[\n",
    "    (filteredIcdDf.Matched_Code.str.startswith('G45'))\n",
    "    |\n",
    "    (filteredIcdDf.Matched_Code.str.startswith('G46'))\n",
    "    |\n",
    "    (filteredIcdDf.Matched_Code.str.startswith('I6'))\n",
    "    |\n",
    "    (filteredIcdDf.Matched_Code.str.startswith('H340'))\n",
    "].PATIENT_ID.unique().shape[0]/datamatrixDf.person_id.unique().shape[0] * 100, 2)"
   ]
  },
  {
   "cell_type": "markdown",
   "metadata": {},
   "source": [
    "### Dementia"
   ]
  },
  {
   "cell_type": "code",
   "execution_count": 15,
   "metadata": {},
   "outputs": [
    {
     "data": {
      "text/plain": [
       "Matched_Code  ICD_DESCRIPTION                                                                            \n",
       "F00           Dementia (including in Alzheimer's disease)                                                    1717\n",
       "F00.9         Dementia in Alzheimer's disease, unspecified (G30.9+)                                           199\n",
       "G30.9         Alzheimer's disease, unspecified                                                                195\n",
       "F03           Dementia                                                                                        169\n",
       "F01.9         Vascular dementia, unspecified                                                                  119\n",
       "F03           Unspecified dementia                                                                            108\n",
       "F02.3         Dementia in Parkinson's disease (G20+)                                                           67\n",
       "G30.8         Other Alzheimer's disease                                                                        61\n",
       "F02.8         Dementia in other specified diseases classified elsewhere                                        33\n",
       "F02.0         Dementia in Pick's disease (G31.0+)                                                              18\n",
       "F00.1         Dementia in Alzheimer's disease with late onset (G30.1+)                                          5\n",
       "G30.1         Alzheimer's disease with late onset                                                               5\n",
       "F01.9         Vascular dementia, unspecified, without mention of psychological or behavioural disturbance       1\n",
       "dtype: int64"
      ]
     },
     "execution_count": 15,
     "metadata": {},
     "output_type": "execute_result"
    }
   ],
   "source": [
    "filteredIcdDf[\n",
    "    (filteredIcdDf.Matched_Code.str.startswith('F00'))\n",
    "    |\n",
    "    (filteredIcdDf.Matched_Code.str.startswith('F01'))\n",
    "    |\n",
    "    (filteredIcdDf.Matched_Code.str.startswith('F02'))\n",
    "    |\n",
    "    (filteredIcdDf.Matched_Code.str.startswith('F03'))\n",
    "    |\n",
    "    (filteredIcdDf.Matched_Code.str.startswith('G30'))\n",
    "    |\n",
    "    (filteredIcdDf.Matched_Code.str.startswith('F051'))\n",
    "    |\n",
    "    (filteredIcdDf.Matched_Code.str.startswith('G311'))\n",
    "][['Matched_Code', 'ICD_DESCRIPTION']].value_counts()"
   ]
  },
  {
   "cell_type": "code",
   "execution_count": 16,
   "metadata": {},
   "outputs": [
    {
     "data": {
      "text/plain": [
       "3.8"
      ]
     },
     "execution_count": 16,
     "metadata": {},
     "output_type": "execute_result"
    }
   ],
   "source": [
    "round(filteredIcdDf[\n",
    "    (filteredIcdDf.Matched_Code.str.startswith('F00'))\n",
    "    |\n",
    "    (filteredIcdDf.Matched_Code.str.startswith('F01'))\n",
    "    |\n",
    "    (filteredIcdDf.Matched_Code.str.startswith('F02'))\n",
    "    |\n",
    "    (filteredIcdDf.Matched_Code.str.startswith('F03'))\n",
    "    |\n",
    "    (filteredIcdDf.Matched_Code.str.startswith('G30'))\n",
    "    |\n",
    "    (filteredIcdDf.Matched_Code.str.startswith('F051'))\n",
    "    |\n",
    "    (filteredIcdDf.Matched_Code.str.startswith('G311'))\n",
    "].PATIENT_ID.unique().shape[0]/datamatrixDf.person_id.unique().shape[0] * 100, 2)"
   ]
  },
  {
   "cell_type": "markdown",
   "metadata": {},
   "source": [
    "## Chronic pulmonary disease"
   ]
  },
  {
   "cell_type": "code",
   "execution_count": 17,
   "metadata": {},
   "outputs": [
    {
     "data": {
      "text/plain": [
       "Matched_Code  ICD_DESCRIPTION                                                             \n",
       "J45.909       Asthma, without mention of chronic obstructive pulmonary disease                24521\n",
       "J44.9         Chronic obstructive pulmonary disease                                            6758\n",
       "J44.0         Chronic obstructive pulmonary disease with acute lower respiratory infection     6196\n",
       "J44.1         Chronic obstructive pulmonary disease with acute exacerbation, unspecified       2835\n",
       "J45.9         Asthma, unspecified                                                              1627\n",
       "J47           Bronchiectasis                                                                   1301\n",
       "J47.9         Bronchiectasis, without mention of cystic fibrosis                               1224\n",
       "J44.9         Chronic obstructive pulmonary disease, unspecified                                389\n",
       "J43.8         Emphysema, without mention of chronic obstructive pulmonary disease               235\n",
       "J45.0         Predominantly allergic asthma                                                     192\n",
       "J44.8         Other specified chronic obstructive pulmonary disease                             145\n",
       "J43.9         Emphysema, unspecified                                                            125\n",
       "J40           Bronchitis, not specified as acute or chronic                                      78\n",
       "J62.8         Pneumoconiosis due to other dust containing silica                                 65\n",
       "J41.0         Simple chronic bronchitis                                                          63\n",
       "J67.9         Hypersensitivity pneumonitis due to unspecified organic dust                        9\n",
       "dtype: int64"
      ]
     },
     "execution_count": 17,
     "metadata": {},
     "output_type": "execute_result"
    }
   ],
   "source": [
    "filteredIcdDf[\n",
    "    (filteredIcdDf.Matched_Code.str.startswith('I278'))\n",
    "    |\n",
    "    (filteredIcdDf.Matched_Code.str.startswith('I279'))\n",
    "    |\n",
    "    (filteredIcdDf.Matched_Code.str.startswith('J40')) | (filteredIcdDf.Matched_Code.str.startswith('J41')) | (filteredIcdDf.Matched_Code.str.startswith('J42')) | (filteredIcdDf.Matched_Code.str.startswith('J43')) | (filteredIcdDf.Matched_Code.str.startswith('J44')) | (filteredIcdDf.Matched_Code.str.startswith('J45')) | (filteredIcdDf.Matched_Code.str.startswith('J46')) | (filteredIcdDf.Matched_Code.str.startswith('J47'))\n",
    "    |\n",
    "    (filteredIcdDf.Matched_Code.str.startswith('J60')) | (filteredIcdDf.Matched_Code.str.startswith('J61')) | (filteredIcdDf.Matched_Code.str.startswith('J62')) | (filteredIcdDf.Matched_Code.str.startswith('J63')) | (filteredIcdDf.Matched_Code.str.startswith('J64')) | (filteredIcdDf.Matched_Code.str.startswith('J65')) | (filteredIcdDf.Matched_Code.str.startswith('J66')) | (filteredIcdDf.Matched_Code.str.startswith('J67'))\n",
    "    |\n",
    "    (filteredIcdDf.Matched_Code.str.startswith('J684'))\n",
    "    |\n",
    "    (filteredIcdDf.Matched_Code.str.startswith('J701'))\n",
    "    |\n",
    "    (filteredIcdDf.Matched_Code.str.startswith('J703'))\n",
    "][['Matched_Code', 'ICD_DESCRIPTION']].value_counts()"
   ]
  },
  {
   "cell_type": "code",
   "execution_count": 18,
   "metadata": {},
   "outputs": [
    {
     "data": {
      "text/plain": [
       "12.81"
      ]
     },
     "execution_count": 18,
     "metadata": {},
     "output_type": "execute_result"
    }
   ],
   "source": [
    "round(filteredIcdDf[\n",
    "    (filteredIcdDf.Matched_Code.str.startswith('I278'))\n",
    "    |\n",
    "    (filteredIcdDf.Matched_Code.str.startswith('I279'))\n",
    "    |\n",
    "    (filteredIcdDf.Matched_Code.str.startswith('J40')) | (filteredIcdDf.Matched_Code.str.startswith('J41')) | (filteredIcdDf.Matched_Code.str.startswith('J42')) | (filteredIcdDf.Matched_Code.str.startswith('J43')) | (filteredIcdDf.Matched_Code.str.startswith('J44')) | (filteredIcdDf.Matched_Code.str.startswith('J45')) | (filteredIcdDf.Matched_Code.str.startswith('J46')) | (filteredIcdDf.Matched_Code.str.startswith('J47'))\n",
    "    |\n",
    "    (filteredIcdDf.Matched_Code.str.startswith('J60')) | (filteredIcdDf.Matched_Code.str.startswith('J61')) | (filteredIcdDf.Matched_Code.str.startswith('J62')) | (filteredIcdDf.Matched_Code.str.startswith('J63')) | (filteredIcdDf.Matched_Code.str.startswith('J64')) | (filteredIcdDf.Matched_Code.str.startswith('J65')) | (filteredIcdDf.Matched_Code.str.startswith('J66')) | (filteredIcdDf.Matched_Code.str.startswith('J67'))\n",
    "    |\n",
    "    (filteredIcdDf.Matched_Code.str.startswith('J684'))\n",
    "    |\n",
    "    (filteredIcdDf.Matched_Code.str.startswith('J701'))\n",
    "    |\n",
    "    (filteredIcdDf.Matched_Code.str.startswith('J703'))\n",
    "].PATIENT_ID.unique().shape[0]/datamatrixDf.person_id.unique().shape[0] * 100, 2)"
   ]
  },
  {
   "cell_type": "markdown",
   "metadata": {},
   "source": [
    "## Rheumatologic disease"
   ]
  },
  {
   "cell_type": "code",
   "execution_count": 19,
   "metadata": {},
   "outputs": [
    {
     "data": {
      "text/plain": [
       "Matched_Code  ICD_DESCRIPTION                                               \n",
       "M06.9         Rheumatoid arthritis                                              2627\n",
       "M32           Systemic lupus erythematosus                                       641\n",
       "M34.9         Systemic sclerosis, unspecified                                    228\n",
       "M06.99        Rheumatoid arthritis, unspecified, site unspecified                111\n",
       "M32.1         Systemic lupus erythematosus with organ or system involvement       69\n",
       "M34.8         Other forms of systemic sclerosis                                   56\n",
       "M06.94        Rheumatoid arthritis, unspecified, hand                             52\n",
       "M06.96        Rheumatoid arthritis, unspecified, lower leg                        39\n",
       "M06.98        Rheumatoid arthritis, unspecified, other site                       18\n",
       "M32.8         Other forms of systemic lupus erythematosus                         16\n",
       "M06.95        Rheumatoid arthritis, unspecified, pelvic region and thigh          12\n",
       "M06.43        Inflammatory polyarthropathy, forearm                                8\n",
       "M05.94        Seropositive rheumatoid arthritis, unspecified, hand                 8\n",
       "M06.46        Inflammatory polyarthropathy, lower leg                              8\n",
       "M06.90        Rheumatoid arthritis, unspecified, multiple sites                    8\n",
       "M06.00        Seronegative rheumatoid arthritis, multiple sites                    7\n",
       "M34.1         CR(E)ST syndrome                                                     4\n",
       "M05.90        Seropositive rheumatoid arthritis, unspecified, multiple sites       4\n",
       "M33.2         Polymyositis                                                         4\n",
       "M32.9         Systemic lupus erythematosus, unspecified                            4\n",
       "M06.97        Rheumatoid arthritis, unspecified, ankle and foot                    2\n",
       "M05.00        Felty's syndrome, site unspecified                                   1\n",
       "dtype: int64"
      ]
     },
     "execution_count": 19,
     "metadata": {},
     "output_type": "execute_result"
    }
   ],
   "source": [
    "filteredIcdDf[\n",
    "    (filteredIcdDf.Matched_Code.str.startswith('M05'))\n",
    "    |\n",
    "    (filteredIcdDf.Matched_Code.str.startswith('M06'))\n",
    "    |\n",
    "    (filteredIcdDf.Matched_Code.str.startswith('M315'))\n",
    "    |\n",
    "    (filteredIcdDf.Matched_Code.str.startswith('M32'))\n",
    "    |\n",
    "    (filteredIcdDf.Matched_Code.str.startswith('M33'))\n",
    "    |\n",
    "    (filteredIcdDf.Matched_Code.str.startswith('M34'))\n",
    "    |\n",
    "    (filteredIcdDf.Matched_Code.str.startswith('M351'))\n",
    "    |\n",
    "    (filteredIcdDf.Matched_Code.str.startswith('M353'))\n",
    "    |\n",
    "    (filteredIcdDf.Matched_Code.str.startswith('M360'))\n",
    "][['Matched_Code', 'ICD_DESCRIPTION']].value_counts()"
   ]
  },
  {
   "cell_type": "code",
   "execution_count": 20,
   "metadata": {},
   "outputs": [
    {
     "data": {
      "text/plain": [
       "2.08"
      ]
     },
     "execution_count": 20,
     "metadata": {},
     "output_type": "execute_result"
    }
   ],
   "source": [
    "round(filteredIcdDf[\n",
    "    (filteredIcdDf.Matched_Code.str.startswith('M05'))\n",
    "    |\n",
    "    (filteredIcdDf.Matched_Code.str.startswith('M06'))\n",
    "    |\n",
    "    (filteredIcdDf.Matched_Code.str.startswith('M315'))\n",
    "    |\n",
    "    (filteredIcdDf.Matched_Code.str.startswith('M32'))\n",
    "    |\n",
    "    (filteredIcdDf.Matched_Code.str.startswith('M33'))\n",
    "    |\n",
    "    (filteredIcdDf.Matched_Code.str.startswith('M34'))\n",
    "    |\n",
    "    (filteredIcdDf.Matched_Code.str.startswith('M351'))\n",
    "    |\n",
    "    (filteredIcdDf.Matched_Code.str.startswith('M353'))\n",
    "    |\n",
    "    (filteredIcdDf.Matched_Code.str.startswith('M360'))\n",
    "].PATIENT_ID.unique().shape[0]/datamatrixDf.person_id.unique().shape[0] * 100, 2)"
   ]
  },
  {
   "cell_type": "markdown",
   "metadata": {},
   "source": [
    "## Peptic ulcer"
   ]
  },
  {
   "cell_type": "code",
   "execution_count": 21,
   "metadata": {},
   "outputs": [
    {
     "data": {
      "text/plain": [
       "Matched_Code  ICD_DESCRIPTION                                                                    \n",
       "K29.70        Gastritis, unspecified, without mention of haemorrhage                                 757\n",
       "K29.60        Other gastritis, without mention of haemorrhage                                        489\n",
       "K29.71        Gastritis, unspecified, with haemorrhage                                               298\n",
       "K29.1         Other acute gastritis                                                                  286\n",
       "K29.50        Chronic gastritis, unspecified, without mention of haemorrhage                         212\n",
       "K25.4         Gastric ulcer, chronic or unspecified with haemorrhage                                 202\n",
       "K29.80        Duodenitis, without mention of haemorrhage                                             162\n",
       "K26.4         Duodenal ulcer, chronic or unspecified with haemorrhage                                156\n",
       "K25.9         Gastric ulcer, unspecified as acute or chronic, without haemorrhage or perforation     125\n",
       "K29.0         Acute haemorrhagic gastritis                                                           111\n",
       "K26.2         Duodenal ulcer, acute with both haemorrhage and perforation                             81\n",
       "K26.5         Duodenal ulcer, chronic or unspecified with perforation                                 78\n",
       "K26.9         Duodenal ulcer, unspecified as acute or chronic, without haemorrhage or perforation     50\n",
       "K29.81        Duodenitis, with haemorrhage                                                            44\n",
       "K29.51        Chronic gastritis, unspecified, with haemorrhage                                        37\n",
       "K26.6         Duodenal ulcer, chronic or unspecified with both haemorrhage and perforation            27\n",
       "K29.61        Other gastritis, with haemorrhage                                                       20\n",
       "K25.0         Gastric ulcer, acute with haemorrhage                                                    8\n",
       "K25.7         Gastric ulcer, chronic without haemorrhage or perforation                                5\n",
       "K28.4         Gastrojejunal ulcer, chronic or unspecified with haemorrhage                             4\n",
       "K26.0         Duodenal ulcer, acute with haemorrhage                                                   2\n",
       "K27.9         Peptic ulcer, unspecified as acute or chronic, without haemorrhage or perforation        2\n",
       "K29.40        Chronic atrophic gastritis, without mention of haemorrhage                               1\n",
       "dtype: int64"
      ]
     },
     "execution_count": 21,
     "metadata": {},
     "output_type": "execute_result"
    }
   ],
   "source": [
    "filteredIcdDf[\n",
    "    (filteredIcdDf.Matched_Code.str.startswith('K25'))\n",
    "    |\n",
    "    (filteredIcdDf.Matched_Code.str.startswith('K26'))\n",
    "    |\n",
    "    (filteredIcdDf.Matched_Code.str.startswith('K27'))\n",
    "    |\n",
    "    (filteredIcdDf.Matched_Code.str.startswith('K28'))\n",
    "    |\n",
    "    (filteredIcdDf.Matched_Code.str.startswith('K29'))\n",
    "][['Matched_Code', 'ICD_DESCRIPTION']].value_counts()"
   ]
  },
  {
   "cell_type": "code",
   "execution_count": 22,
   "metadata": {},
   "outputs": [
    {
     "data": {
      "text/plain": [
       "3.14"
      ]
     },
     "execution_count": 22,
     "metadata": {},
     "output_type": "execute_result"
    }
   ],
   "source": [
    "round(filteredIcdDf[\n",
    "    (filteredIcdDf.Matched_Code.str.startswith('K25'))\n",
    "    |\n",
    "    (filteredIcdDf.Matched_Code.str.startswith('K26'))\n",
    "    |\n",
    "    (filteredIcdDf.Matched_Code.str.startswith('K27'))\n",
    "    |\n",
    "    (filteredIcdDf.Matched_Code.str.startswith('K28'))\n",
    "    |\n",
    "    (filteredIcdDf.Matched_Code.str.startswith('K29'))\n",
    "].PATIENT_ID.unique().shape[0]/datamatrixDf.person_id.unique().shape[0] * 100, 2)"
   ]
  },
  {
   "cell_type": "markdown",
   "metadata": {},
   "source": [
    "## Hemiplegia/paraplegia"
   ]
  },
  {
   "cell_type": "code",
   "execution_count": 23,
   "metadata": {},
   "outputs": [
    {
     "data": {
      "text/plain": [
       "Matched_Code  ICD_DESCRIPTION                              \n",
       "G81.9         Hemiplegia, unspecified                          2269\n",
       "G82.4         Spastic tetraplegia, unspecified, chronic          48\n",
       "G82.0         Flaccid paraplegia, incomplete, acute              17\n",
       "G82.5         Tetraplegia, unspecified, unspecified              10\n",
       "G82.0         Flaccid paraplegia, unspecified                     9\n",
       "G82.5         Tetraplegia, unspecified, chronic                   8\n",
       "G82.2         Paraplegia, unspecified, unspecified                2\n",
       "G82.22        Tetraplegia, unspecified, incomplete, chronic       1\n",
       "G82.5         Tetraplegia, unspecified, incomplete, acute         1\n",
       "dtype: int64"
      ]
     },
     "execution_count": 23,
     "metadata": {},
     "output_type": "execute_result"
    }
   ],
   "source": [
    "filteredIcdDf[\n",
    "    (filteredIcdDf.Matched_Code.str.startswith('G041'))\n",
    "    |\n",
    "    (filteredIcdDf.Matched_Code.str.startswith('G114'))\n",
    "    |\n",
    "    (filteredIcdDf.Matched_Code.str.startswith('G801'))\n",
    "    |\n",
    "    (filteredIcdDf.Matched_Code.str.startswith('G802'))\n",
    "    |\n",
    "    (filteredIcdDf.Matched_Code.str.startswith('G81'))\n",
    "    |\n",
    "    (filteredIcdDf.Matched_Code.str.startswith('G82'))\n",
    "    |\n",
    "    (filteredIcdDf.Matched_Code.str.startswith('G830'))\n",
    "    |\n",
    "    (filteredIcdDf.Matched_Code.str.startswith('G831'))\n",
    "    |\n",
    "    (filteredIcdDf.Matched_Code.str.startswith('G832'))\n",
    "    |\n",
    "    (filteredIcdDf.Matched_Code.str.startswith('G833'))\n",
    "    |\n",
    "    (filteredIcdDf.Matched_Code.str.startswith('G834'))\n",
    "    |\n",
    "    (filteredIcdDf.Matched_Code.str.startswith('G839'))\n",
    "][['Matched_Code', 'ICD_DESCRIPTION']].value_counts()"
   ]
  },
  {
   "cell_type": "code",
   "execution_count": 24,
   "metadata": {},
   "outputs": [
    {
     "data": {
      "text/plain": [
       "1.97"
      ]
     },
     "execution_count": 24,
     "metadata": {},
     "output_type": "execute_result"
    }
   ],
   "source": [
    "round(filteredIcdDf[\n",
    "    (filteredIcdDf.Matched_Code.str.startswith('G041'))\n",
    "    |\n",
    "    (filteredIcdDf.Matched_Code.str.startswith('G114'))\n",
    "    |\n",
    "    (filteredIcdDf.Matched_Code.str.startswith('G801'))\n",
    "    |\n",
    "    (filteredIcdDf.Matched_Code.str.startswith('G802'))\n",
    "    |\n",
    "    (filteredIcdDf.Matched_Code.str.startswith('G81'))\n",
    "    |\n",
    "    (filteredIcdDf.Matched_Code.str.startswith('G82'))\n",
    "    |\n",
    "    (filteredIcdDf.Matched_Code.str.startswith('G830'))\n",
    "    |\n",
    "    (filteredIcdDf.Matched_Code.str.startswith('G831'))\n",
    "    |\n",
    "    (filteredIcdDf.Matched_Code.str.startswith('G832'))\n",
    "    |\n",
    "    (filteredIcdDf.Matched_Code.str.startswith('G833'))\n",
    "    |\n",
    "    (filteredIcdDf.Matched_Code.str.startswith('G834'))\n",
    "    |\n",
    "    (filteredIcdDf.Matched_Code.str.startswith('G839'))\n",
    "].PATIENT_ID.unique().shape[0]/datamatrixDf.person_id.unique().shape[0] * 100, 2)"
   ]
  },
  {
   "cell_type": "markdown",
   "metadata": {},
   "source": [
    "## Diabetes without complications"
   ]
  },
  {
   "cell_type": "code",
   "execution_count": 25,
   "metadata": {},
   "outputs": [
    {
     "data": {
      "text/plain": [
       "Series([], dtype: int64)"
      ]
     },
     "execution_count": 25,
     "metadata": {},
     "output_type": "execute_result"
    }
   ],
   "source": [
    "filteredIcdDf[\n",
    "    (filteredIcdDf.Matched_Code.str.startswith('E100'))\n",
    "    |\n",
    "    (filteredIcdDf.Matched_Code.str.startswith('E101'))\n",
    "    |\n",
    "    (filteredIcdDf.Matched_Code.str.startswith('E106'))\n",
    "    |\n",
    "    (filteredIcdDf.Matched_Code.str.startswith('E108'))\n",
    "    |\n",
    "    (filteredIcdDf.Matched_Code.str.startswith('E109'))\n",
    "    |\n",
    "    (filteredIcdDf.Matched_Code.str.startswith('E110'))\n",
    "    |\n",
    "    (filteredIcdDf.Matched_Code.str.startswith('E111'))\n",
    "    |\n",
    "    (filteredIcdDf.Matched_Code.str.startswith('E116'))\n",
    "    |\n",
    "    (filteredIcdDf.Matched_Code.str.startswith('E118'))\n",
    "    |\n",
    "    (filteredIcdDf.Matched_Code.str.startswith('E119'))\n",
    "    |\n",
    "    (filteredIcdDf.Matched_Code.str.startswith('E120'))\n",
    "    |\n",
    "    (filteredIcdDf.Matched_Code.str.startswith('E121'))\n",
    "    |\n",
    "    (filteredIcdDf.Matched_Code.str.startswith('E126'))\n",
    "    |\n",
    "    (filteredIcdDf.Matched_Code.str.startswith('E128'))\n",
    "    |\n",
    "    (filteredIcdDf.Matched_Code.str.startswith('E129'))\n",
    "    |\n",
    "    (filteredIcdDf.Matched_Code.str.startswith('E130'))\n",
    "    |\n",
    "    (filteredIcdDf.Matched_Code.str.startswith('E131'))\n",
    "    |\n",
    "    (filteredIcdDf.Matched_Code.str.startswith('E136'))\n",
    "    |\n",
    "    (filteredIcdDf.Matched_Code.str.startswith('E138'))\n",
    "    |\n",
    "    (filteredIcdDf.Matched_Code.str.startswith('E139'))\n",
    "    |\n",
    "    (filteredIcdDf.Matched_Code.str.startswith('E140'))\n",
    "    |\n",
    "    (filteredIcdDf.Matched_Code.str.startswith('E141'))\n",
    "    |\n",
    "    (filteredIcdDf.Matched_Code.str.startswith('E146'))\n",
    "    |\n",
    "    (filteredIcdDf.Matched_Code.str.startswith('E148'))\n",
    "][['Matched_Code', 'ICD_DESCRIPTION']].value_counts()"
   ]
  },
  {
   "cell_type": "code",
   "execution_count": 26,
   "metadata": {},
   "outputs": [
    {
     "data": {
      "text/plain": [
       "0.0"
      ]
     },
     "execution_count": 26,
     "metadata": {},
     "output_type": "execute_result"
    }
   ],
   "source": [
    "round(filteredIcdDf[\n",
    "    (filteredIcdDf.Matched_Code.str.startswith('E100'))\n",
    "    |\n",
    "    (filteredIcdDf.Matched_Code.str.startswith('E101'))\n",
    "    |\n",
    "    (filteredIcdDf.Matched_Code.str.startswith('E106'))\n",
    "    |\n",
    "    (filteredIcdDf.Matched_Code.str.startswith('E108'))\n",
    "    |\n",
    "    (filteredIcdDf.Matched_Code.str.startswith('E109'))\n",
    "    |\n",
    "    (filteredIcdDf.Matched_Code.str.startswith('E110'))\n",
    "    |\n",
    "    (filteredIcdDf.Matched_Code.str.startswith('E111'))\n",
    "    |\n",
    "    (filteredIcdDf.Matched_Code.str.startswith('E116'))\n",
    "    |\n",
    "    (filteredIcdDf.Matched_Code.str.startswith('E118'))\n",
    "    |\n",
    "    (filteredIcdDf.Matched_Code.str.startswith('E119'))\n",
    "    |\n",
    "    (filteredIcdDf.Matched_Code.str.startswith('E120'))\n",
    "    |\n",
    "    (filteredIcdDf.Matched_Code.str.startswith('E121'))\n",
    "    |\n",
    "    (filteredIcdDf.Matched_Code.str.startswith('E126'))\n",
    "    |\n",
    "    (filteredIcdDf.Matched_Code.str.startswith('E128'))\n",
    "    |\n",
    "    (filteredIcdDf.Matched_Code.str.startswith('E129'))\n",
    "    |\n",
    "    (filteredIcdDf.Matched_Code.str.startswith('E130'))\n",
    "    |\n",
    "    (filteredIcdDf.Matched_Code.str.startswith('E131'))\n",
    "    |\n",
    "    (filteredIcdDf.Matched_Code.str.startswith('E136'))\n",
    "    |\n",
    "    (filteredIcdDf.Matched_Code.str.startswith('E138'))\n",
    "    |\n",
    "    (filteredIcdDf.Matched_Code.str.startswith('E139'))\n",
    "    |\n",
    "    (filteredIcdDf.Matched_Code.str.startswith('E140'))\n",
    "    |\n",
    "    (filteredIcdDf.Matched_Code.str.startswith('E141'))\n",
    "    |\n",
    "    (filteredIcdDf.Matched_Code.str.startswith('E146'))\n",
    "    |\n",
    "    (filteredIcdDf.Matched_Code.str.startswith('E148'))\n",
    "].PATIENT_ID.unique().shape[0]/datamatrixDf.person_id.unique().shape[0] * 100, 2)"
   ]
  },
  {
   "cell_type": "markdown",
   "metadata": {},
   "source": [
    "## Diabetes with chronic complications"
   ]
  },
  {
   "cell_type": "code",
   "execution_count": 27,
   "metadata": {},
   "outputs": [
    {
     "data": {
      "text/plain": [
       "Series([], dtype: int64)"
      ]
     },
     "execution_count": 27,
     "metadata": {},
     "output_type": "execute_result"
    }
   ],
   "source": [
    "filteredIcdDf[\n",
    "    (filteredIcdDf.Matched_Code.str.startswith('E102'))\n",
    "    |\n",
    "    (filteredIcdDf.Matched_Code.str.startswith('E103'))\n",
    "    |\n",
    "    (filteredIcdDf.Matched_Code.str.startswith('E104'))\n",
    "    |\n",
    "    (filteredIcdDf.Matched_Code.str.startswith('E105'))\n",
    "    |\n",
    "    (filteredIcdDf.Matched_Code.str.startswith('E107'))\n",
    "    |\n",
    "    (filteredIcdDf.Matched_Code.str.startswith('E112'))\n",
    "    |\n",
    "    (filteredIcdDf.Matched_Code.str.startswith('E115'))\n",
    "    |\n",
    "    (filteredIcdDf.Matched_Code.str.startswith('E117'))\n",
    "    |\n",
    "    (filteredIcdDf.Matched_Code.str.startswith('E122'))\n",
    "    |\n",
    "    (filteredIcdDf.Matched_Code.str.startswith('E123'))\n",
    "    |\n",
    "    (filteredIcdDf.Matched_Code.str.startswith('E124'))\n",
    "    |\n",
    "    (filteredIcdDf.Matched_Code.str.startswith('E125'))\n",
    "    |\n",
    "    (filteredIcdDf.Matched_Code.str.startswith('E127'))\n",
    "    |\n",
    "    (filteredIcdDf.Matched_Code.str.startswith('E132'))\n",
    "    |\n",
    "    (filteredIcdDf.Matched_Code.str.startswith('E133'))\n",
    "    |\n",
    "    (filteredIcdDf.Matched_Code.str.startswith('E134'))\n",
    "    |\n",
    "    (filteredIcdDf.Matched_Code.str.startswith('E135'))\n",
    "    |\n",
    "    (filteredIcdDf.Matched_Code.str.startswith('E137'))\n",
    "    |\n",
    "    (filteredIcdDf.Matched_Code.str.startswith('E142'))\n",
    "    |\n",
    "    (filteredIcdDf.Matched_Code.str.startswith('E143'))\n",
    "    |\n",
    "    (filteredIcdDf.Matched_Code.str.startswith('E144'))\n",
    "    |\n",
    "    (filteredIcdDf.Matched_Code.str.startswith('E145'))\n",
    "    |\n",
    "    (filteredIcdDf.Matched_Code.str.startswith('E147'))\n",
    "][['Matched_Code', 'ICD_DESCRIPTION']].value_counts()"
   ]
  },
  {
   "cell_type": "code",
   "execution_count": 28,
   "metadata": {},
   "outputs": [
    {
     "data": {
      "text/plain": [
       "0.0"
      ]
     },
     "execution_count": 28,
     "metadata": {},
     "output_type": "execute_result"
    }
   ],
   "source": [
    "round(filteredIcdDf[\n",
    "    (filteredIcdDf.Matched_Code.str.startswith('E102'))\n",
    "    |\n",
    "    (filteredIcdDf.Matched_Code.str.startswith('E103'))\n",
    "    |\n",
    "    (filteredIcdDf.Matched_Code.str.startswith('E104'))\n",
    "    |\n",
    "    (filteredIcdDf.Matched_Code.str.startswith('E105'))\n",
    "    |\n",
    "    (filteredIcdDf.Matched_Code.str.startswith('E107'))\n",
    "    |\n",
    "    (filteredIcdDf.Matched_Code.str.startswith('E112'))\n",
    "    |\n",
    "    (filteredIcdDf.Matched_Code.str.startswith('E115'))\n",
    "    |\n",
    "    (filteredIcdDf.Matched_Code.str.startswith('E117'))\n",
    "    |\n",
    "    (filteredIcdDf.Matched_Code.str.startswith('E122'))\n",
    "    |\n",
    "    (filteredIcdDf.Matched_Code.str.startswith('E123'))\n",
    "    |\n",
    "    (filteredIcdDf.Matched_Code.str.startswith('E124'))\n",
    "    |\n",
    "    (filteredIcdDf.Matched_Code.str.startswith('E125'))\n",
    "    |\n",
    "    (filteredIcdDf.Matched_Code.str.startswith('E127'))\n",
    "    |\n",
    "    (filteredIcdDf.Matched_Code.str.startswith('E132'))\n",
    "    |\n",
    "    (filteredIcdDf.Matched_Code.str.startswith('E133'))\n",
    "    |\n",
    "    (filteredIcdDf.Matched_Code.str.startswith('E134'))\n",
    "    |\n",
    "    (filteredIcdDf.Matched_Code.str.startswith('E135'))\n",
    "    |\n",
    "    (filteredIcdDf.Matched_Code.str.startswith('E137'))\n",
    "    |\n",
    "    (filteredIcdDf.Matched_Code.str.startswith('E142'))\n",
    "    |\n",
    "    (filteredIcdDf.Matched_Code.str.startswith('E143'))\n",
    "    |\n",
    "    (filteredIcdDf.Matched_Code.str.startswith('E144'))\n",
    "    |\n",
    "    (filteredIcdDf.Matched_Code.str.startswith('E145'))\n",
    "    |\n",
    "    (filteredIcdDf.Matched_Code.str.startswith('E147'))\n",
    "].PATIENT_ID.unique().shape[0]/datamatrixDf.person_id.unique().shape[0] * 100, 2)"
   ]
  },
  {
   "cell_type": "markdown",
   "metadata": {},
   "source": [
    "## Mild liver disease"
   ]
  },
  {
   "cell_type": "code",
   "execution_count": 29,
   "metadata": {},
   "outputs": [
    {
     "data": {
      "text/plain": [
       "Matched_Code  ICD_DESCRIPTION                              \n",
       "B18.1         Chronic viral hepatitis B without delta-agent    18893\n",
       "B18.2         Chronic viral hepatitis C                        18026\n",
       "K74.6         Other and unspecified cirrhosis of liver          3774\n",
       "B18.0         Chronic viral hepatitis B with delta-agent           6\n",
       "K74.3         Primary biliary cirrhosis                            5\n",
       "dtype: int64"
      ]
     },
     "execution_count": 29,
     "metadata": {},
     "output_type": "execute_result"
    }
   ],
   "source": [
    "filteredIcdDf[\n",
    "    (filteredIcdDf.Matched_Code.str.startswith('B18'))\n",
    "    |\n",
    "    (filteredIcdDf.Matched_Code.str.startswith('K700'))\n",
    "    |\n",
    "    (filteredIcdDf.Matched_Code.str.startswith('K701'))\n",
    "    |\n",
    "    (filteredIcdDf.Matched_Code.str.startswith('K702'))\n",
    "    |\n",
    "    (filteredIcdDf.Matched_Code.str.startswith('K703'))\n",
    "    |\n",
    "    (filteredIcdDf.Matched_Code.str.startswith('K709'))\n",
    "    |\n",
    "    (filteredIcdDf.Matched_Code.str.startswith('K713'))\n",
    "    |\n",
    "    (filteredIcdDf.Matched_Code.str.startswith('K714'))\n",
    "    |\n",
    "    (filteredIcdDf.Matched_Code.str.startswith('K715'))\n",
    "    |\n",
    "    (filteredIcdDf.Matched_Code.str.startswith('K717'))\n",
    "    |\n",
    "    (filteredIcdDf.Matched_Code.str.startswith('K73'))\n",
    "    |\n",
    "    (filteredIcdDf.Matched_Code.str.startswith('K74'))\n",
    "    |\n",
    "    (filteredIcdDf.Matched_Code.str.startswith('K760'))\n",
    "    |\n",
    "    (filteredIcdDf.Matched_Code.str.startswith('K762'))\n",
    "    |\n",
    "    (filteredIcdDf.Matched_Code.str.startswith('K763'))\n",
    "    |\n",
    "    (filteredIcdDf.Matched_Code.str.startswith('K764'))\n",
    "    |\n",
    "    (filteredIcdDf.Matched_Code.str.startswith('K768'))\n",
    "    |\n",
    "    (filteredIcdDf.Matched_Code.str.startswith('K769'))\n",
    "    |\n",
    "    (filteredIcdDf.Matched_Code.str.startswith('Z944'))\n",
    "][['Matched_Code', 'ICD_DESCRIPTION']].value_counts()"
   ]
  },
  {
   "cell_type": "code",
   "execution_count": 30,
   "metadata": {},
   "outputs": [
    {
     "data": {
      "text/plain": [
       "5.01"
      ]
     },
     "execution_count": 30,
     "metadata": {},
     "output_type": "execute_result"
    }
   ],
   "source": [
    "round(filteredIcdDf[\n",
    "    (filteredIcdDf.Matched_Code.str.startswith('B18'))\n",
    "    |\n",
    "    (filteredIcdDf.Matched_Code.str.startswith('K700'))\n",
    "    |\n",
    "    (filteredIcdDf.Matched_Code.str.startswith('K701'))\n",
    "    |\n",
    "    (filteredIcdDf.Matched_Code.str.startswith('K702'))\n",
    "    |\n",
    "    (filteredIcdDf.Matched_Code.str.startswith('K703'))\n",
    "    |\n",
    "    (filteredIcdDf.Matched_Code.str.startswith('K709'))\n",
    "    |\n",
    "    (filteredIcdDf.Matched_Code.str.startswith('K713'))\n",
    "    |\n",
    "    (filteredIcdDf.Matched_Code.str.startswith('K714'))\n",
    "    |\n",
    "    (filteredIcdDf.Matched_Code.str.startswith('K715'))\n",
    "    |\n",
    "    (filteredIcdDf.Matched_Code.str.startswith('K717'))\n",
    "    |\n",
    "    (filteredIcdDf.Matched_Code.str.startswith('K73'))\n",
    "    |\n",
    "    (filteredIcdDf.Matched_Code.str.startswith('K74'))\n",
    "    |\n",
    "    (filteredIcdDf.Matched_Code.str.startswith('K760'))\n",
    "    |\n",
    "    (filteredIcdDf.Matched_Code.str.startswith('K762'))\n",
    "    |\n",
    "    (filteredIcdDf.Matched_Code.str.startswith('K763'))\n",
    "    |\n",
    "    (filteredIcdDf.Matched_Code.str.startswith('K764'))\n",
    "    |\n",
    "    (filteredIcdDf.Matched_Code.str.startswith('K768'))\n",
    "    |\n",
    "    (filteredIcdDf.Matched_Code.str.startswith('K769'))\n",
    "    |\n",
    "    (filteredIcdDf.Matched_Code.str.startswith('Z944'))\n",
    "].PATIENT_ID.unique().shape[0]/datamatrixDf.person_id.unique().shape[0] * 100, 2)"
   ]
  },
  {
   "cell_type": "markdown",
   "metadata": {},
   "source": [
    "## Moderate/severe liver disease"
   ]
  },
  {
   "cell_type": "code",
   "execution_count": 31,
   "metadata": {},
   "outputs": [
    {
     "data": {
      "text/plain": [
       "Series([], dtype: int64)"
      ]
     },
     "execution_count": 31,
     "metadata": {},
     "output_type": "execute_result"
    }
   ],
   "source": [
    "filteredIcdDf[\n",
    "    (filteredIcdDf.Matched_Code.str.startswith('I850'))\n",
    "    |\n",
    "    (filteredIcdDf.Matched_Code.str.startswith('I859'))\n",
    "    |\n",
    "    (filteredIcdDf.Matched_Code.str.startswith('I864'))\n",
    "    |\n",
    "    (filteredIcdDf.Matched_Code.str.startswith('I982'))\n",
    "    |\n",
    "    (filteredIcdDf.Matched_Code.str.startswith('K704'))\n",
    "    |\n",
    "    (filteredIcdDf.Matched_Code.str.startswith('K711'))\n",
    "    |\n",
    "    (filteredIcdDf.Matched_Code.str.startswith('K721'))\n",
    "    |\n",
    "    (filteredIcdDf.Matched_Code.str.startswith('K729'))\n",
    "    |\n",
    "    (filteredIcdDf.Matched_Code.str.startswith('K765'))\n",
    "    |\n",
    "    (filteredIcdDf.Matched_Code.str.startswith('K766'))\n",
    "    |\n",
    "    (filteredIcdDf.Matched_Code.str.startswith('K767'))\n",
    "][['Matched_Code', 'ICD_DESCRIPTION']].value_counts()"
   ]
  },
  {
   "cell_type": "code",
   "execution_count": 32,
   "metadata": {},
   "outputs": [
    {
     "data": {
      "text/plain": [
       "0.0"
      ]
     },
     "execution_count": 32,
     "metadata": {},
     "output_type": "execute_result"
    }
   ],
   "source": [
    "round(filteredIcdDf[\n",
    "    (filteredIcdDf.Matched_Code.str.startswith('I850'))\n",
    "    |\n",
    "    (filteredIcdDf.Matched_Code.str.startswith('I859'))\n",
    "    |\n",
    "    (filteredIcdDf.Matched_Code.str.startswith('I864'))\n",
    "    |\n",
    "    (filteredIcdDf.Matched_Code.str.startswith('I982'))\n",
    "    |\n",
    "    (filteredIcdDf.Matched_Code.str.startswith('K704'))\n",
    "    |\n",
    "    (filteredIcdDf.Matched_Code.str.startswith('K711'))\n",
    "    |\n",
    "    (filteredIcdDf.Matched_Code.str.startswith('K721'))\n",
    "    |\n",
    "    (filteredIcdDf.Matched_Code.str.startswith('K729'))\n",
    "    |\n",
    "    (filteredIcdDf.Matched_Code.str.startswith('K765'))\n",
    "    |\n",
    "    (filteredIcdDf.Matched_Code.str.startswith('K766'))\n",
    "    |\n",
    "    (filteredIcdDf.Matched_Code.str.startswith('K767'))\n",
    "].PATIENT_ID.unique().shape[0]/datamatrixDf.person_id.unique().shape[0] * 100, 2)"
   ]
  },
  {
   "cell_type": "markdown",
   "metadata": {},
   "source": [
    "## Renal disease"
   ]
  },
  {
   "cell_type": "code",
   "execution_count": 33,
   "metadata": {},
   "outputs": [
    {
     "data": {
      "text/plain": [
       "Matched_Code  ICD_DESCRIPTION                     \n",
       "N18.3         Chronic kidney disease, stage 3 to 5    16826\n",
       "N18.5         Chronic kidney disease, stage 5         15104\n",
       "N18.3         Chronic kidney disease, stage 3         10243\n",
       "N19           Unspecified kidney failure               6115\n",
       "N18.2         Chronic kidney disease, stage 2          4599\n",
       "N18.4         Chronic kidney disease, stage 4          3497\n",
       "N18.9         Chronic kidney disease, unspecified       935\n",
       "N18.1         Chronic kidney disease, stage 1            23\n",
       "dtype: int64"
      ]
     },
     "execution_count": 33,
     "metadata": {},
     "output_type": "execute_result"
    }
   ],
   "source": [
    "filteredIcdDf[\n",
    "    (filteredIcdDf.Matched_Code.str.startswith('I120'))\n",
    "    |\n",
    "    (filteredIcdDf.Matched_Code.str.startswith('I131'))\n",
    "    |\n",
    "    (filteredIcdDf.Matched_Code.str.startswith('N032'))\n",
    "    |\n",
    "    (filteredIcdDf.Matched_Code.str.startswith('N033'))\n",
    "    |\n",
    "    (filteredIcdDf.Matched_Code.str.startswith('N034'))\n",
    "    |\n",
    "    (filteredIcdDf.Matched_Code.str.startswith('N035'))\n",
    "    |\n",
    "    (filteredIcdDf.Matched_Code.str.startswith('N036'))\n",
    "    |\n",
    "    (filteredIcdDf.Matched_Code.str.startswith('N037'))\n",
    "    |\n",
    "    (filteredIcdDf.Matched_Code.str.startswith('N052'))\n",
    "    |\n",
    "    (filteredIcdDf.Matched_Code.str.startswith('N053'))\n",
    "    |\n",
    "    (filteredIcdDf.Matched_Code.str.startswith('N054'))\n",
    "    |\n",
    "    (filteredIcdDf.Matched_Code.str.startswith('N055'))\n",
    "    |\n",
    "    (filteredIcdDf.Matched_Code.str.startswith('N056'))\n",
    "    |\n",
    "    (filteredIcdDf.Matched_Code.str.startswith('N057'))\n",
    "    |\n",
    "    (filteredIcdDf.Matched_Code.str.startswith('N18'))\n",
    "    |\n",
    "    (filteredIcdDf.Matched_Code.str.startswith('N19'))\n",
    "    |\n",
    "    (filteredIcdDf.Matched_Code.str.startswith('N250'))\n",
    "    |\n",
    "    (filteredIcdDf.Matched_Code.str.startswith('Z490'))\n",
    "    |\n",
    "    (filteredIcdDf.Matched_Code.str.startswith('Z491'))\n",
    "    |\n",
    "    (filteredIcdDf.Matched_Code.str.startswith('Z492'))\n",
    "    |\n",
    "    (filteredIcdDf.Matched_Code.str.startswith('Z940'))\n",
    "    |\n",
    "    (filteredIcdDf.Matched_Code.str.startswith('Z992'))\n",
    "][['Matched_Code', 'ICD_DESCRIPTION']].value_counts()"
   ]
  },
  {
   "cell_type": "code",
   "execution_count": 34,
   "metadata": {},
   "outputs": [
    {
     "data": {
      "text/plain": [
       "15.84"
      ]
     },
     "execution_count": 34,
     "metadata": {},
     "output_type": "execute_result"
    }
   ],
   "source": [
    "round(filteredIcdDf[\n",
    "    (filteredIcdDf.Matched_Code.str.startswith('I120'))\n",
    "    |\n",
    "    (filteredIcdDf.Matched_Code.str.startswith('I131'))\n",
    "    |\n",
    "    (filteredIcdDf.Matched_Code.str.startswith('N032'))\n",
    "    |\n",
    "    (filteredIcdDf.Matched_Code.str.startswith('N033'))\n",
    "    |\n",
    "    (filteredIcdDf.Matched_Code.str.startswith('N034'))\n",
    "    |\n",
    "    (filteredIcdDf.Matched_Code.str.startswith('N035'))\n",
    "    |\n",
    "    (filteredIcdDf.Matched_Code.str.startswith('N036'))\n",
    "    |\n",
    "    (filteredIcdDf.Matched_Code.str.startswith('N037'))\n",
    "    |\n",
    "    (filteredIcdDf.Matched_Code.str.startswith('N052'))\n",
    "    |\n",
    "    (filteredIcdDf.Matched_Code.str.startswith('N053'))\n",
    "    |\n",
    "    (filteredIcdDf.Matched_Code.str.startswith('N054'))\n",
    "    |\n",
    "    (filteredIcdDf.Matched_Code.str.startswith('N055'))\n",
    "    |\n",
    "    (filteredIcdDf.Matched_Code.str.startswith('N056'))\n",
    "    |\n",
    "    (filteredIcdDf.Matched_Code.str.startswith('N057'))\n",
    "    |\n",
    "    (filteredIcdDf.Matched_Code.str.startswith('N18'))\n",
    "    |\n",
    "    (filteredIcdDf.Matched_Code.str.startswith('N19'))\n",
    "    |\n",
    "    (filteredIcdDf.Matched_Code.str.startswith('N250'))\n",
    "    |\n",
    "    (filteredIcdDf.Matched_Code.str.startswith('Z490'))\n",
    "    |\n",
    "    (filteredIcdDf.Matched_Code.str.startswith('Z491'))\n",
    "    |\n",
    "    (filteredIcdDf.Matched_Code.str.startswith('Z492'))\n",
    "    |\n",
    "    (filteredIcdDf.Matched_Code.str.startswith('Z940'))\n",
    "    |\n",
    "    (filteredIcdDf.Matched_Code.str.startswith('Z992'))\n",
    "].PATIENT_ID.unique().shape[0]/datamatrixDf.person_id.unique().shape[0] * 100, 2)"
   ]
  },
  {
   "cell_type": "markdown",
   "metadata": {},
   "source": [
    "## Any malignancy (tumor, leukemia, lymphoma)"
   ]
  },
  {
   "cell_type": "code",
   "execution_count": 35,
   "metadata": {},
   "outputs": [
    {
     "data": {
      "text/plain": [
       "Matched_Code  ICD_DESCRIPTION                                                  \n",
       "C92.0         Acute myeloid leukaemia NOS                                          533388\n",
       "C92.01        Acute myeloblastic leukaemia [AML], without mention of remission     472110\n",
       "              Acute myeloblastic leukaemia [AML], in remission                     246697\n",
       "C91.3         Precursor B-cell lymphoblastic leukaemia                             240157\n",
       "C91.01        Acute lymphoblastic leukaemia [ALL], without mention of remission    137199\n",
       "                                                                                    ...  \n",
       "C91.70        Other lymphoid leukaemia, without mention of remission                    1\n",
       "C73           Malignant neoplasm of thyroid gland                                       1\n",
       "C92.4         Acute myeloid leukaemia with mutated NPM1                                 1\n",
       "C43.4         Malignant melanoma of scalp and neck                                      1\n",
       "C18.9         Malignant neoplasm of colon, unspecified part                             1\n",
       "Length: 232, dtype: int64"
      ]
     },
     "execution_count": 35,
     "metadata": {},
     "output_type": "execute_result"
    }
   ],
   "source": [
    "filteredIcdDf[\n",
    "    (filteredIcdDf.Matched_Code.str.startswith('C0'))\n",
    "    |\n",
    "    (filteredIcdDf.Matched_Code.str.startswith('C1'))\n",
    "    |\n",
    "    (filteredIcdDf.Matched_Code.str.startswith('C20'))\n",
    "    |\n",
    "    (filteredIcdDf.Matched_Code.str.startswith('C21'))\n",
    "    |\n",
    "    (filteredIcdDf.Matched_Code.str.startswith('C22'))\n",
    "    |\n",
    "    (filteredIcdDf.Matched_Code.str.startswith('C23'))\n",
    "    |\n",
    "    (filteredIcdDf.Matched_Code.str.startswith('C24'))\n",
    "    |\n",
    "    (filteredIcdDf.Matched_Code.str.startswith('C25'))\n",
    "    |\n",
    "    (filteredIcdDf.Matched_Code.str.startswith('C26'))\n",
    "    |\n",
    "    (filteredIcdDf.Matched_Code.str.startswith('C30'))\n",
    "    |\n",
    "    (filteredIcdDf.Matched_Code.str.startswith('C31'))\n",
    "    |\n",
    "    (filteredIcdDf.Matched_Code.str.startswith('C32'))\n",
    "    |\n",
    "    (filteredIcdDf.Matched_Code.str.startswith('C33'))\n",
    "    |\n",
    "    (filteredIcdDf.Matched_Code.str.startswith('C34'))\n",
    "    |\n",
    "    (filteredIcdDf.Matched_Code.str.startswith('C37'))\n",
    "    |\n",
    "    (filteredIcdDf.Matched_Code.str.startswith('C38'))\n",
    "    |\n",
    "    (filteredIcdDf.Matched_Code.str.startswith('C39'))\n",
    "    |\n",
    "    (filteredIcdDf.Matched_Code.str.startswith('C40'))\n",
    "    |\n",
    "    (filteredIcdDf.Matched_Code.str.startswith('C41'))\n",
    "    |\n",
    "    (filteredIcdDf.Matched_Code.str.startswith('C43'))\n",
    "    |\n",
    "    (filteredIcdDf.Matched_Code.str.startswith('C45'))\n",
    "    |\n",
    "    (filteredIcdDf.Matched_Code.str.startswith('C46'))\n",
    "    |\n",
    "    (filteredIcdDf.Matched_Code.str.startswith('C47'))\n",
    "    |\n",
    "    (filteredIcdDf.Matched_Code.str.startswith('C48'))\n",
    "    |\n",
    "    (filteredIcdDf.Matched_Code.str.startswith('C49'))\n",
    "    |\n",
    "    (filteredIcdDf.Matched_Code.str.startswith('C50'))\n",
    "    |\n",
    "    (filteredIcdDf.Matched_Code.str.startswith('C51'))\n",
    "    |\n",
    "    (filteredIcdDf.Matched_Code.str.startswith('C52'))\n",
    "    |\n",
    "    (filteredIcdDf.Matched_Code.str.startswith('C53'))\n",
    "    |\n",
    "    (filteredIcdDf.Matched_Code.str.startswith('C54'))\n",
    "    |\n",
    "    (filteredIcdDf.Matched_Code.str.startswith('C55'))\n",
    "    |\n",
    "    (filteredIcdDf.Matched_Code.str.startswith('C56'))\n",
    "    |\n",
    "    (filteredIcdDf.Matched_Code.str.startswith('C57'))\n",
    "    |\n",
    "    (filteredIcdDf.Matched_Code.str.startswith('C58'))\n",
    "    |\n",
    "    (filteredIcdDf.Matched_Code.str.startswith('C6'))\n",
    "    |\n",
    "    (filteredIcdDf.Matched_Code.str.startswith('C70'))\n",
    "    |\n",
    "    (filteredIcdDf.Matched_Code.str.startswith('C71'))\n",
    "    |\n",
    "    (filteredIcdDf.Matched_Code.str.startswith('C72'))\n",
    "    |\n",
    "    (filteredIcdDf.Matched_Code.str.startswith('C73'))\n",
    "    |\n",
    "    (filteredIcdDf.Matched_Code.str.startswith('C74'))\n",
    "    |\n",
    "    (filteredIcdDf.Matched_Code.str.startswith('C75'))\n",
    "    |\n",
    "    (filteredIcdDf.Matched_Code.str.startswith('C76'))\n",
    "    |\n",
    "    (filteredIcdDf.Matched_Code.str.startswith('C81'))\n",
    "    |\n",
    "    (filteredIcdDf.Matched_Code.str.startswith('C82'))\n",
    "    |\n",
    "    (filteredIcdDf.Matched_Code.str.startswith('C83'))\n",
    "    |\n",
    "    (filteredIcdDf.Matched_Code.str.startswith('C84'))\n",
    "    |\n",
    "    (filteredIcdDf.Matched_Code.str.startswith('C85'))\n",
    "    |\n",
    "    (filteredIcdDf.Matched_Code.str.startswith('C88'))\n",
    "    |\n",
    "    (filteredIcdDf.Matched_Code.str.startswith('C90'))\n",
    "    |\n",
    "    (filteredIcdDf.Matched_Code.str.startswith('C91'))\n",
    "    |\n",
    "    (filteredIcdDf.Matched_Code.str.startswith('C92'))\n",
    "    |\n",
    "    (filteredIcdDf.Matched_Code.str.startswith('C93'))\n",
    "    |\n",
    "    (filteredIcdDf.Matched_Code.str.startswith('C94'))\n",
    "    |\n",
    "    (filteredIcdDf.Matched_Code.str.startswith('C95'))\n",
    "    |\n",
    "    (filteredIcdDf.Matched_Code.str.startswith('C96'))\n",
    "    |\n",
    "    (filteredIcdDf.Matched_Code.str.startswith('C97'))\n",
    "][['Matched_Code', 'ICD_DESCRIPTION']].value_counts()"
   ]
  },
  {
   "cell_type": "code",
   "execution_count": 36,
   "metadata": {},
   "outputs": [
    {
     "data": {
      "text/plain": [
       "16.38"
      ]
     },
     "execution_count": 36,
     "metadata": {},
     "output_type": "execute_result"
    }
   ],
   "source": [
    "round(filteredIcdDf[\n",
    "    (filteredIcdDf.Matched_Code.str.startswith('C0'))\n",
    "    |\n",
    "    (filteredIcdDf.Matched_Code.str.startswith('C1'))\n",
    "    |\n",
    "    (filteredIcdDf.Matched_Code.str.startswith('C20'))\n",
    "    |\n",
    "    (filteredIcdDf.Matched_Code.str.startswith('C21'))\n",
    "    |\n",
    "    (filteredIcdDf.Matched_Code.str.startswith('C22'))\n",
    "    |\n",
    "    (filteredIcdDf.Matched_Code.str.startswith('C23'))\n",
    "    |\n",
    "    (filteredIcdDf.Matched_Code.str.startswith('C24'))\n",
    "    |\n",
    "    (filteredIcdDf.Matched_Code.str.startswith('C25'))\n",
    "    |\n",
    "    (filteredIcdDf.Matched_Code.str.startswith('C26'))\n",
    "    |\n",
    "    (filteredIcdDf.Matched_Code.str.startswith('C30'))\n",
    "    |\n",
    "    (filteredIcdDf.Matched_Code.str.startswith('C31'))\n",
    "    |\n",
    "    (filteredIcdDf.Matched_Code.str.startswith('C32'))\n",
    "    |\n",
    "    (filteredIcdDf.Matched_Code.str.startswith('C33'))\n",
    "    |\n",
    "    (filteredIcdDf.Matched_Code.str.startswith('C34'))\n",
    "    |\n",
    "    (filteredIcdDf.Matched_Code.str.startswith('C37'))\n",
    "    |\n",
    "    (filteredIcdDf.Matched_Code.str.startswith('C38'))\n",
    "    |\n",
    "    (filteredIcdDf.Matched_Code.str.startswith('C39'))\n",
    "    |\n",
    "    (filteredIcdDf.Matched_Code.str.startswith('C40'))\n",
    "    |\n",
    "    (filteredIcdDf.Matched_Code.str.startswith('C41'))\n",
    "    |\n",
    "    (filteredIcdDf.Matched_Code.str.startswith('C43'))\n",
    "    |\n",
    "    (filteredIcdDf.Matched_Code.str.startswith('C45'))\n",
    "    |\n",
    "    (filteredIcdDf.Matched_Code.str.startswith('C46'))\n",
    "    |\n",
    "    (filteredIcdDf.Matched_Code.str.startswith('C47'))\n",
    "    |\n",
    "    (filteredIcdDf.Matched_Code.str.startswith('C48'))\n",
    "    |\n",
    "    (filteredIcdDf.Matched_Code.str.startswith('C49'))\n",
    "    |\n",
    "    (filteredIcdDf.Matched_Code.str.startswith('C50'))\n",
    "    |\n",
    "    (filteredIcdDf.Matched_Code.str.startswith('C51'))\n",
    "    |\n",
    "    (filteredIcdDf.Matched_Code.str.startswith('C52'))\n",
    "    |\n",
    "    (filteredIcdDf.Matched_Code.str.startswith('C53'))\n",
    "    |\n",
    "    (filteredIcdDf.Matched_Code.str.startswith('C54'))\n",
    "    |\n",
    "    (filteredIcdDf.Matched_Code.str.startswith('C55'))\n",
    "    |\n",
    "    (filteredIcdDf.Matched_Code.str.startswith('C56'))\n",
    "    |\n",
    "    (filteredIcdDf.Matched_Code.str.startswith('C57'))\n",
    "    |\n",
    "    (filteredIcdDf.Matched_Code.str.startswith('C58'))\n",
    "    |\n",
    "    (filteredIcdDf.Matched_Code.str.startswith('C6'))\n",
    "    |\n",
    "    (filteredIcdDf.Matched_Code.str.startswith('C70'))\n",
    "    |\n",
    "    (filteredIcdDf.Matched_Code.str.startswith('C71'))\n",
    "    |\n",
    "    (filteredIcdDf.Matched_Code.str.startswith('C72'))\n",
    "    |\n",
    "    (filteredIcdDf.Matched_Code.str.startswith('C73'))\n",
    "    |\n",
    "    (filteredIcdDf.Matched_Code.str.startswith('C74'))\n",
    "    |\n",
    "    (filteredIcdDf.Matched_Code.str.startswith('C75'))\n",
    "    |\n",
    "    (filteredIcdDf.Matched_Code.str.startswith('C76'))\n",
    "    |\n",
    "    (filteredIcdDf.Matched_Code.str.startswith('C81'))\n",
    "    |\n",
    "    (filteredIcdDf.Matched_Code.str.startswith('C82'))\n",
    "    |\n",
    "    (filteredIcdDf.Matched_Code.str.startswith('C83'))\n",
    "    |\n",
    "    (filteredIcdDf.Matched_Code.str.startswith('C84'))\n",
    "    |\n",
    "    (filteredIcdDf.Matched_Code.str.startswith('C85'))\n",
    "    |\n",
    "    (filteredIcdDf.Matched_Code.str.startswith('C88'))\n",
    "    |\n",
    "    (filteredIcdDf.Matched_Code.str.startswith('C90'))\n",
    "    |\n",
    "    (filteredIcdDf.Matched_Code.str.startswith('C91'))\n",
    "    |\n",
    "    (filteredIcdDf.Matched_Code.str.startswith('C92'))\n",
    "    |\n",
    "    (filteredIcdDf.Matched_Code.str.startswith('C93'))\n",
    "    |\n",
    "    (filteredIcdDf.Matched_Code.str.startswith('C94'))\n",
    "    |\n",
    "    (filteredIcdDf.Matched_Code.str.startswith('C95'))\n",
    "    |\n",
    "    (filteredIcdDf.Matched_Code.str.startswith('C96'))\n",
    "    |\n",
    "    (filteredIcdDf.Matched_Code.str.startswith('C97'))\n",
    "].PATIENT_ID.unique().shape[0]/datamatrixDf.person_id.unique().shape[0] * 100, 2)"
   ]
  },
  {
   "cell_type": "markdown",
   "metadata": {},
   "source": [
    "## Metastatic solid tumor"
   ]
  },
  {
   "cell_type": "code",
   "execution_count": 41,
   "metadata": {},
   "outputs": [
    {
     "data": {
      "text/plain": [
       "Matched_Code  ICD_DESCRIPTION                                                                    \n",
       "C78.6         Secondary malignant neoplasm of retroperitoneum and peritoneum                         5008\n",
       "C77.1         Secondary and unspecified malignant neoplasm of intrathoracic lymph nodes              3707\n",
       "C79.5         Secondary malignant neoplasm of bone and bone marrow                                   3617\n",
       "C78.2         Secondary malignant neoplasm of pleura                                                 3572\n",
       "C78.7         Secondary malignant neoplasm of liver and intrahepatic bile duct                       2865\n",
       "C77.2         Secondary and unspecified malignant neoplasm of intra-abdominal lymph nodes            2537\n",
       "C78.0         Secondary malignant neoplasm of lung                                                   2261\n",
       "C77.3         Secondary and unspecified malignant neoplasm of axillary and upper limb lymph nodes    1580\n",
       "C77.5         Secondary and unspecified malignant neoplasm of intrapelvic lymph nodes                1497\n",
       "C79.89        Secondary malignant neoplasm of other specified sites                                   970\n",
       "C77.0         Secondary and unspecified malignant neoplasm of lymph nodes of head, face and neck      614\n",
       "C79.3         Secondary malignant neoplasm of brain and cerebral meninges                             511\n",
       "C78.7         Cholangiocarcinoma, metastatic                                                          387\n",
       "C78.8         Secondary malignant neoplasm of other and unspecified digestive organs                  281\n",
       "C79.7         Secondary malignant neoplasm of adrenal gland                                           269\n",
       "C77.4         Secondary and unspecified malignant neoplasm of inguinal and lower limb lymph nodes     240\n",
       "C78.4         Secondary malignant neoplasm of small intestine                                         202\n",
       "C79.2         Secondary malignant neoplasm of skin                                                    161\n",
       "C79.4         Secondary malignant neoplasm of other and unspecified parts of nervous system           158\n",
       "C80.0         Malignant neoplasm, primary site unknown, so stated                                      97\n",
       "C78.5         Adenocarcinoma, intestinal type, metastatic                                              72\n",
       "C79.9         Secondary malignant neoplasm, unspecified site                                           65\n",
       "C77.9         Secondary and unspecified malignant neoplasm of lymph node, unspecified                  30\n",
       "C79.0         Renal cell carcinoma NOS, metastatic                                                     30\n",
       "C79.82        Secondary malignant neoplasm of genital organs                                           25\n",
       "C78.5         Secondary malignant neoplasm of large intestine and rectum                               22\n",
       "C79.1         Secondary malignant neoplasm of bladder and other and unspecified urinary organs         12\n",
       "C80.9         Malignant neoplasm, primary site unspecified                                              7\n",
       "C79.11        Transitional cell carcinoma NOS, metastatic                                               5\n",
       "C79.0         Papillary transitional cell carcinoma, metastatic                                         3\n",
       "              Secondary malignant neoplasm of kidney and renal pelvis                                   1\n",
       "dtype: int64"
      ]
     },
     "execution_count": 41,
     "metadata": {},
     "output_type": "execute_result"
    }
   ],
   "source": [
    "filteredIcdDf[\n",
    "    (filteredIcdDf.Matched_Code.str.startswith('C77'))\n",
    "    |\n",
    "    (filteredIcdDf.Matched_Code.str.startswith('C78'))\n",
    "    |\n",
    "    (filteredIcdDf.Matched_Code.str.startswith('C79'))\n",
    "    |\n",
    "    (filteredIcdDf.Matched_Code.str.startswith('C80'))\n",
    "][['Matched_Code', 'ICD_DESCRIPTION']].value_counts()"
   ]
  },
  {
   "cell_type": "code",
   "execution_count": 42,
   "metadata": {},
   "outputs": [
    {
     "data": {
      "text/plain": [
       "3.24"
      ]
     },
     "execution_count": 42,
     "metadata": {},
     "output_type": "execute_result"
    }
   ],
   "source": [
    "round(filteredIcdDf[\n",
    "    (filteredIcdDf.Matched_Code.str.startswith('C77'))\n",
    "    |\n",
    "    (filteredIcdDf.Matched_Code.str.startswith('C78'))\n",
    "    |\n",
    "    (filteredIcdDf.Matched_Code.str.startswith('C79'))\n",
    "    |\n",
    "    (filteredIcdDf.Matched_Code.str.startswith('C80'))\n",
    "\n",
    "].PATIENT_ID.unique().shape[0]/datamatrixDf.person_id.unique().shape[0] * 100, 2)"
   ]
  },
  {
   "cell_type": "markdown",
   "metadata": {},
   "source": [
    "## HIV/AIDS"
   ]
  },
  {
   "cell_type": "code",
   "execution_count": 43,
   "metadata": {},
   "outputs": [
    {
     "data": {
      "text/plain": [
       "Matched_Code  ICD_DESCRIPTION                                                                          \n",
       "B24           Unspecified human immunodeficiency virus [HIV] disease                                       908\n",
       "B21           Human immunodeficiency virus [HIV] disease resulting in malignant neoplasms                  890\n",
       "B20           Human immunodeficiency virus [HIV] disease resulting in infectious and parasitic diseases    105\n",
       "dtype: int64"
      ]
     },
     "execution_count": 43,
     "metadata": {},
     "output_type": "execute_result"
    }
   ],
   "source": [
    "filteredIcdDf[\n",
    "    (filteredIcdDf.Matched_Code.str.startswith('B20'))\n",
    "    |\n",
    "    (filteredIcdDf.Matched_Code.str.startswith('B21'))\n",
    "    |\n",
    "    (filteredIcdDf.Matched_Code.str.startswith('B22'))\n",
    "    |\n",
    "    (filteredIcdDf.Matched_Code.str.startswith('B24'))\n",
    "][['Matched_Code', 'ICD_DESCRIPTION']].value_counts()"
   ]
  },
  {
   "cell_type": "code",
   "execution_count": 44,
   "metadata": {},
   "outputs": [
    {
     "data": {
      "text/plain": [
       "0.76"
      ]
     },
     "execution_count": 44,
     "metadata": {},
     "output_type": "execute_result"
    }
   ],
   "source": [
    "round(filteredIcdDf[\n",
    "    (filteredIcdDf.Matched_Code.str.startswith('B20'))\n",
    "    |\n",
    "    (filteredIcdDf.Matched_Code.str.startswith('B21'))\n",
    "    |\n",
    "    (filteredIcdDf.Matched_Code.str.startswith('B22'))\n",
    "    |\n",
    "    (filteredIcdDf.Matched_Code.str.startswith('B24'))\n",
    "].PATIENT_ID.unique().shape[0]/datamatrixDf.person_id.unique().shape[0] * 100, 2)"
   ]
  }
 ],
 "metadata": {
  "kernelspec": {
   "display_name": ".venv",
   "language": "python",
   "name": "python3"
  },
  "language_info": {
   "codemirror_mode": {
    "name": "ipython",
    "version": 3
   },
   "file_extension": ".py",
   "mimetype": "text/x-python",
   "name": "python",
   "nbconvert_exporter": "python",
   "pygments_lexer": "ipython3",
   "version": "3.10.12"
  }
 },
 "nbformat": 4,
 "nbformat_minor": 2
}
