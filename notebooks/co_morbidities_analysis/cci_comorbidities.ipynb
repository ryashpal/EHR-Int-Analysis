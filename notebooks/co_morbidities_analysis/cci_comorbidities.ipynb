{
 "cells": [
  {
   "cell_type": "markdown",
   "metadata": {},
   "source": [
    "# Exploring Co-Morbidities"
   ]
  },
  {
   "cell_type": "markdown",
   "metadata": {},
   "source": [
    "## Read data files"
   ]
  },
  {
   "cell_type": "code",
   "execution_count": 1,
   "metadata": {},
   "outputs": [
    {
     "name": "stderr",
     "output_type": "stream",
     "text": [
      "/tmp/ipykernel_642986/3040462972.py:6: DtypeWarning: Columns (6) have mixed types. Specify dtype option on import or set low_memory=False.\n",
      "  icdDf = pd.read_csv(os.environ['EHR_DATA_BASE'] + '/blood_pos_cohort_20240119/additional_data/2023-03-20-blood-pos-ICDs.csv')\n"
     ]
    }
   ],
   "source": [
    "import os\n",
    "import pandas as pd\n",
    "\n",
    "\n",
    "datamatrixDf = pd.read_csv(os.environ['EHR_DATA_BASE'] + '/blood_pos_cohort_20240531/data/data_matrix.csv')\n",
    "icdDf = pd.read_csv(os.environ['EHR_DATA_BASE'] + '/blood_pos_cohort_20240119/additional_data/2023-03-20-blood-pos-ICDs.csv')"
   ]
  },
  {
   "cell_type": "code",
   "execution_count": 2,
   "metadata": {},
   "outputs": [
    {
     "data": {
      "text/plain": [
       "((456648, 7), (116754, 194))"
      ]
     },
     "execution_count": 2,
     "metadata": {},
     "output_type": "execute_result"
    }
   ],
   "source": [
    "icdDf.shape, datamatrixDf.shape"
   ]
  },
  {
   "cell_type": "markdown",
   "metadata": {},
   "source": [
    "## Filter patients from the cohort"
   ]
  },
  {
   "cell_type": "code",
   "execution_count": 3,
   "metadata": {},
   "outputs": [],
   "source": [
    "filteredIcdDf = icdDf.merge(\n",
    "    datamatrixDf[['person_id', 'visit_occurrence_id']].drop_duplicates(),\n",
    "    how='inner',\n",
    "    left_on=['PATIENT_ID', 'EPISODE_ID'],\n",
    "    right_on=['person_id', 'visit_occurrence_id']\n",
    "    )"
   ]
  },
  {
   "cell_type": "markdown",
   "metadata": {},
   "source": [
    "## Obtaining Co-morbidities from Charlson Comorbidity Index"
   ]
  },
  {
   "cell_type": "markdown",
   "metadata": {},
   "source": [
    "### Myocardial infarction"
   ]
  },
  {
   "cell_type": "code",
   "execution_count": 11,
   "metadata": {},
   "outputs": [
    {
     "data": {
      "text/plain": [
       "AUSTRALIAN_MODIFICATION  ICD_DESCRIPTION                                           \n",
       "I214                     Acute subendocardial myocardial infarction                    87\n",
       "I210                     Acute transmural myocardial infarction of anterior wall       12\n",
       "I219                     Acute myocardial infarction, unspecified                       5\n",
       "I213                     Acute transmural myocardial infarction of unspecified site     4\n",
       "I211                     Acute transmural myocardial infarction of inferior wall        4\n",
       "I212                     Acute transmural myocardial infarction of other sites          2\n",
       "I252                     Old myocardial infarction                                      2\n",
       "dtype: int64"
      ]
     },
     "execution_count": 11,
     "metadata": {},
     "output_type": "execute_result"
    }
   ],
   "source": [
    "filteredIcdDf[\n",
    "    (filteredIcdDf.AUSTRALIAN_MODIFICATION.str.startswith('I21'))\n",
    "    |\n",
    "    (filteredIcdDf.AUSTRALIAN_MODIFICATION.str.startswith('I22'))\n",
    "    |\n",
    "    (filteredIcdDf.AUSTRALIAN_MODIFICATION.str.startswith('I252'))\n",
    "][['AUSTRALIAN_MODIFICATION', 'ICD_DESCRIPTION']].value_counts()"
   ]
  },
  {
   "cell_type": "code",
   "execution_count": 12,
   "metadata": {},
   "outputs": [
    {
     "data": {
      "text/plain": [
       "6.02"
      ]
     },
     "execution_count": 12,
     "metadata": {},
     "output_type": "execute_result"
    }
   ],
   "source": [
    "round(filteredIcdDf[\n",
    "    (filteredIcdDf.AUSTRALIAN_MODIFICATION.str.startswith('I21'))\n",
    "    |\n",
    "    (filteredIcdDf.AUSTRALIAN_MODIFICATION.str.startswith('I22'))\n",
    "    |\n",
    "    (filteredIcdDf.AUSTRALIAN_MODIFICATION.str.startswith('I252'))\n",
    "].PATIENT_ID.unique().shape[0]/filteredIcdDf.PATIENT_ID.unique().shape[0] * 100, 2)"
   ]
  },
  {
   "cell_type": "markdown",
   "metadata": {},
   "source": [
    "### Congestive heart failure"
   ]
  },
  {
   "cell_type": "code",
   "execution_count": 13,
   "metadata": {},
   "outputs": [
    {
     "data": {
      "text/plain": [
       "AUSTRALIAN_MODIFICATION  ICD_DESCRIPTION                                                                              \n",
       "I500                     Congestive heart failure                                                                         185\n",
       "I501                     Left ventricular failure                                                                          84\n",
       "I509                     Heart failure, unspecified                                                                        59\n",
       "I255                     Ischaemic cardiomyopathy                                                                          33\n",
       "I420                     Dilated cardiomyopathy                                                                            26\n",
       "I429                     Cardiomyopathy, unspecified                                                                       14\n",
       "I428                     Other cardiomyopathies                                                                             8\n",
       "I438                     Cardiomyopathy in other diseases classified elsewhere                                              5\n",
       "I427                     Cardiomyopathy due to drugs and other external agents                                              2\n",
       "I132                     Hypertensive heart and kidney disease with both (congestive) heart failure and kidney failure      1\n",
       "I431                     Cardiomyopathy in metabolic diseases                                                               1\n",
       "dtype: int64"
      ]
     },
     "execution_count": 13,
     "metadata": {},
     "output_type": "execute_result"
    }
   ],
   "source": [
    "filteredIcdDf[\n",
    "    (filteredIcdDf.AUSTRALIAN_MODIFICATION.str.startswith('I099'))\n",
    "    |\n",
    "    (filteredIcdDf.AUSTRALIAN_MODIFICATION.str.startswith('I110'))\n",
    "    |\n",
    "    (filteredIcdDf.AUSTRALIAN_MODIFICATION.str.startswith('I130'))\n",
    "    |\n",
    "    (filteredIcdDf.AUSTRALIAN_MODIFICATION.str.startswith('I132'))\n",
    "    |\n",
    "    (filteredIcdDf.AUSTRALIAN_MODIFICATION.str.startswith('I255'))\n",
    "    |\n",
    "    (filteredIcdDf.AUSTRALIAN_MODIFICATION.str.startswith('I420'))\n",
    "    |\n",
    "    (filteredIcdDf.AUSTRALIAN_MODIFICATION.str.startswith('I425'))\n",
    "    |\n",
    "    (filteredIcdDf.AUSTRALIAN_MODIFICATION.str.startswith('I426'))\n",
    "    |\n",
    "    (filteredIcdDf.AUSTRALIAN_MODIFICATION.str.startswith('I427'))\n",
    "    |\n",
    "    (filteredIcdDf.AUSTRALIAN_MODIFICATION.str.startswith('I428'))\n",
    "    |\n",
    "    (filteredIcdDf.AUSTRALIAN_MODIFICATION.str.startswith('I429'))\n",
    "    |\n",
    "    (filteredIcdDf.AUSTRALIAN_MODIFICATION.str.startswith('I43'))\n",
    "    |\n",
    "    (filteredIcdDf.AUSTRALIAN_MODIFICATION.str.startswith('I50'))\n",
    "    |\n",
    "    (filteredIcdDf.AUSTRALIAN_MODIFICATION.str.startswith('P290'))\n",
    "][['AUSTRALIAN_MODIFICATION', 'ICD_DESCRIPTION']].value_counts()"
   ]
  },
  {
   "cell_type": "code",
   "execution_count": 14,
   "metadata": {},
   "outputs": [
    {
     "data": {
      "text/plain": [
       "15.61"
      ]
     },
     "execution_count": 14,
     "metadata": {},
     "output_type": "execute_result"
    }
   ],
   "source": [
    "round(filteredIcdDf[\n",
    "    (filteredIcdDf.AUSTRALIAN_MODIFICATION.str.startswith('I099'))\n",
    "    |\n",
    "    (filteredIcdDf.AUSTRALIAN_MODIFICATION.str.startswith('I110'))\n",
    "    |\n",
    "    (filteredIcdDf.AUSTRALIAN_MODIFICATION.str.startswith('I130'))\n",
    "    |\n",
    "    (filteredIcdDf.AUSTRALIAN_MODIFICATION.str.startswith('I132'))\n",
    "    |\n",
    "    (filteredIcdDf.AUSTRALIAN_MODIFICATION.str.startswith('I255'))\n",
    "    |\n",
    "    (filteredIcdDf.AUSTRALIAN_MODIFICATION.str.startswith('I420'))\n",
    "    |\n",
    "    (filteredIcdDf.AUSTRALIAN_MODIFICATION.str.startswith('I425'))\n",
    "    |\n",
    "    (filteredIcdDf.AUSTRALIAN_MODIFICATION.str.startswith('I426'))\n",
    "    |\n",
    "    (filteredIcdDf.AUSTRALIAN_MODIFICATION.str.startswith('I427'))\n",
    "    |\n",
    "    (filteredIcdDf.AUSTRALIAN_MODIFICATION.str.startswith('I428'))\n",
    "    |\n",
    "    (filteredIcdDf.AUSTRALIAN_MODIFICATION.str.startswith('I429'))\n",
    "    |\n",
    "    (filteredIcdDf.AUSTRALIAN_MODIFICATION.str.startswith('I43'))\n",
    "    |\n",
    "    (filteredIcdDf.AUSTRALIAN_MODIFICATION.str.startswith('I50'))\n",
    "    |\n",
    "    (filteredIcdDf.AUSTRALIAN_MODIFICATION.str.startswith('P290'))\n",
    "].PATIENT_ID.unique().shape[0]/filteredIcdDf.PATIENT_ID.unique().shape[0] * 100, 2)"
   ]
  },
  {
   "cell_type": "markdown",
   "metadata": {},
   "source": [
    "## Peripheral vascular disease"
   ]
  },
  {
   "cell_type": "code",
   "execution_count": 15,
   "metadata": {},
   "outputs": [
    {
     "data": {
      "text/plain": [
       "AUSTRALIAN_MODIFICATION  ICD_DESCRIPTION                                                          \n",
       "I7023                    Atherosclerosis of arteries of extremities with ulceration                   11\n",
       "I7020                    Atherosclerosis of arteries of extremities, unspecified                       9\n",
       "I7024                    Atherosclerosis of arteries of extremities with gangrene                      7\n",
       "I7021                    Atherosclerosis of arteries of extremities with intermittent claudication     7\n",
       "Z958                     Presence of other cardiac and vascular implants and grafts                    7\n",
       "K559                     Vascular disorder of intestine, unspecified                                   6\n",
       "I708                     Atherosclerosis of other arteries                                             5\n",
       "I7022                    Atherosclerosis of arteries of extremities with rest pain                     5\n",
       "I714                     Abdominal aortic aneurysm, without mention of rupture                         4\n",
       "I7101                    Dissection of thoracic aorta                                                  3\n",
       "K551                     Chronic vascular disorders of intestine                                       3\n",
       "I712                     Thoracic aortic aneurysm, without mention of rupture                          3\n",
       "I715                     Thoracoabdominal aortic aneurysm, ruptured                                    2\n",
       "I7103                    Dissection of thoracoabdominal aorta                                          2\n",
       "I700                     Atherosclerosis of aorta                                                      1\n",
       "I719                     Aortic aneurysm of unspecified site, without mention of rupture               1\n",
       "dtype: int64"
      ]
     },
     "execution_count": 15,
     "metadata": {},
     "output_type": "execute_result"
    }
   ],
   "source": [
    "filteredIcdDf[\n",
    "    (filteredIcdDf.AUSTRALIAN_MODIFICATION.str.startswith('I70'))\n",
    "    |\n",
    "    (filteredIcdDf.AUSTRALIAN_MODIFICATION.str.startswith('I71'))\n",
    "    |\n",
    "    (filteredIcdDf.AUSTRALIAN_MODIFICATION.str.startswith('I731'))\n",
    "    |\n",
    "    (filteredIcdDf.AUSTRALIAN_MODIFICATION.str.startswith('I738'))\n",
    "    |\n",
    "    (filteredIcdDf.AUSTRALIAN_MODIFICATION.str.startswith('I739'))\n",
    "    |\n",
    "    (filteredIcdDf.AUSTRALIAN_MODIFICATION.str.startswith('I771'))\n",
    "    |\n",
    "    (filteredIcdDf.AUSTRALIAN_MODIFICATION.str.startswith('I790'))\n",
    "    |\n",
    "    (filteredIcdDf.AUSTRALIAN_MODIFICATION.str.startswith('I792'))\n",
    "    |\n",
    "    (filteredIcdDf.AUSTRALIAN_MODIFICATION.str.startswith('K551'))\n",
    "    |\n",
    "    (filteredIcdDf.AUSTRALIAN_MODIFICATION.str.startswith('K558'))\n",
    "    |\n",
    "    (filteredIcdDf.AUSTRALIAN_MODIFICATION.str.startswith('K559'))\n",
    "    |\n",
    "    (filteredIcdDf.AUSTRALIAN_MODIFICATION.str.startswith('Z958'))\n",
    "    |\n",
    "    (filteredIcdDf.AUSTRALIAN_MODIFICATION.str.startswith('Z959'))\n",
    "][['AUSTRALIAN_MODIFICATION', 'ICD_DESCRIPTION']].value_counts()"
   ]
  },
  {
   "cell_type": "code",
   "execution_count": 17,
   "metadata": {},
   "outputs": [
    {
     "data": {
      "text/plain": [
       "3.04"
      ]
     },
     "execution_count": 17,
     "metadata": {},
     "output_type": "execute_result"
    }
   ],
   "source": [
    "round(filteredIcdDf[\n",
    "    (filteredIcdDf.AUSTRALIAN_MODIFICATION.str.startswith('I70'))\n",
    "    |\n",
    "    (filteredIcdDf.AUSTRALIAN_MODIFICATION.str.startswith('I71'))\n",
    "    |\n",
    "    (filteredIcdDf.AUSTRALIAN_MODIFICATION.str.startswith('I731'))\n",
    "    |\n",
    "    (filteredIcdDf.AUSTRALIAN_MODIFICATION.str.startswith('I738'))\n",
    "    |\n",
    "    (filteredIcdDf.AUSTRALIAN_MODIFICATION.str.startswith('I739'))\n",
    "    |\n",
    "    (filteredIcdDf.AUSTRALIAN_MODIFICATION.str.startswith('I771'))\n",
    "    |\n",
    "    (filteredIcdDf.AUSTRALIAN_MODIFICATION.str.startswith('I790'))\n",
    "    |\n",
    "    (filteredIcdDf.AUSTRALIAN_MODIFICATION.str.startswith('I792'))\n",
    "    |\n",
    "    (filteredIcdDf.AUSTRALIAN_MODIFICATION.str.startswith('K551'))\n",
    "    |\n",
    "    (filteredIcdDf.AUSTRALIAN_MODIFICATION.str.startswith('K558'))\n",
    "    |\n",
    "    (filteredIcdDf.AUSTRALIAN_MODIFICATION.str.startswith('K559'))\n",
    "    |\n",
    "    (filteredIcdDf.AUSTRALIAN_MODIFICATION.str.startswith('Z958'))\n",
    "    |\n",
    "    (filteredIcdDf.AUSTRALIAN_MODIFICATION.str.startswith('Z959'))\n",
    "].PATIENT_ID.unique().shape[0]/filteredIcdDf.PATIENT_ID.unique().shape[0] * 100, 2)"
   ]
  },
  {
   "cell_type": "markdown",
   "metadata": {},
   "source": [
    "## Cerebrovascular disease"
   ]
  },
  {
   "cell_type": "code",
   "execution_count": 18,
   "metadata": {},
   "outputs": [
    {
     "data": {
      "text/plain": [
       "AUSTRALIAN_MODIFICATION  ICD_DESCRIPTION                                                                     \n",
       "I639                     Cerebral infarction, unspecified                                                        43\n",
       "I634                     Cerebral infarction due to embolism of cerebral arteries                                30\n",
       "I615                     Intracerebral haemorrhage, intraventricular                                             24\n",
       "I611                     Intracerebral haemorrhage in hemisphere, cortical                                       23\n",
       "I620                     Subdural haemorrhage (acute)(nontraumatic)                                              19\n",
       "I618                     Other intracerebral haemorrhage                                                         16\n",
       "I610                     Intracerebral haemorrhage in hemisphere, subcortical                                    13\n",
       "I630                     Cerebral infarction due to thrombosis of precerebral arteries                           10\n",
       "I635                     Cerebral infarction due to unspecified occlusion or stenosis of cerebral arteries        9\n",
       "I608                     Other subarachnoid haemorrhage                                                           9\n",
       "I609                     Subarachnoid haemorrhage, unspecified                                                    7\n",
       "I693                     Sequelae of cerebral infarction                                                          7\n",
       "I694                     Sequelae of stroke, not specified as haemorrhage or infarction                           7\n",
       "I652                     Occlusion and stenosis of carotid artery                                                 6\n",
       "I614                     Intracerebral haemorrhage in cerebellum                                                  5\n",
       "I64                      Stroke, not specified as haemorrhage or infarction                                       5\n",
       "I601                     Subarachnoid haemorrhage from middle cerebral artery                                     5\n",
       "I633                     Cerebral infarction due to thrombosis of cerebral arteries                               5\n",
       "I602                     Subarachnoid haemorrhage from anterior communicating artery                              4\n",
       "I619                     Intracerebral haemorrhage, unspecified                                                   4\n",
       "I631                     Cerebral infarction due to embolism of precerebral arteries                              3\n",
       "I678                     Other specified cerebrovascular diseases                                                 3\n",
       "I621                     Nontraumatic extradural haemorrhage                                                      2\n",
       "I660                     Occlusion and stenosis of middle cerebral artery                                         2\n",
       "I632                     Cerebral infarction due to unspecified occlusion or stenosis of precerebral arteries     2\n",
       "I629                     Intracranial haemorrhage (nontraumatic), unspecified                                     1\n",
       "G459                     Transient cerebral ischaemic attack, unspecified                                         1\n",
       "I651                     Occlusion and stenosis of basilar artery                                                 1\n",
       "I671                     Cerebral aneurysm, nonruptured                                                           1\n",
       "I672                     Cerebral atherosclerosis                                                                 1\n",
       "I680                     Cerebral amyloid angiopathy (E85.-+)                                                     1\n",
       "dtype: int64"
      ]
     },
     "execution_count": 18,
     "metadata": {},
     "output_type": "execute_result"
    }
   ],
   "source": [
    "filteredIcdDf[\n",
    "    (filteredIcdDf.AUSTRALIAN_MODIFICATION.str.startswith('G45'))\n",
    "    |\n",
    "    (filteredIcdDf.AUSTRALIAN_MODIFICATION.str.startswith('G46'))\n",
    "    |\n",
    "    (filteredIcdDf.AUSTRALIAN_MODIFICATION.str.startswith('I6'))\n",
    "    |\n",
    "    (filteredIcdDf.AUSTRALIAN_MODIFICATION.str.startswith('H340'))\n",
    "][['AUSTRALIAN_MODIFICATION', 'ICD_DESCRIPTION']].value_counts()"
   ]
  },
  {
   "cell_type": "code",
   "execution_count": 19,
   "metadata": {},
   "outputs": [
    {
     "data": {
      "text/plain": [
       "7.97"
      ]
     },
     "execution_count": 19,
     "metadata": {},
     "output_type": "execute_result"
    }
   ],
   "source": [
    "round(filteredIcdDf[\n",
    "    (filteredIcdDf.AUSTRALIAN_MODIFICATION.str.startswith('G45'))\n",
    "    |\n",
    "    (filteredIcdDf.AUSTRALIAN_MODIFICATION.str.startswith('G46'))\n",
    "    |\n",
    "    (filteredIcdDf.AUSTRALIAN_MODIFICATION.str.startswith('I6'))\n",
    "    |\n",
    "    (filteredIcdDf.AUSTRALIAN_MODIFICATION.str.startswith('H340'))\n",
    "].PATIENT_ID.unique().shape[0]/filteredIcdDf.PATIENT_ID.unique().shape[0] * 100, 2)"
   ]
  },
  {
   "cell_type": "markdown",
   "metadata": {},
   "source": [
    "### Dementia"
   ]
  },
  {
   "cell_type": "code",
   "execution_count": 20,
   "metadata": {},
   "outputs": [
    {
     "data": {
      "text/plain": [
       "AUSTRALIAN_MODIFICATION  ICD_DESCRIPTION                                                 \n",
       "F051                     Delirium superimposed on dementia                                   41\n",
       "F009                     Dementia in Alzheimer's disease, unspecified (G30.9+)               18\n",
       "G309                     Alzheimer's disease, unspecified                                    17\n",
       "F019                     Vascular dementia, unspecified                                      12\n",
       "G308                     Other Alzheimer's disease                                            5\n",
       "F03                      Unspecified dementia                                                 5\n",
       "F002                     Dementia in Alzheimer's disease, atypical or mixed type (G30.8+)     4\n",
       "F023                     Dementia in Parkinson's disease (G20+)                               3\n",
       "F028                     Dementia in other specified diseases classified elsewhere            3\n",
       "F020                     Dementia in Pick's disease (G31.0+)                                  2\n",
       "dtype: int64"
      ]
     },
     "execution_count": 20,
     "metadata": {},
     "output_type": "execute_result"
    }
   ],
   "source": [
    "filteredIcdDf[\n",
    "    (filteredIcdDf.AUSTRALIAN_MODIFICATION.str.startswith('F00'))\n",
    "    |\n",
    "    (filteredIcdDf.AUSTRALIAN_MODIFICATION.str.startswith('F01'))\n",
    "    |\n",
    "    (filteredIcdDf.AUSTRALIAN_MODIFICATION.str.startswith('F02'))\n",
    "    |\n",
    "    (filteredIcdDf.AUSTRALIAN_MODIFICATION.str.startswith('F03'))\n",
    "    |\n",
    "    (filteredIcdDf.AUSTRALIAN_MODIFICATION.str.startswith('G30'))\n",
    "    |\n",
    "    (filteredIcdDf.AUSTRALIAN_MODIFICATION.str.startswith('F051'))\n",
    "    |\n",
    "    (filteredIcdDf.AUSTRALIAN_MODIFICATION.str.startswith('G311'))\n",
    "][['AUSTRALIAN_MODIFICATION', 'ICD_DESCRIPTION']].value_counts()"
   ]
  },
  {
   "cell_type": "code",
   "execution_count": 21,
   "metadata": {},
   "outputs": [
    {
     "data": {
      "text/plain": [
       "3.21"
      ]
     },
     "execution_count": 21,
     "metadata": {},
     "output_type": "execute_result"
    }
   ],
   "source": [
    "round(filteredIcdDf[\n",
    "    (filteredIcdDf.AUSTRALIAN_MODIFICATION.str.startswith('F00'))\n",
    "    |\n",
    "    (filteredIcdDf.AUSTRALIAN_MODIFICATION.str.startswith('F01'))\n",
    "    |\n",
    "    (filteredIcdDf.AUSTRALIAN_MODIFICATION.str.startswith('F02'))\n",
    "    |\n",
    "    (filteredIcdDf.AUSTRALIAN_MODIFICATION.str.startswith('F03'))\n",
    "    |\n",
    "    (filteredIcdDf.AUSTRALIAN_MODIFICATION.str.startswith('G30'))\n",
    "    |\n",
    "    (filteredIcdDf.AUSTRALIAN_MODIFICATION.str.startswith('F051'))\n",
    "    |\n",
    "    (filteredIcdDf.AUSTRALIAN_MODIFICATION.str.startswith('G311'))\n",
    "].PATIENT_ID.unique().shape[0]/filteredIcdDf.PATIENT_ID.unique().shape[0] * 100, 2)"
   ]
  },
  {
   "cell_type": "markdown",
   "metadata": {},
   "source": [
    "## Chronic pulmonary disease"
   ]
  },
  {
   "cell_type": "code",
   "execution_count": 22,
   "metadata": {},
   "outputs": [
    {
     "data": {
      "text/plain": [
       "AUSTRALIAN_MODIFICATION  ICD_DESCRIPTION                                                             \n",
       "J440                     Chronic obstructive pulmonary disease with acute lower respiratory infection    90\n",
       "J449                     Chronic obstructive pulmonary disease, unspecified                              13\n",
       "J459                     Asthma, unspecified                                                             12\n",
       "J441                     Chronic obstructive pulmonary disease with acute exacerbation, unspecified       7\n",
       "J47                      Bronchiectasis                                                                   7\n",
       "J448                     Other specified chronic obstructive pulmonary disease                            6\n",
       "J439                     Emphysema, unspecified                                                           4\n",
       "J628                     Pneumoconiosis due to other dust containing silica                               2\n",
       "dtype: int64"
      ]
     },
     "execution_count": 22,
     "metadata": {},
     "output_type": "execute_result"
    }
   ],
   "source": [
    "filteredIcdDf[\n",
    "    (filteredIcdDf.AUSTRALIAN_MODIFICATION.str.startswith('I278'))\n",
    "    |\n",
    "    (filteredIcdDf.AUSTRALIAN_MODIFICATION.str.startswith('I279'))\n",
    "    |\n",
    "    (filteredIcdDf.AUSTRALIAN_MODIFICATION.str.startswith('J40')) | (filteredIcdDf.AUSTRALIAN_MODIFICATION.str.startswith('J41')) | (filteredIcdDf.AUSTRALIAN_MODIFICATION.str.startswith('J42')) | (filteredIcdDf.AUSTRALIAN_MODIFICATION.str.startswith('J43')) | (filteredIcdDf.AUSTRALIAN_MODIFICATION.str.startswith('J44')) | (filteredIcdDf.AUSTRALIAN_MODIFICATION.str.startswith('J45')) | (filteredIcdDf.AUSTRALIAN_MODIFICATION.str.startswith('J46')) | (filteredIcdDf.AUSTRALIAN_MODIFICATION.str.startswith('J47'))\n",
    "    |\n",
    "    (filteredIcdDf.AUSTRALIAN_MODIFICATION.str.startswith('J60')) | (filteredIcdDf.AUSTRALIAN_MODIFICATION.str.startswith('J61')) | (filteredIcdDf.AUSTRALIAN_MODIFICATION.str.startswith('J62')) | (filteredIcdDf.AUSTRALIAN_MODIFICATION.str.startswith('J63')) | (filteredIcdDf.AUSTRALIAN_MODIFICATION.str.startswith('J64')) | (filteredIcdDf.AUSTRALIAN_MODIFICATION.str.startswith('J65')) | (filteredIcdDf.AUSTRALIAN_MODIFICATION.str.startswith('J66')) | (filteredIcdDf.AUSTRALIAN_MODIFICATION.str.startswith('J67'))\n",
    "    |\n",
    "    (filteredIcdDf.AUSTRALIAN_MODIFICATION.str.startswith('J684'))\n",
    "    |\n",
    "    (filteredIcdDf.AUSTRALIAN_MODIFICATION.str.startswith('J701'))\n",
    "    |\n",
    "    (filteredIcdDf.AUSTRALIAN_MODIFICATION.str.startswith('J703'))\n",
    "][['AUSTRALIAN_MODIFICATION', 'ICD_DESCRIPTION']].value_counts()"
   ]
  },
  {
   "cell_type": "code",
   "execution_count": 23,
   "metadata": {},
   "outputs": [
    {
     "data": {
      "text/plain": [
       "5.91"
      ]
     },
     "execution_count": 23,
     "metadata": {},
     "output_type": "execute_result"
    }
   ],
   "source": [
    "round(filteredIcdDf[\n",
    "    (filteredIcdDf.AUSTRALIAN_MODIFICATION.str.startswith('I278'))\n",
    "    |\n",
    "    (filteredIcdDf.AUSTRALIAN_MODIFICATION.str.startswith('I279'))\n",
    "    |\n",
    "    (filteredIcdDf.AUSTRALIAN_MODIFICATION.str.startswith('J40')) | (filteredIcdDf.AUSTRALIAN_MODIFICATION.str.startswith('J41')) | (filteredIcdDf.AUSTRALIAN_MODIFICATION.str.startswith('J42')) | (filteredIcdDf.AUSTRALIAN_MODIFICATION.str.startswith('J43')) | (filteredIcdDf.AUSTRALIAN_MODIFICATION.str.startswith('J44')) | (filteredIcdDf.AUSTRALIAN_MODIFICATION.str.startswith('J45')) | (filteredIcdDf.AUSTRALIAN_MODIFICATION.str.startswith('J46')) | (filteredIcdDf.AUSTRALIAN_MODIFICATION.str.startswith('J47'))\n",
    "    |\n",
    "    (filteredIcdDf.AUSTRALIAN_MODIFICATION.str.startswith('J60')) | (filteredIcdDf.AUSTRALIAN_MODIFICATION.str.startswith('J61')) | (filteredIcdDf.AUSTRALIAN_MODIFICATION.str.startswith('J62')) | (filteredIcdDf.AUSTRALIAN_MODIFICATION.str.startswith('J63')) | (filteredIcdDf.AUSTRALIAN_MODIFICATION.str.startswith('J64')) | (filteredIcdDf.AUSTRALIAN_MODIFICATION.str.startswith('J65')) | (filteredIcdDf.AUSTRALIAN_MODIFICATION.str.startswith('J66')) | (filteredIcdDf.AUSTRALIAN_MODIFICATION.str.startswith('J67'))\n",
    "    |\n",
    "    (filteredIcdDf.AUSTRALIAN_MODIFICATION.str.startswith('J684'))\n",
    "    |\n",
    "    (filteredIcdDf.AUSTRALIAN_MODIFICATION.str.startswith('J701'))\n",
    "    |\n",
    "    (filteredIcdDf.AUSTRALIAN_MODIFICATION.str.startswith('J703'))\n",
    "].PATIENT_ID.unique().shape[0]/filteredIcdDf.PATIENT_ID.unique().shape[0] * 100, 2)"
   ]
  },
  {
   "cell_type": "markdown",
   "metadata": {},
   "source": [
    "## Rheumatologic disease"
   ]
  },
  {
   "cell_type": "code",
   "execution_count": 24,
   "metadata": {},
   "outputs": [
    {
     "data": {
      "text/plain": [
       "AUSTRALIAN_MODIFICATION  ICD_DESCRIPTION                                              \n",
       "M0699                    Rheumatoid arthritis, unspecified, site unspecified              7\n",
       "M348                     Other forms of systemic sclerosis                                5\n",
       "M353                     Polymyalgia rheumatica                                           4\n",
       "M349                     Systemic sclerosis, unspecified                                  4\n",
       "M321                     Systemic lupus erythematosus with organ or system involvement    4\n",
       "M0694                    Rheumatoid arthritis, unspecified, hand                          2\n",
       "M328                     Other forms of systemic lupus erythematosus                      2\n",
       "M0696                    Rheumatoid arthritis, unspecified, lower leg                     2\n",
       "M0509                    Felty's syndrome, site unspecified                               1\n",
       "M0643                    Inflammatory polyarthropathy, forearm                            1\n",
       "M0646                    Inflammatory polyarthropathy, lower leg                          1\n",
       "M329                     Systemic lupus erythematosus, unspecified                        1\n",
       "M332                     Polymyositis                                                     1\n",
       "M341                     CR(E)ST syndrome                                                 1\n",
       "dtype: int64"
      ]
     },
     "execution_count": 24,
     "metadata": {},
     "output_type": "execute_result"
    }
   ],
   "source": [
    "filteredIcdDf[\n",
    "    (filteredIcdDf.AUSTRALIAN_MODIFICATION.str.startswith('M05'))\n",
    "    |\n",
    "    (filteredIcdDf.AUSTRALIAN_MODIFICATION.str.startswith('M06'))\n",
    "    |\n",
    "    (filteredIcdDf.AUSTRALIAN_MODIFICATION.str.startswith('M315'))\n",
    "    |\n",
    "    (filteredIcdDf.AUSTRALIAN_MODIFICATION.str.startswith('M32'))\n",
    "    |\n",
    "    (filteredIcdDf.AUSTRALIAN_MODIFICATION.str.startswith('M33'))\n",
    "    |\n",
    "    (filteredIcdDf.AUSTRALIAN_MODIFICATION.str.startswith('M34'))\n",
    "    |\n",
    "    (filteredIcdDf.AUSTRALIAN_MODIFICATION.str.startswith('M351'))\n",
    "    |\n",
    "    (filteredIcdDf.AUSTRALIAN_MODIFICATION.str.startswith('M353'))\n",
    "    |\n",
    "    (filteredIcdDf.AUSTRALIAN_MODIFICATION.str.startswith('M360'))\n",
    "][['AUSTRALIAN_MODIFICATION', 'ICD_DESCRIPTION']].value_counts()"
   ]
  },
  {
   "cell_type": "code",
   "execution_count": 25,
   "metadata": {},
   "outputs": [
    {
     "data": {
      "text/plain": [
       "1.26"
      ]
     },
     "execution_count": 25,
     "metadata": {},
     "output_type": "execute_result"
    }
   ],
   "source": [
    "round(filteredIcdDf[\n",
    "    (filteredIcdDf.AUSTRALIAN_MODIFICATION.str.startswith('M05'))\n",
    "    |\n",
    "    (filteredIcdDf.AUSTRALIAN_MODIFICATION.str.startswith('M06'))\n",
    "    |\n",
    "    (filteredIcdDf.AUSTRALIAN_MODIFICATION.str.startswith('M315'))\n",
    "    |\n",
    "    (filteredIcdDf.AUSTRALIAN_MODIFICATION.str.startswith('M32'))\n",
    "    |\n",
    "    (filteredIcdDf.AUSTRALIAN_MODIFICATION.str.startswith('M33'))\n",
    "    |\n",
    "    (filteredIcdDf.AUSTRALIAN_MODIFICATION.str.startswith('M34'))\n",
    "    |\n",
    "    (filteredIcdDf.AUSTRALIAN_MODIFICATION.str.startswith('M351'))\n",
    "    |\n",
    "    (filteredIcdDf.AUSTRALIAN_MODIFICATION.str.startswith('M353'))\n",
    "    |\n",
    "    (filteredIcdDf.AUSTRALIAN_MODIFICATION.str.startswith('M360'))\n",
    "].PATIENT_ID.unique().shape[0]/filteredIcdDf.PATIENT_ID.unique().shape[0] * 100, 2)"
   ]
  },
  {
   "cell_type": "markdown",
   "metadata": {},
   "source": [
    "## Peptic ulcer"
   ]
  },
  {
   "cell_type": "code",
   "execution_count": 26,
   "metadata": {},
   "outputs": [
    {
     "data": {
      "text/plain": [
       "AUSTRALIAN_MODIFICATION  ICD_DESCRIPTION                                                                    \n",
       "K2970                    Gastritis, unspecified, without mention of haemorrhage                                 9\n",
       "K264                     Duodenal ulcer, chronic or unspecified with haemorrhage                                5\n",
       "K2960                    Other gastritis, without mention of haemorrhage                                        4\n",
       "K2971                    Gastritis, unspecified, with haemorrhage                                               4\n",
       "K2950                    Chronic gastritis, unspecified, without mention of haemorrhage                         4\n",
       "K254                     Gastric ulcer, chronic or unspecified with haemorrhage                                 4\n",
       "K2980                    Duodenitis, without mention of haemorrhage                                             3\n",
       "K269                     Duodenal ulcer, unspecified as acute or chronic, without haemorrhage or perforation    3\n",
       "K265                     Duodenal ulcer, chronic or unspecified with perforation                                2\n",
       "K291                     Other acute gastritis                                                                  2\n",
       "K2961                    Other gastritis, with haemorrhage                                                      2\n",
       "K2981                    Duodenitis, with haemorrhage                                                           2\n",
       "K290                     Acute haemorrhagic gastritis                                                           1\n",
       "K259                     Gastric ulcer, unspecified as acute or chronic, without haemorrhage or perforation     1\n",
       "dtype: int64"
      ]
     },
     "execution_count": 26,
     "metadata": {},
     "output_type": "execute_result"
    }
   ],
   "source": [
    "filteredIcdDf[\n",
    "    (filteredIcdDf.AUSTRALIAN_MODIFICATION.str.startswith('K25'))\n",
    "    |\n",
    "    (filteredIcdDf.AUSTRALIAN_MODIFICATION.str.startswith('K26'))\n",
    "    |\n",
    "    (filteredIcdDf.AUSTRALIAN_MODIFICATION.str.startswith('K27'))\n",
    "    |\n",
    "    (filteredIcdDf.AUSTRALIAN_MODIFICATION.str.startswith('K28'))\n",
    "    |\n",
    "    (filteredIcdDf.AUSTRALIAN_MODIFICATION.str.startswith('K29'))\n",
    "][['AUSTRALIAN_MODIFICATION', 'ICD_DESCRIPTION']].value_counts()"
   ]
  },
  {
   "cell_type": "code",
   "execution_count": 27,
   "metadata": {},
   "outputs": [
    {
     "data": {
      "text/plain": [
       "2.12"
      ]
     },
     "execution_count": 27,
     "metadata": {},
     "output_type": "execute_result"
    }
   ],
   "source": [
    "round(filteredIcdDf[\n",
    "    (filteredIcdDf.AUSTRALIAN_MODIFICATION.str.startswith('K25'))\n",
    "    |\n",
    "    (filteredIcdDf.AUSTRALIAN_MODIFICATION.str.startswith('K26'))\n",
    "    |\n",
    "    (filteredIcdDf.AUSTRALIAN_MODIFICATION.str.startswith('K27'))\n",
    "    |\n",
    "    (filteredIcdDf.AUSTRALIAN_MODIFICATION.str.startswith('K28'))\n",
    "    |\n",
    "    (filteredIcdDf.AUSTRALIAN_MODIFICATION.str.startswith('K29'))\n",
    "].PATIENT_ID.unique().shape[0]/filteredIcdDf.PATIENT_ID.unique().shape[0] * 100, 2)"
   ]
  },
  {
   "cell_type": "markdown",
   "metadata": {},
   "source": [
    "## Hemiplegia/ paraplegia"
   ]
  },
  {
   "cell_type": "code",
   "execution_count": 28,
   "metadata": {},
   "outputs": [
    {
     "data": {
      "text/plain": [
       "AUSTRALIAN_MODIFICATION  ICD_DESCRIPTION                              \n",
       "G819                     Hemiplegia, unspecified                          67\n",
       "G834                     Cauda equina syndrome                             5\n",
       "G832                     Monoplegia of upper limb                          5\n",
       "G8205                    Flaccid paraplegia, incomplete, acute             4\n",
       "G8200                    Flaccid paraplegia, unspecified                   1\n",
       "G8220                    Paraplegia, unspecified, unspecified              1\n",
       "G8242                    Spastic tetraplegia, unspecified, chronic         1\n",
       "G8225                    Paraplegia, unspecified, incomplete, acute        1\n",
       "G8250                    Tetraplegia, unspecified, unspecified             1\n",
       "G8252                    Tetraplegia, unspecified, chronic                 1\n",
       "G8256                    Tetraplegia, unspecified, incomplete, chronic     1\n",
       "G8255                    Tetraplegia, unspecified, incomplete, acute       1\n",
       "G833                     Monoplegia, unspecified                           1\n",
       "G839                     Paralytic syndrome, unspecified                   1\n",
       "dtype: int64"
      ]
     },
     "execution_count": 28,
     "metadata": {},
     "output_type": "execute_result"
    }
   ],
   "source": [
    "filteredIcdDf[\n",
    "    (filteredIcdDf.AUSTRALIAN_MODIFICATION.str.startswith('G041'))\n",
    "    |\n",
    "    (filteredIcdDf.AUSTRALIAN_MODIFICATION.str.startswith('G114'))\n",
    "    |\n",
    "    (filteredIcdDf.AUSTRALIAN_MODIFICATION.str.startswith('G801'))\n",
    "    |\n",
    "    (filteredIcdDf.AUSTRALIAN_MODIFICATION.str.startswith('G802'))\n",
    "    |\n",
    "    (filteredIcdDf.AUSTRALIAN_MODIFICATION.str.startswith('G81'))\n",
    "    |\n",
    "    (filteredIcdDf.AUSTRALIAN_MODIFICATION.str.startswith('G82'))\n",
    "    |\n",
    "    (filteredIcdDf.AUSTRALIAN_MODIFICATION.str.startswith('G830'))\n",
    "    |\n",
    "    (filteredIcdDf.AUSTRALIAN_MODIFICATION.str.startswith('G831'))\n",
    "    |\n",
    "    (filteredIcdDf.AUSTRALIAN_MODIFICATION.str.startswith('G832'))\n",
    "    |\n",
    "    (filteredIcdDf.AUSTRALIAN_MODIFICATION.str.startswith('G833'))\n",
    "    |\n",
    "    (filteredIcdDf.AUSTRALIAN_MODIFICATION.str.startswith('G834'))\n",
    "    |\n",
    "    (filteredIcdDf.AUSTRALIAN_MODIFICATION.str.startswith('G839'))\n",
    "][['AUSTRALIAN_MODIFICATION', 'ICD_DESCRIPTION']].value_counts()"
   ]
  },
  {
   "cell_type": "code",
   "execution_count": 29,
   "metadata": {},
   "outputs": [
    {
     "data": {
      "text/plain": [
       "3.84"
      ]
     },
     "execution_count": 29,
     "metadata": {},
     "output_type": "execute_result"
    }
   ],
   "source": [
    "round(filteredIcdDf[\n",
    "    (filteredIcdDf.AUSTRALIAN_MODIFICATION.str.startswith('G041'))\n",
    "    |\n",
    "    (filteredIcdDf.AUSTRALIAN_MODIFICATION.str.startswith('G114'))\n",
    "    |\n",
    "    (filteredIcdDf.AUSTRALIAN_MODIFICATION.str.startswith('G801'))\n",
    "    |\n",
    "    (filteredIcdDf.AUSTRALIAN_MODIFICATION.str.startswith('G802'))\n",
    "    |\n",
    "    (filteredIcdDf.AUSTRALIAN_MODIFICATION.str.startswith('G81'))\n",
    "    |\n",
    "    (filteredIcdDf.AUSTRALIAN_MODIFICATION.str.startswith('G82'))\n",
    "    |\n",
    "    (filteredIcdDf.AUSTRALIAN_MODIFICATION.str.startswith('G830'))\n",
    "    |\n",
    "    (filteredIcdDf.AUSTRALIAN_MODIFICATION.str.startswith('G831'))\n",
    "    |\n",
    "    (filteredIcdDf.AUSTRALIAN_MODIFICATION.str.startswith('G832'))\n",
    "    |\n",
    "    (filteredIcdDf.AUSTRALIAN_MODIFICATION.str.startswith('G833'))\n",
    "    |\n",
    "    (filteredIcdDf.AUSTRALIAN_MODIFICATION.str.startswith('G834'))\n",
    "    |\n",
    "    (filteredIcdDf.AUSTRALIAN_MODIFICATION.str.startswith('G839'))\n",
    "].PATIENT_ID.unique().shape[0]/filteredIcdDf.PATIENT_ID.unique().shape[0] * 100, 2)"
   ]
  },
  {
   "cell_type": "markdown",
   "metadata": {},
   "source": [
    "## Diabetes without complications"
   ]
  },
  {
   "cell_type": "code",
   "execution_count": 30,
   "metadata": {},
   "outputs": [
    {
     "data": {
      "text/plain": [
       "AUSTRALIAN_MODIFICATION  ICD_DESCRIPTION                                                                                                    \n",
       "E119                     Type 2 diabetes mellitus without complication                                                                          367\n",
       "E1165                    Type 2 diabetes mellitus with poor control                                                                             157\n",
       "E139                     Other specified diabetes mellitus without complication                                                                  91\n",
       "E1164                    Type 2 diabetes mellitus with hypoglycaemia                                                                             89\n",
       "E1169                    Type 2 diabetes mellitus with other specified complication                                                              57\n",
       "E1101                    Type 2 diabetes mellitus with hyperosmolarity without nonketotic hyperglycaemic-hyperosmolar coma [NKHHC]               33\n",
       "E1365                    Other specified diabetes mellitus with poor control                                                                     22\n",
       "E1364                    Other specified diabetes mellitus with hypoglycaemia                                                                    20\n",
       "E1065                    Type 1 diabetes mellitus with poor control                                                                              17\n",
       "E1111                    Type 2 diabetes mellitus with ketoacidosis, without coma                                                                11\n",
       "E1161                    Type 2 diabetes mellitus with specified diabetic musculoskeletal and connective tissue complication                     11\n",
       "E1369                    Other specified diabetes mellitus with other specified complication                                                      9\n",
       "E1064                    Type 1 diabetes mellitus with hypoglycaemia                                                                              9\n",
       "E1162                    Type 2 diabetes mellitus with specified skin and subcutaneous tissue complication                                        7\n",
       "E1301                    Other specified diabetes mellitus with hyperosmolarity, without nonketotic hyperglycaemic-hyperosmolar coma [NKHHC]      6\n",
       "E1113                    Type 2 diabetes mellitus with lactic acidosis, without coma                                                              4\n",
       "E1311                    Other specified diabetes mellitus with ketoacidosis, without coma                                                        4\n",
       "E1011                    Type 1 diabetes mellitus with ketoacidosis, without coma                                                                 3\n",
       "E1061                    Type 1 diabetes mellitus with specified diabetic musculoskeletal and connective tissue complication                      3\n",
       "E109                     Type 1 diabetes mellitus without complication                                                                            3\n",
       "E1069                    Type 1 diabetes mellitus with other specified complication                                                               1\n",
       "E1013                    Type 1 diabetes mellitus with lactic acidosis, without coma                                                              1\n",
       "E1001                    Type 1 diabetes mellitus with hyperosmolarity without nonketotic hyperglycaemic-hyperosmolar coma (NKHHC)                1\n",
       "E1163                    Type 2 diabetes mellitus with specified periodontal complication                                                         1\n",
       "dtype: int64"
      ]
     },
     "execution_count": 30,
     "metadata": {},
     "output_type": "execute_result"
    }
   ],
   "source": [
    "filteredIcdDf[\n",
    "    (filteredIcdDf.AUSTRALIAN_MODIFICATION.str.startswith('E100'))\n",
    "    |\n",
    "    (filteredIcdDf.AUSTRALIAN_MODIFICATION.str.startswith('E101'))\n",
    "    |\n",
    "    (filteredIcdDf.AUSTRALIAN_MODIFICATION.str.startswith('E106'))\n",
    "    |\n",
    "    (filteredIcdDf.AUSTRALIAN_MODIFICATION.str.startswith('E108'))\n",
    "    |\n",
    "    (filteredIcdDf.AUSTRALIAN_MODIFICATION.str.startswith('E109'))\n",
    "    |\n",
    "    (filteredIcdDf.AUSTRALIAN_MODIFICATION.str.startswith('E110'))\n",
    "    |\n",
    "    (filteredIcdDf.AUSTRALIAN_MODIFICATION.str.startswith('E111'))\n",
    "    |\n",
    "    (filteredIcdDf.AUSTRALIAN_MODIFICATION.str.startswith('E116'))\n",
    "    |\n",
    "    (filteredIcdDf.AUSTRALIAN_MODIFICATION.str.startswith('E118'))\n",
    "    |\n",
    "    (filteredIcdDf.AUSTRALIAN_MODIFICATION.str.startswith('E119'))\n",
    "    |\n",
    "    (filteredIcdDf.AUSTRALIAN_MODIFICATION.str.startswith('E120'))\n",
    "    |\n",
    "    (filteredIcdDf.AUSTRALIAN_MODIFICATION.str.startswith('E121'))\n",
    "    |\n",
    "    (filteredIcdDf.AUSTRALIAN_MODIFICATION.str.startswith('E126'))\n",
    "    |\n",
    "    (filteredIcdDf.AUSTRALIAN_MODIFICATION.str.startswith('E128'))\n",
    "    |\n",
    "    (filteredIcdDf.AUSTRALIAN_MODIFICATION.str.startswith('E129'))\n",
    "    |\n",
    "    (filteredIcdDf.AUSTRALIAN_MODIFICATION.str.startswith('E130'))\n",
    "    |\n",
    "    (filteredIcdDf.AUSTRALIAN_MODIFICATION.str.startswith('E131'))\n",
    "    |\n",
    "    (filteredIcdDf.AUSTRALIAN_MODIFICATION.str.startswith('E136'))\n",
    "    |\n",
    "    (filteredIcdDf.AUSTRALIAN_MODIFICATION.str.startswith('E138'))\n",
    "    |\n",
    "    (filteredIcdDf.AUSTRALIAN_MODIFICATION.str.startswith('E139'))\n",
    "    |\n",
    "    (filteredIcdDf.AUSTRALIAN_MODIFICATION.str.startswith('E140'))\n",
    "    |\n",
    "    (filteredIcdDf.AUSTRALIAN_MODIFICATION.str.startswith('E141'))\n",
    "    |\n",
    "    (filteredIcdDf.AUSTRALIAN_MODIFICATION.str.startswith('E146'))\n",
    "    |\n",
    "    (filteredIcdDf.AUSTRALIAN_MODIFICATION.str.startswith('E148'))\n",
    "][['AUSTRALIAN_MODIFICATION', 'ICD_DESCRIPTION']].value_counts()"
   ]
  },
  {
   "cell_type": "code",
   "execution_count": 31,
   "metadata": {},
   "outputs": [
    {
     "data": {
      "text/plain": [
       "20.25"
      ]
     },
     "execution_count": 31,
     "metadata": {},
     "output_type": "execute_result"
    }
   ],
   "source": [
    "round(filteredIcdDf[\n",
    "    (filteredIcdDf.AUSTRALIAN_MODIFICATION.str.startswith('E100'))\n",
    "    |\n",
    "    (filteredIcdDf.AUSTRALIAN_MODIFICATION.str.startswith('E101'))\n",
    "    |\n",
    "    (filteredIcdDf.AUSTRALIAN_MODIFICATION.str.startswith('E106'))\n",
    "    |\n",
    "    (filteredIcdDf.AUSTRALIAN_MODIFICATION.str.startswith('E108'))\n",
    "    |\n",
    "    (filteredIcdDf.AUSTRALIAN_MODIFICATION.str.startswith('E109'))\n",
    "    |\n",
    "    (filteredIcdDf.AUSTRALIAN_MODIFICATION.str.startswith('E110'))\n",
    "    |\n",
    "    (filteredIcdDf.AUSTRALIAN_MODIFICATION.str.startswith('E111'))\n",
    "    |\n",
    "    (filteredIcdDf.AUSTRALIAN_MODIFICATION.str.startswith('E116'))\n",
    "    |\n",
    "    (filteredIcdDf.AUSTRALIAN_MODIFICATION.str.startswith('E118'))\n",
    "    |\n",
    "    (filteredIcdDf.AUSTRALIAN_MODIFICATION.str.startswith('E119'))\n",
    "    |\n",
    "    (filteredIcdDf.AUSTRALIAN_MODIFICATION.str.startswith('E120'))\n",
    "    |\n",
    "    (filteredIcdDf.AUSTRALIAN_MODIFICATION.str.startswith('E121'))\n",
    "    |\n",
    "    (filteredIcdDf.AUSTRALIAN_MODIFICATION.str.startswith('E126'))\n",
    "    |\n",
    "    (filteredIcdDf.AUSTRALIAN_MODIFICATION.str.startswith('E128'))\n",
    "    |\n",
    "    (filteredIcdDf.AUSTRALIAN_MODIFICATION.str.startswith('E129'))\n",
    "    |\n",
    "    (filteredIcdDf.AUSTRALIAN_MODIFICATION.str.startswith('E130'))\n",
    "    |\n",
    "    (filteredIcdDf.AUSTRALIAN_MODIFICATION.str.startswith('E131'))\n",
    "    |\n",
    "    (filteredIcdDf.AUSTRALIAN_MODIFICATION.str.startswith('E136'))\n",
    "    |\n",
    "    (filteredIcdDf.AUSTRALIAN_MODIFICATION.str.startswith('E138'))\n",
    "    |\n",
    "    (filteredIcdDf.AUSTRALIAN_MODIFICATION.str.startswith('E139'))\n",
    "    |\n",
    "    (filteredIcdDf.AUSTRALIAN_MODIFICATION.str.startswith('E140'))\n",
    "    |\n",
    "    (filteredIcdDf.AUSTRALIAN_MODIFICATION.str.startswith('E141'))\n",
    "    |\n",
    "    (filteredIcdDf.AUSTRALIAN_MODIFICATION.str.startswith('E146'))\n",
    "    |\n",
    "    (filteredIcdDf.AUSTRALIAN_MODIFICATION.str.startswith('E148'))\n",
    "].PATIENT_ID.unique().shape[0]/filteredIcdDf.PATIENT_ID.unique().shape[0] * 100, 2)"
   ]
  },
  {
   "cell_type": "markdown",
   "metadata": {},
   "source": [
    "## Diabetes with chronic complications"
   ]
  },
  {
   "cell_type": "code",
   "execution_count": 32,
   "metadata": {},
   "outputs": [
    {
     "data": {
      "text/plain": [
       "AUSTRALIAN_MODIFICATION  ICD_DESCRIPTION                                                                                            \n",
       "E1122                    Type 2 diabetes mellitus with established diabetic nephropathy                                                 393\n",
       "E1129                    Type 2 diabetes mellitus with other specified kidney complication                                              250\n",
       "E1172                    Type 2 diabetes mellitus with features of insulin resistance                                                   243\n",
       "E1171                    Type 2 diabetes mellitus with multiple microvascular and other specified nonvascular complications             201\n",
       "E1151                    Type 2 diabetes mellitus with peripheral angiopathy, without gangrene                                          115\n",
       "E1173                    Type 2 diabetes mellitus with foot ulcer due to multiple causes                                                 77\n",
       "E1121                    Type 2 diabetes mellitus with incipient diabetic nephropathy                                                    55\n",
       "E1329                    Other specified diabetes mellitus with other specified kidney complication                                      51\n",
       "E1322                    Other specified diabetes mellitus with established diabetic nephropathy                                         40\n",
       "E1022                    Type 1 diabetes mellitus with established diabetic nephropathy                                                  30\n",
       "E1152                    Type 2 diabetes mellitus with peripheral angiopathy, with gangrene                                              30\n",
       "E1071                    Type 1 diabetes mellitus with multiple microvascular and other specified nonvascular complications              24\n",
       "E1042                    Type 1 diabetes mellitus with diabetic polyneuropathy                                                           24\n",
       "E1372                    Other specified diabetes mellitus with features of insulin resistance                                           22\n",
       "E1371                    Other specified diabetes mellitus with multiple microvascular and other specified nonvascular complications     20\n",
       "E1342                    Other specified diabetes mellitus with diabetic polyneuropathy                                                  16\n",
       "E1031                    Type 1 diabetes mellitus with background retinopathy                                                            14\n",
       "E1073                    Type 1 diabetes mellitus with foot ulcer due to multiple causes                                                 13\n",
       "E1343                    Other specified diabetes mellitus with diabetic autonomic neuropathy                                            11\n",
       "E1051                    Type 1 diabetes mellitus with peripheral angiopathy, without gangrene                                            9\n",
       "E1052                    Type 1 diabetes mellitus with peripheral angiopathy, with gangrene                                               7\n",
       "E1043                    Type 1 diabetes mellitus with diabetic autonomic neuropathy                                                      7\n",
       "E1321                    Other specified diabetes mellitus with incipient diabetic nephropathy                                            6\n",
       "E1029                    Type 1 diabetes mellitus with other specified kidney complication                                                5\n",
       "E1039                    Type 1 diabetes mellitus with other specified ophthalmic complication                                            5\n",
       "E1340                    Other specified diabetes mellitus with unspecified neuropathy                                                    4\n",
       "E1339                    Other specified diabetes mellitus with other specified ophthalmic complication                                   4\n",
       "E1373                    Other specified diabetes mellitus with foot ulcer due to multiple causes                                         3\n",
       "E1021                    Type 1 diabetes mellitus with incipient diabetic nephropathy                                                     2\n",
       "E1040                    Type 1 diabetes mellitus with unspecified neuropathy                                                             2\n",
       "E1351                    Other specified diabetes mellitus with peripheral angiopathy, without gangrene                                   2\n",
       "E1033                    Type 1 diabetes mellitus with proliferative retinopathy                                                          1\n",
       "E1352                    Other specified diabetes mellitus with peripheral angiopathy, with gangrene                                      1\n",
       "E1422                    Unspecified diabetes mellitus with established diabetic nephropathy                                              1\n",
       "dtype: int64"
      ]
     },
     "execution_count": 32,
     "metadata": {},
     "output_type": "execute_result"
    }
   ],
   "source": [
    "filteredIcdDf[\n",
    "    (filteredIcdDf.AUSTRALIAN_MODIFICATION.str.startswith('E102'))\n",
    "    |\n",
    "    (filteredIcdDf.AUSTRALIAN_MODIFICATION.str.startswith('E103'))\n",
    "    |\n",
    "    (filteredIcdDf.AUSTRALIAN_MODIFICATION.str.startswith('E104'))\n",
    "    |\n",
    "    (filteredIcdDf.AUSTRALIAN_MODIFICATION.str.startswith('E105'))\n",
    "    |\n",
    "    (filteredIcdDf.AUSTRALIAN_MODIFICATION.str.startswith('E107'))\n",
    "    |\n",
    "    (filteredIcdDf.AUSTRALIAN_MODIFICATION.str.startswith('E112'))\n",
    "    |\n",
    "    (filteredIcdDf.AUSTRALIAN_MODIFICATION.str.startswith('E115'))\n",
    "    |\n",
    "    (filteredIcdDf.AUSTRALIAN_MODIFICATION.str.startswith('E117'))\n",
    "    |\n",
    "    (filteredIcdDf.AUSTRALIAN_MODIFICATION.str.startswith('E122'))\n",
    "    |\n",
    "    (filteredIcdDf.AUSTRALIAN_MODIFICATION.str.startswith('E123'))\n",
    "    |\n",
    "    (filteredIcdDf.AUSTRALIAN_MODIFICATION.str.startswith('E124'))\n",
    "    |\n",
    "    (filteredIcdDf.AUSTRALIAN_MODIFICATION.str.startswith('E125'))\n",
    "    |\n",
    "    (filteredIcdDf.AUSTRALIAN_MODIFICATION.str.startswith('E127'))\n",
    "    |\n",
    "    (filteredIcdDf.AUSTRALIAN_MODIFICATION.str.startswith('E132'))\n",
    "    |\n",
    "    (filteredIcdDf.AUSTRALIAN_MODIFICATION.str.startswith('E133'))\n",
    "    |\n",
    "    (filteredIcdDf.AUSTRALIAN_MODIFICATION.str.startswith('E134'))\n",
    "    |\n",
    "    (filteredIcdDf.AUSTRALIAN_MODIFICATION.str.startswith('E135'))\n",
    "    |\n",
    "    (filteredIcdDf.AUSTRALIAN_MODIFICATION.str.startswith('E137'))\n",
    "    |\n",
    "    (filteredIcdDf.AUSTRALIAN_MODIFICATION.str.startswith('E142'))\n",
    "    |\n",
    "    (filteredIcdDf.AUSTRALIAN_MODIFICATION.str.startswith('E143'))\n",
    "    |\n",
    "    (filteredIcdDf.AUSTRALIAN_MODIFICATION.str.startswith('E144'))\n",
    "    |\n",
    "    (filteredIcdDf.AUSTRALIAN_MODIFICATION.str.startswith('E145'))\n",
    "    |\n",
    "    (filteredIcdDf.AUSTRALIAN_MODIFICATION.str.startswith('E147'))\n",
    "][['AUSTRALIAN_MODIFICATION', 'ICD_DESCRIPTION']].value_counts()"
   ]
  },
  {
   "cell_type": "code",
   "execution_count": 33,
   "metadata": {},
   "outputs": [
    {
     "data": {
      "text/plain": [
       "21.97"
      ]
     },
     "execution_count": 33,
     "metadata": {},
     "output_type": "execute_result"
    }
   ],
   "source": [
    "round(filteredIcdDf[\n",
    "    (filteredIcdDf.AUSTRALIAN_MODIFICATION.str.startswith('E102'))\n",
    "    |\n",
    "    (filteredIcdDf.AUSTRALIAN_MODIFICATION.str.startswith('E103'))\n",
    "    |\n",
    "    (filteredIcdDf.AUSTRALIAN_MODIFICATION.str.startswith('E104'))\n",
    "    |\n",
    "    (filteredIcdDf.AUSTRALIAN_MODIFICATION.str.startswith('E105'))\n",
    "    |\n",
    "    (filteredIcdDf.AUSTRALIAN_MODIFICATION.str.startswith('E107'))\n",
    "    |\n",
    "    (filteredIcdDf.AUSTRALIAN_MODIFICATION.str.startswith('E112'))\n",
    "    |\n",
    "    (filteredIcdDf.AUSTRALIAN_MODIFICATION.str.startswith('E115'))\n",
    "    |\n",
    "    (filteredIcdDf.AUSTRALIAN_MODIFICATION.str.startswith('E117'))\n",
    "    |\n",
    "    (filteredIcdDf.AUSTRALIAN_MODIFICATION.str.startswith('E122'))\n",
    "    |\n",
    "    (filteredIcdDf.AUSTRALIAN_MODIFICATION.str.startswith('E123'))\n",
    "    |\n",
    "    (filteredIcdDf.AUSTRALIAN_MODIFICATION.str.startswith('E124'))\n",
    "    |\n",
    "    (filteredIcdDf.AUSTRALIAN_MODIFICATION.str.startswith('E125'))\n",
    "    |\n",
    "    (filteredIcdDf.AUSTRALIAN_MODIFICATION.str.startswith('E127'))\n",
    "    |\n",
    "    (filteredIcdDf.AUSTRALIAN_MODIFICATION.str.startswith('E132'))\n",
    "    |\n",
    "    (filteredIcdDf.AUSTRALIAN_MODIFICATION.str.startswith('E133'))\n",
    "    |\n",
    "    (filteredIcdDf.AUSTRALIAN_MODIFICATION.str.startswith('E134'))\n",
    "    |\n",
    "    (filteredIcdDf.AUSTRALIAN_MODIFICATION.str.startswith('E135'))\n",
    "    |\n",
    "    (filteredIcdDf.AUSTRALIAN_MODIFICATION.str.startswith('E137'))\n",
    "    |\n",
    "    (filteredIcdDf.AUSTRALIAN_MODIFICATION.str.startswith('E142'))\n",
    "    |\n",
    "    (filteredIcdDf.AUSTRALIAN_MODIFICATION.str.startswith('E143'))\n",
    "    |\n",
    "    (filteredIcdDf.AUSTRALIAN_MODIFICATION.str.startswith('E144'))\n",
    "    |\n",
    "    (filteredIcdDf.AUSTRALIAN_MODIFICATION.str.startswith('E145'))\n",
    "    |\n",
    "    (filteredIcdDf.AUSTRALIAN_MODIFICATION.str.startswith('E147'))\n",
    "].PATIENT_ID.unique().shape[0]/filteredIcdDf.PATIENT_ID.unique().shape[0] * 100, 2)"
   ]
  },
  {
   "cell_type": "markdown",
   "metadata": {},
   "source": [
    "## Mild liver disease"
   ]
  },
  {
   "cell_type": "code",
   "execution_count": 34,
   "metadata": {},
   "outputs": [
    {
     "data": {
      "text/plain": [
       "AUSTRALIAN_MODIFICATION  ICD_DESCRIPTION                                  \n",
       "B182                     Chronic viral hepatitis C                            95\n",
       "K746                     Other and unspecified cirrhosis of liver             72\n",
       "B181                     Chronic viral hepatitis B without delta-agent        60\n",
       "K703                     Alcoholic cirrhosis of liver                         44\n",
       "K768                     Other specified diseases of liver                    10\n",
       "K769                     Liver disease, unspecified                           10\n",
       "K760                     Fatty (change of) liver, not elsewhere classified     9\n",
       "K701                     Alcoholic hepatitis                                   7\n",
       "K709                     Alcoholic liver disease, unspecified                  3\n",
       "K763                     Infarction of liver                                   2\n",
       "K700                     Alcoholic fatty liver                                 1\n",
       "K743                     Primary biliary cirrhosis                             1\n",
       "K764                     Peliosis hepatis                                      1\n",
       "Z944                     Liver transplant status                               1\n",
       "dtype: int64"
      ]
     },
     "execution_count": 34,
     "metadata": {},
     "output_type": "execute_result"
    }
   ],
   "source": [
    "filteredIcdDf[\n",
    "    (filteredIcdDf.AUSTRALIAN_MODIFICATION.str.startswith('B18'))\n",
    "    |\n",
    "    (filteredIcdDf.AUSTRALIAN_MODIFICATION.str.startswith('K700'))\n",
    "    |\n",
    "    (filteredIcdDf.AUSTRALIAN_MODIFICATION.str.startswith('K701'))\n",
    "    |\n",
    "    (filteredIcdDf.AUSTRALIAN_MODIFICATION.str.startswith('K702'))\n",
    "    |\n",
    "    (filteredIcdDf.AUSTRALIAN_MODIFICATION.str.startswith('K703'))\n",
    "    |\n",
    "    (filteredIcdDf.AUSTRALIAN_MODIFICATION.str.startswith('K709'))\n",
    "    |\n",
    "    (filteredIcdDf.AUSTRALIAN_MODIFICATION.str.startswith('K713'))\n",
    "    |\n",
    "    (filteredIcdDf.AUSTRALIAN_MODIFICATION.str.startswith('K714'))\n",
    "    |\n",
    "    (filteredIcdDf.AUSTRALIAN_MODIFICATION.str.startswith('K715'))\n",
    "    |\n",
    "    (filteredIcdDf.AUSTRALIAN_MODIFICATION.str.startswith('K717'))\n",
    "    |\n",
    "    (filteredIcdDf.AUSTRALIAN_MODIFICATION.str.startswith('K73'))\n",
    "    |\n",
    "    (filteredIcdDf.AUSTRALIAN_MODIFICATION.str.startswith('K74'))\n",
    "    |\n",
    "    (filteredIcdDf.AUSTRALIAN_MODIFICATION.str.startswith('K760'))\n",
    "    |\n",
    "    (filteredIcdDf.AUSTRALIAN_MODIFICATION.str.startswith('K762'))\n",
    "    |\n",
    "    (filteredIcdDf.AUSTRALIAN_MODIFICATION.str.startswith('K763'))\n",
    "    |\n",
    "    (filteredIcdDf.AUSTRALIAN_MODIFICATION.str.startswith('K764'))\n",
    "    |\n",
    "    (filteredIcdDf.AUSTRALIAN_MODIFICATION.str.startswith('K768'))\n",
    "    |\n",
    "    (filteredIcdDf.AUSTRALIAN_MODIFICATION.str.startswith('K769'))\n",
    "    |\n",
    "    (filteredIcdDf.AUSTRALIAN_MODIFICATION.str.startswith('Z944'))\n",
    "][['AUSTRALIAN_MODIFICATION', 'ICD_DESCRIPTION']].value_counts()"
   ]
  },
  {
   "cell_type": "code",
   "execution_count": 35,
   "metadata": {},
   "outputs": [
    {
     "data": {
      "text/plain": [
       "7.86"
      ]
     },
     "execution_count": 35,
     "metadata": {},
     "output_type": "execute_result"
    }
   ],
   "source": [
    "round(filteredIcdDf[\n",
    "    (filteredIcdDf.AUSTRALIAN_MODIFICATION.str.startswith('B18'))\n",
    "    |\n",
    "    (filteredIcdDf.AUSTRALIAN_MODIFICATION.str.startswith('K700'))\n",
    "    |\n",
    "    (filteredIcdDf.AUSTRALIAN_MODIFICATION.str.startswith('K701'))\n",
    "    |\n",
    "    (filteredIcdDf.AUSTRALIAN_MODIFICATION.str.startswith('K702'))\n",
    "    |\n",
    "    (filteredIcdDf.AUSTRALIAN_MODIFICATION.str.startswith('K703'))\n",
    "    |\n",
    "    (filteredIcdDf.AUSTRALIAN_MODIFICATION.str.startswith('K709'))\n",
    "    |\n",
    "    (filteredIcdDf.AUSTRALIAN_MODIFICATION.str.startswith('K713'))\n",
    "    |\n",
    "    (filteredIcdDf.AUSTRALIAN_MODIFICATION.str.startswith('K714'))\n",
    "    |\n",
    "    (filteredIcdDf.AUSTRALIAN_MODIFICATION.str.startswith('K715'))\n",
    "    |\n",
    "    (filteredIcdDf.AUSTRALIAN_MODIFICATION.str.startswith('K717'))\n",
    "    |\n",
    "    (filteredIcdDf.AUSTRALIAN_MODIFICATION.str.startswith('K73'))\n",
    "    |\n",
    "    (filteredIcdDf.AUSTRALIAN_MODIFICATION.str.startswith('K74'))\n",
    "    |\n",
    "    (filteredIcdDf.AUSTRALIAN_MODIFICATION.str.startswith('K760'))\n",
    "    |\n",
    "    (filteredIcdDf.AUSTRALIAN_MODIFICATION.str.startswith('K762'))\n",
    "    |\n",
    "    (filteredIcdDf.AUSTRALIAN_MODIFICATION.str.startswith('K763'))\n",
    "    |\n",
    "    (filteredIcdDf.AUSTRALIAN_MODIFICATION.str.startswith('K764'))\n",
    "    |\n",
    "    (filteredIcdDf.AUSTRALIAN_MODIFICATION.str.startswith('K768'))\n",
    "    |\n",
    "    (filteredIcdDf.AUSTRALIAN_MODIFICATION.str.startswith('K769'))\n",
    "    |\n",
    "    (filteredIcdDf.AUSTRALIAN_MODIFICATION.str.startswith('Z944'))\n",
    "].PATIENT_ID.unique().shape[0]/filteredIcdDf.PATIENT_ID.unique().shape[0] * 100, 2)"
   ]
  },
  {
   "cell_type": "markdown",
   "metadata": {},
   "source": [
    "## Moderate/severe liver disease"
   ]
  },
  {
   "cell_type": "code",
   "execution_count": 36,
   "metadata": {},
   "outputs": [
    {
     "data": {
      "text/plain": [
       "AUSTRALIAN_MODIFICATION  ICD_DESCRIPTION                                                                 \n",
       "K729                     Hepatic failure, unspecified                                                        23\n",
       "K704                     Alcoholic hepatic failure                                                           18\n",
       "K765                     Hepatic veno-occlusive disease                                                       8\n",
       "I982                     Oesophageal varices without mention of bleeding in diseases classified elsewhere     6\n",
       "K766                     Portal hypertension                                                                  4\n",
       "K767                     Hepatorenal syndrome                                                                 4\n",
       "I864                     Gastric varices                                                                      2\n",
       "dtype: int64"
      ]
     },
     "execution_count": 36,
     "metadata": {},
     "output_type": "execute_result"
    }
   ],
   "source": [
    "filteredIcdDf[\n",
    "    (filteredIcdDf.AUSTRALIAN_MODIFICATION.str.startswith('I850'))\n",
    "    |\n",
    "    (filteredIcdDf.AUSTRALIAN_MODIFICATION.str.startswith('I859'))\n",
    "    |\n",
    "    (filteredIcdDf.AUSTRALIAN_MODIFICATION.str.startswith('I864'))\n",
    "    |\n",
    "    (filteredIcdDf.AUSTRALIAN_MODIFICATION.str.startswith('I982'))\n",
    "    |\n",
    "    (filteredIcdDf.AUSTRALIAN_MODIFICATION.str.startswith('K704'))\n",
    "    |\n",
    "    (filteredIcdDf.AUSTRALIAN_MODIFICATION.str.startswith('K711'))\n",
    "    |\n",
    "    (filteredIcdDf.AUSTRALIAN_MODIFICATION.str.startswith('K721'))\n",
    "    |\n",
    "    (filteredIcdDf.AUSTRALIAN_MODIFICATION.str.startswith('K729'))\n",
    "    |\n",
    "    (filteredIcdDf.AUSTRALIAN_MODIFICATION.str.startswith('K765'))\n",
    "    |\n",
    "    (filteredIcdDf.AUSTRALIAN_MODIFICATION.str.startswith('K766'))\n",
    "    |\n",
    "    (filteredIcdDf.AUSTRALIAN_MODIFICATION.str.startswith('K767'))\n",
    "][['AUSTRALIAN_MODIFICATION', 'ICD_DESCRIPTION']].value_counts()"
   ]
  },
  {
   "cell_type": "code",
   "execution_count": 37,
   "metadata": {},
   "outputs": [
    {
     "data": {
      "text/plain": [
       "2.58"
      ]
     },
     "execution_count": 37,
     "metadata": {},
     "output_type": "execute_result"
    }
   ],
   "source": [
    "round(filteredIcdDf[\n",
    "    (filteredIcdDf.AUSTRALIAN_MODIFICATION.str.startswith('I850'))\n",
    "    |\n",
    "    (filteredIcdDf.AUSTRALIAN_MODIFICATION.str.startswith('I859'))\n",
    "    |\n",
    "    (filteredIcdDf.AUSTRALIAN_MODIFICATION.str.startswith('I864'))\n",
    "    |\n",
    "    (filteredIcdDf.AUSTRALIAN_MODIFICATION.str.startswith('I982'))\n",
    "    |\n",
    "    (filteredIcdDf.AUSTRALIAN_MODIFICATION.str.startswith('K704'))\n",
    "    |\n",
    "    (filteredIcdDf.AUSTRALIAN_MODIFICATION.str.startswith('K711'))\n",
    "    |\n",
    "    (filteredIcdDf.AUSTRALIAN_MODIFICATION.str.startswith('K721'))\n",
    "    |\n",
    "    (filteredIcdDf.AUSTRALIAN_MODIFICATION.str.startswith('K729'))\n",
    "    |\n",
    "    (filteredIcdDf.AUSTRALIAN_MODIFICATION.str.startswith('K765'))\n",
    "    |\n",
    "    (filteredIcdDf.AUSTRALIAN_MODIFICATION.str.startswith('K766'))\n",
    "    |\n",
    "    (filteredIcdDf.AUSTRALIAN_MODIFICATION.str.startswith('K767'))\n",
    "].PATIENT_ID.unique().shape[0]/filteredIcdDf.PATIENT_ID.unique().shape[0] * 100, 2)"
   ]
  },
  {
   "cell_type": "markdown",
   "metadata": {},
   "source": [
    "## Renal disease"
   ]
  },
  {
   "cell_type": "code",
   "execution_count": 38,
   "metadata": {},
   "outputs": [
    {
     "data": {
      "text/plain": [
       "AUSTRALIAN_MODIFICATION  ICD_DESCRIPTION                                                      \n",
       "N183                     Chronic kidney disease, stage 3                                          211\n",
       "N185                     Chronic kidney disease, stage 5                                          175\n",
       "Z940                     Kidney transplant status                                                  85\n",
       "N184                     Chronic kidney disease, stage 4                                           62\n",
       "Z491                     Extracorporeal dialysis                                                   53\n",
       "I120                     Hypertensive kidney disease with kidney failure                           34\n",
       "N182                     Chronic kidney disease, stage 2                                           23\n",
       "Z490                     Preparatory care for dialysis                                             21\n",
       "Z992                     Dependence on kidney dialysis                                             13\n",
       "N19                      Unspecified kidney failure                                                11\n",
       "N189                     Chronic kidney disease, unspecified                                        7\n",
       "N181                     Chronic kidney disease, stage 1                                            5\n",
       "N052                     Unspecified nephritic syndrome, diffuse membranous glomerulonephritis      4\n",
       "I131                     Hypertensive heart and kidney disease with kidney failure                  3\n",
       "dtype: int64"
      ]
     },
     "execution_count": 38,
     "metadata": {},
     "output_type": "execute_result"
    }
   ],
   "source": [
    "filteredIcdDf[\n",
    "    (filteredIcdDf.AUSTRALIAN_MODIFICATION.str.startswith('I120'))\n",
    "    |\n",
    "    (filteredIcdDf.AUSTRALIAN_MODIFICATION.str.startswith('I131'))\n",
    "    |\n",
    "    (filteredIcdDf.AUSTRALIAN_MODIFICATION.str.startswith('N032'))\n",
    "    |\n",
    "    (filteredIcdDf.AUSTRALIAN_MODIFICATION.str.startswith('N033'))\n",
    "    |\n",
    "    (filteredIcdDf.AUSTRALIAN_MODIFICATION.str.startswith('N034'))\n",
    "    |\n",
    "    (filteredIcdDf.AUSTRALIAN_MODIFICATION.str.startswith('N035'))\n",
    "    |\n",
    "    (filteredIcdDf.AUSTRALIAN_MODIFICATION.str.startswith('N036'))\n",
    "    |\n",
    "    (filteredIcdDf.AUSTRALIAN_MODIFICATION.str.startswith('N037'))\n",
    "    |\n",
    "    (filteredIcdDf.AUSTRALIAN_MODIFICATION.str.startswith('N052'))\n",
    "    |\n",
    "    (filteredIcdDf.AUSTRALIAN_MODIFICATION.str.startswith('N053'))\n",
    "    |\n",
    "    (filteredIcdDf.AUSTRALIAN_MODIFICATION.str.startswith('N054'))\n",
    "    |\n",
    "    (filteredIcdDf.AUSTRALIAN_MODIFICATION.str.startswith('N055'))\n",
    "    |\n",
    "    (filteredIcdDf.AUSTRALIAN_MODIFICATION.str.startswith('N056'))\n",
    "    |\n",
    "    (filteredIcdDf.AUSTRALIAN_MODIFICATION.str.startswith('N057'))\n",
    "    |\n",
    "    (filteredIcdDf.AUSTRALIAN_MODIFICATION.str.startswith('N18'))\n",
    "    |\n",
    "    (filteredIcdDf.AUSTRALIAN_MODIFICATION.str.startswith('N19'))\n",
    "    |\n",
    "    (filteredIcdDf.AUSTRALIAN_MODIFICATION.str.startswith('N250'))\n",
    "    |\n",
    "    (filteredIcdDf.AUSTRALIAN_MODIFICATION.str.startswith('Z490'))\n",
    "    |\n",
    "    (filteredIcdDf.AUSTRALIAN_MODIFICATION.str.startswith('Z491'))\n",
    "    |\n",
    "    (filteredIcdDf.AUSTRALIAN_MODIFICATION.str.startswith('Z492'))\n",
    "    |\n",
    "    (filteredIcdDf.AUSTRALIAN_MODIFICATION.str.startswith('Z940'))\n",
    "    |\n",
    "    (filteredIcdDf.AUSTRALIAN_MODIFICATION.str.startswith('Z992'))\n",
    "][['AUSTRALIAN_MODIFICATION', 'ICD_DESCRIPTION']].value_counts()"
   ]
  },
  {
   "cell_type": "code",
   "execution_count": 39,
   "metadata": {},
   "outputs": [
    {
     "data": {
      "text/plain": [
       "17.33"
      ]
     },
     "execution_count": 39,
     "metadata": {},
     "output_type": "execute_result"
    }
   ],
   "source": [
    "round(filteredIcdDf[\n",
    "    (filteredIcdDf.AUSTRALIAN_MODIFICATION.str.startswith('I120'))\n",
    "    |\n",
    "    (filteredIcdDf.AUSTRALIAN_MODIFICATION.str.startswith('I131'))\n",
    "    |\n",
    "    (filteredIcdDf.AUSTRALIAN_MODIFICATION.str.startswith('N032'))\n",
    "    |\n",
    "    (filteredIcdDf.AUSTRALIAN_MODIFICATION.str.startswith('N033'))\n",
    "    |\n",
    "    (filteredIcdDf.AUSTRALIAN_MODIFICATION.str.startswith('N034'))\n",
    "    |\n",
    "    (filteredIcdDf.AUSTRALIAN_MODIFICATION.str.startswith('N035'))\n",
    "    |\n",
    "    (filteredIcdDf.AUSTRALIAN_MODIFICATION.str.startswith('N036'))\n",
    "    |\n",
    "    (filteredIcdDf.AUSTRALIAN_MODIFICATION.str.startswith('N037'))\n",
    "    |\n",
    "    (filteredIcdDf.AUSTRALIAN_MODIFICATION.str.startswith('N052'))\n",
    "    |\n",
    "    (filteredIcdDf.AUSTRALIAN_MODIFICATION.str.startswith('N053'))\n",
    "    |\n",
    "    (filteredIcdDf.AUSTRALIAN_MODIFICATION.str.startswith('N054'))\n",
    "    |\n",
    "    (filteredIcdDf.AUSTRALIAN_MODIFICATION.str.startswith('N055'))\n",
    "    |\n",
    "    (filteredIcdDf.AUSTRALIAN_MODIFICATION.str.startswith('N056'))\n",
    "    |\n",
    "    (filteredIcdDf.AUSTRALIAN_MODIFICATION.str.startswith('N057'))\n",
    "    |\n",
    "    (filteredIcdDf.AUSTRALIAN_MODIFICATION.str.startswith('N18'))\n",
    "    |\n",
    "    (filteredIcdDf.AUSTRALIAN_MODIFICATION.str.startswith('N19'))\n",
    "    |\n",
    "    (filteredIcdDf.AUSTRALIAN_MODIFICATION.str.startswith('N250'))\n",
    "    |\n",
    "    (filteredIcdDf.AUSTRALIAN_MODIFICATION.str.startswith('Z490'))\n",
    "    |\n",
    "    (filteredIcdDf.AUSTRALIAN_MODIFICATION.str.startswith('Z491'))\n",
    "    |\n",
    "    (filteredIcdDf.AUSTRALIAN_MODIFICATION.str.startswith('Z492'))\n",
    "    |\n",
    "    (filteredIcdDf.AUSTRALIAN_MODIFICATION.str.startswith('Z940'))\n",
    "    |\n",
    "    (filteredIcdDf.AUSTRALIAN_MODIFICATION.str.startswith('Z992'))\n",
    "].PATIENT_ID.unique().shape[0]/filteredIcdDf.PATIENT_ID.unique().shape[0] * 100, 2)"
   ]
  },
  {
   "cell_type": "markdown",
   "metadata": {},
   "source": [
    "## Any malignancy (tumor, leukemia, lymphoma)"
   ]
  },
  {
   "cell_type": "code",
   "execution_count": 40,
   "metadata": {},
   "outputs": [
    {
     "data": {
      "text/plain": [
       "AUSTRALIAN_MODIFICATION  ICD_DESCRIPTION                                                  \n",
       "C9200                    Acute myeloblastic leukaemia [AML], without mention of remission     933\n",
       "C9000                    Multiple myeloma, without mention of remission                       901\n",
       "C9201                    Acute myeloblastic leukaemia [AML], in remission                     492\n",
       "C9100                    Acute lymphoblastic leukaemia [ALL], without mention of remission    334\n",
       "C9101                    Acute lymphoblastic leukaemia [ALL], in remission                    234\n",
       "                                                                                             ... \n",
       "C165                     Malignant neoplasm of lesser curvature of stomach, unspecified         1\n",
       "C168                     Overlapping malignant lesion of stomach                                1\n",
       "C181                     Malignant neoplasm of appendix                                         1\n",
       "C185                     Malignant neoplasm of splenic flexure                                  1\n",
       "C9261                    Acute myeloid leukaemia with 11q23-abnormality, in remission           1\n",
       "Length: 129, dtype: int64"
      ]
     },
     "execution_count": 40,
     "metadata": {},
     "output_type": "execute_result"
    }
   ],
   "source": [
    "filteredIcdDf[\n",
    "    (filteredIcdDf.AUSTRALIAN_MODIFICATION.str.startswith('C0'))\n",
    "    |\n",
    "    (filteredIcdDf.AUSTRALIAN_MODIFICATION.str.startswith('C1'))\n",
    "    |\n",
    "    (filteredIcdDf.AUSTRALIAN_MODIFICATION.str.startswith('C20'))\n",
    "    |\n",
    "    (filteredIcdDf.AUSTRALIAN_MODIFICATION.str.startswith('C21'))\n",
    "    |\n",
    "    (filteredIcdDf.AUSTRALIAN_MODIFICATION.str.startswith('C22'))\n",
    "    |\n",
    "    (filteredIcdDf.AUSTRALIAN_MODIFICATION.str.startswith('C23'))\n",
    "    |\n",
    "    (filteredIcdDf.AUSTRALIAN_MODIFICATION.str.startswith('C24'))\n",
    "    |\n",
    "    (filteredIcdDf.AUSTRALIAN_MODIFICATION.str.startswith('C25'))\n",
    "    |\n",
    "    (filteredIcdDf.AUSTRALIAN_MODIFICATION.str.startswith('C26'))\n",
    "    |\n",
    "    (filteredIcdDf.AUSTRALIAN_MODIFICATION.str.startswith('C30'))\n",
    "    |\n",
    "    (filteredIcdDf.AUSTRALIAN_MODIFICATION.str.startswith('C31'))\n",
    "    |\n",
    "    (filteredIcdDf.AUSTRALIAN_MODIFICATION.str.startswith('C32'))\n",
    "    |\n",
    "    (filteredIcdDf.AUSTRALIAN_MODIFICATION.str.startswith('C33'))\n",
    "    |\n",
    "    (filteredIcdDf.AUSTRALIAN_MODIFICATION.str.startswith('C34'))\n",
    "    |\n",
    "    (filteredIcdDf.AUSTRALIAN_MODIFICATION.str.startswith('C37'))\n",
    "    |\n",
    "    (filteredIcdDf.AUSTRALIAN_MODIFICATION.str.startswith('C38'))\n",
    "    |\n",
    "    (filteredIcdDf.AUSTRALIAN_MODIFICATION.str.startswith('C39'))\n",
    "    |\n",
    "    (filteredIcdDf.AUSTRALIAN_MODIFICATION.str.startswith('C40'))\n",
    "    |\n",
    "    (filteredIcdDf.AUSTRALIAN_MODIFICATION.str.startswith('C41'))\n",
    "    |\n",
    "    (filteredIcdDf.AUSTRALIAN_MODIFICATION.str.startswith('C43'))\n",
    "    |\n",
    "    (filteredIcdDf.AUSTRALIAN_MODIFICATION.str.startswith('C45'))\n",
    "    |\n",
    "    (filteredIcdDf.AUSTRALIAN_MODIFICATION.str.startswith('C46'))\n",
    "    |\n",
    "    (filteredIcdDf.AUSTRALIAN_MODIFICATION.str.startswith('C47'))\n",
    "    |\n",
    "    (filteredIcdDf.AUSTRALIAN_MODIFICATION.str.startswith('C48'))\n",
    "    |\n",
    "    (filteredIcdDf.AUSTRALIAN_MODIFICATION.str.startswith('C49'))\n",
    "    |\n",
    "    (filteredIcdDf.AUSTRALIAN_MODIFICATION.str.startswith('C50'))\n",
    "    |\n",
    "    (filteredIcdDf.AUSTRALIAN_MODIFICATION.str.startswith('C51'))\n",
    "    |\n",
    "    (filteredIcdDf.AUSTRALIAN_MODIFICATION.str.startswith('C52'))\n",
    "    |\n",
    "    (filteredIcdDf.AUSTRALIAN_MODIFICATION.str.startswith('C53'))\n",
    "    |\n",
    "    (filteredIcdDf.AUSTRALIAN_MODIFICATION.str.startswith('C54'))\n",
    "    |\n",
    "    (filteredIcdDf.AUSTRALIAN_MODIFICATION.str.startswith('C55'))\n",
    "    |\n",
    "    (filteredIcdDf.AUSTRALIAN_MODIFICATION.str.startswith('C56'))\n",
    "    |\n",
    "    (filteredIcdDf.AUSTRALIAN_MODIFICATION.str.startswith('C57'))\n",
    "    |\n",
    "    (filteredIcdDf.AUSTRALIAN_MODIFICATION.str.startswith('C58'))\n",
    "    |\n",
    "    (filteredIcdDf.AUSTRALIAN_MODIFICATION.str.startswith('C6'))\n",
    "    |\n",
    "    (filteredIcdDf.AUSTRALIAN_MODIFICATION.str.startswith('C70'))\n",
    "    |\n",
    "    (filteredIcdDf.AUSTRALIAN_MODIFICATION.str.startswith('C71'))\n",
    "    |\n",
    "    (filteredIcdDf.AUSTRALIAN_MODIFICATION.str.startswith('C72'))\n",
    "    |\n",
    "    (filteredIcdDf.AUSTRALIAN_MODIFICATION.str.startswith('C73'))\n",
    "    |\n",
    "    (filteredIcdDf.AUSTRALIAN_MODIFICATION.str.startswith('C74'))\n",
    "    |\n",
    "    (filteredIcdDf.AUSTRALIAN_MODIFICATION.str.startswith('C75'))\n",
    "    |\n",
    "    (filteredIcdDf.AUSTRALIAN_MODIFICATION.str.startswith('C76'))\n",
    "    |\n",
    "    (filteredIcdDf.AUSTRALIAN_MODIFICATION.str.startswith('C81'))\n",
    "    |\n",
    "    (filteredIcdDf.AUSTRALIAN_MODIFICATION.str.startswith('C82'))\n",
    "    |\n",
    "    (filteredIcdDf.AUSTRALIAN_MODIFICATION.str.startswith('C83'))\n",
    "    |\n",
    "    (filteredIcdDf.AUSTRALIAN_MODIFICATION.str.startswith('C84'))\n",
    "    |\n",
    "    (filteredIcdDf.AUSTRALIAN_MODIFICATION.str.startswith('C85'))\n",
    "    |\n",
    "    (filteredIcdDf.AUSTRALIAN_MODIFICATION.str.startswith('C88'))\n",
    "    |\n",
    "    (filteredIcdDf.AUSTRALIAN_MODIFICATION.str.startswith('C90'))\n",
    "    |\n",
    "    (filteredIcdDf.AUSTRALIAN_MODIFICATION.str.startswith('C91'))\n",
    "    |\n",
    "    (filteredIcdDf.AUSTRALIAN_MODIFICATION.str.startswith('C92'))\n",
    "    |\n",
    "    (filteredIcdDf.AUSTRALIAN_MODIFICATION.str.startswith('C93'))\n",
    "    |\n",
    "    (filteredIcdDf.AUSTRALIAN_MODIFICATION.str.startswith('C94'))\n",
    "    |\n",
    "    (filteredIcdDf.AUSTRALIAN_MODIFICATION.str.startswith('C95'))\n",
    "    |\n",
    "    (filteredIcdDf.AUSTRALIAN_MODIFICATION.str.startswith('C96'))\n",
    "    |\n",
    "    (filteredIcdDf.AUSTRALIAN_MODIFICATION.str.startswith('C97'))\n",
    "][['AUSTRALIAN_MODIFICATION', 'ICD_DESCRIPTION']].value_counts()"
   ]
  },
  {
   "cell_type": "code",
   "execution_count": 41,
   "metadata": {},
   "outputs": [
    {
     "data": {
      "text/plain": [
       "29.95"
      ]
     },
     "execution_count": 41,
     "metadata": {},
     "output_type": "execute_result"
    }
   ],
   "source": [
    "round(filteredIcdDf[\n",
    "    (filteredIcdDf.AUSTRALIAN_MODIFICATION.str.startswith('C0'))\n",
    "    |\n",
    "    (filteredIcdDf.AUSTRALIAN_MODIFICATION.str.startswith('C1'))\n",
    "    |\n",
    "    (filteredIcdDf.AUSTRALIAN_MODIFICATION.str.startswith('C20'))\n",
    "    |\n",
    "    (filteredIcdDf.AUSTRALIAN_MODIFICATION.str.startswith('C21'))\n",
    "    |\n",
    "    (filteredIcdDf.AUSTRALIAN_MODIFICATION.str.startswith('C22'))\n",
    "    |\n",
    "    (filteredIcdDf.AUSTRALIAN_MODIFICATION.str.startswith('C23'))\n",
    "    |\n",
    "    (filteredIcdDf.AUSTRALIAN_MODIFICATION.str.startswith('C24'))\n",
    "    |\n",
    "    (filteredIcdDf.AUSTRALIAN_MODIFICATION.str.startswith('C25'))\n",
    "    |\n",
    "    (filteredIcdDf.AUSTRALIAN_MODIFICATION.str.startswith('C26'))\n",
    "    |\n",
    "    (filteredIcdDf.AUSTRALIAN_MODIFICATION.str.startswith('C30'))\n",
    "    |\n",
    "    (filteredIcdDf.AUSTRALIAN_MODIFICATION.str.startswith('C31'))\n",
    "    |\n",
    "    (filteredIcdDf.AUSTRALIAN_MODIFICATION.str.startswith('C32'))\n",
    "    |\n",
    "    (filteredIcdDf.AUSTRALIAN_MODIFICATION.str.startswith('C33'))\n",
    "    |\n",
    "    (filteredIcdDf.AUSTRALIAN_MODIFICATION.str.startswith('C34'))\n",
    "    |\n",
    "    (filteredIcdDf.AUSTRALIAN_MODIFICATION.str.startswith('C37'))\n",
    "    |\n",
    "    (filteredIcdDf.AUSTRALIAN_MODIFICATION.str.startswith('C38'))\n",
    "    |\n",
    "    (filteredIcdDf.AUSTRALIAN_MODIFICATION.str.startswith('C39'))\n",
    "    |\n",
    "    (filteredIcdDf.AUSTRALIAN_MODIFICATION.str.startswith('C40'))\n",
    "    |\n",
    "    (filteredIcdDf.AUSTRALIAN_MODIFICATION.str.startswith('C41'))\n",
    "    |\n",
    "    (filteredIcdDf.AUSTRALIAN_MODIFICATION.str.startswith('C43'))\n",
    "    |\n",
    "    (filteredIcdDf.AUSTRALIAN_MODIFICATION.str.startswith('C45'))\n",
    "    |\n",
    "    (filteredIcdDf.AUSTRALIAN_MODIFICATION.str.startswith('C46'))\n",
    "    |\n",
    "    (filteredIcdDf.AUSTRALIAN_MODIFICATION.str.startswith('C47'))\n",
    "    |\n",
    "    (filteredIcdDf.AUSTRALIAN_MODIFICATION.str.startswith('C48'))\n",
    "    |\n",
    "    (filteredIcdDf.AUSTRALIAN_MODIFICATION.str.startswith('C49'))\n",
    "    |\n",
    "    (filteredIcdDf.AUSTRALIAN_MODIFICATION.str.startswith('C50'))\n",
    "    |\n",
    "    (filteredIcdDf.AUSTRALIAN_MODIFICATION.str.startswith('C51'))\n",
    "    |\n",
    "    (filteredIcdDf.AUSTRALIAN_MODIFICATION.str.startswith('C52'))\n",
    "    |\n",
    "    (filteredIcdDf.AUSTRALIAN_MODIFICATION.str.startswith('C53'))\n",
    "    |\n",
    "    (filteredIcdDf.AUSTRALIAN_MODIFICATION.str.startswith('C54'))\n",
    "    |\n",
    "    (filteredIcdDf.AUSTRALIAN_MODIFICATION.str.startswith('C55'))\n",
    "    |\n",
    "    (filteredIcdDf.AUSTRALIAN_MODIFICATION.str.startswith('C56'))\n",
    "    |\n",
    "    (filteredIcdDf.AUSTRALIAN_MODIFICATION.str.startswith('C57'))\n",
    "    |\n",
    "    (filteredIcdDf.AUSTRALIAN_MODIFICATION.str.startswith('C58'))\n",
    "    |\n",
    "    (filteredIcdDf.AUSTRALIAN_MODIFICATION.str.startswith('C6'))\n",
    "    |\n",
    "    (filteredIcdDf.AUSTRALIAN_MODIFICATION.str.startswith('C70'))\n",
    "    |\n",
    "    (filteredIcdDf.AUSTRALIAN_MODIFICATION.str.startswith('C71'))\n",
    "    |\n",
    "    (filteredIcdDf.AUSTRALIAN_MODIFICATION.str.startswith('C72'))\n",
    "    |\n",
    "    (filteredIcdDf.AUSTRALIAN_MODIFICATION.str.startswith('C73'))\n",
    "    |\n",
    "    (filteredIcdDf.AUSTRALIAN_MODIFICATION.str.startswith('C74'))\n",
    "    |\n",
    "    (filteredIcdDf.AUSTRALIAN_MODIFICATION.str.startswith('C75'))\n",
    "    |\n",
    "    (filteredIcdDf.AUSTRALIAN_MODIFICATION.str.startswith('C76'))\n",
    "    |\n",
    "    (filteredIcdDf.AUSTRALIAN_MODIFICATION.str.startswith('C81'))\n",
    "    |\n",
    "    (filteredIcdDf.AUSTRALIAN_MODIFICATION.str.startswith('C82'))\n",
    "    |\n",
    "    (filteredIcdDf.AUSTRALIAN_MODIFICATION.str.startswith('C83'))\n",
    "    |\n",
    "    (filteredIcdDf.AUSTRALIAN_MODIFICATION.str.startswith('C84'))\n",
    "    |\n",
    "    (filteredIcdDf.AUSTRALIAN_MODIFICATION.str.startswith('C85'))\n",
    "    |\n",
    "    (filteredIcdDf.AUSTRALIAN_MODIFICATION.str.startswith('C88'))\n",
    "    |\n",
    "    (filteredIcdDf.AUSTRALIAN_MODIFICATION.str.startswith('C90'))\n",
    "    |\n",
    "    (filteredIcdDf.AUSTRALIAN_MODIFICATION.str.startswith('C91'))\n",
    "    |\n",
    "    (filteredIcdDf.AUSTRALIAN_MODIFICATION.str.startswith('C92'))\n",
    "    |\n",
    "    (filteredIcdDf.AUSTRALIAN_MODIFICATION.str.startswith('C93'))\n",
    "    |\n",
    "    (filteredIcdDf.AUSTRALIAN_MODIFICATION.str.startswith('C94'))\n",
    "    |\n",
    "    (filteredIcdDf.AUSTRALIAN_MODIFICATION.str.startswith('C95'))\n",
    "    |\n",
    "    (filteredIcdDf.AUSTRALIAN_MODIFICATION.str.startswith('C96'))\n",
    "    |\n",
    "    (filteredIcdDf.AUSTRALIAN_MODIFICATION.str.startswith('C97'))\n",
    "].PATIENT_ID.unique().shape[0]/filteredIcdDf.PATIENT_ID.unique().shape[0] * 100, 2)"
   ]
  },
  {
   "cell_type": "markdown",
   "metadata": {},
   "source": [
    "## Metastatic solid tumor"
   ]
  },
  {
   "cell_type": "code",
   "execution_count": 42,
   "metadata": {},
   "outputs": [
    {
     "data": {
      "text/plain": [
       "AUSTRALIAN_MODIFICATION  ICD_DESCRIPTION                                                                    \n",
       "C795                     Secondary malignant neoplasm of bone and bone marrow                                   76\n",
       "C787                     Secondary malignant neoplasm of liver and intrahepatic bile duct                       69\n",
       "C772                     Secondary and unspecified malignant neoplasm of intra-abdominal lymph nodes            44\n",
       "C780                     Secondary malignant neoplasm of lung                                                   44\n",
       "C786                     Secondary malignant neoplasm of retroperitoneum and peritoneum                         27\n",
       "C793                     Secondary malignant neoplasm of brain and cerebral meninges                            24\n",
       "C771                     Secondary and unspecified malignant neoplasm of intrathoracic lymph nodes              22\n",
       "C773                     Secondary and unspecified malignant neoplasm of axillary and upper limb lymph nodes    21\n",
       "C7988                    Secondary malignant neoplasm of other specified sites                                  17\n",
       "C770                     Secondary and unspecified malignant neoplasm of lymph nodes of head, face and neck     16\n",
       "C775                     Secondary and unspecified malignant neoplasm of intrapelvic lymph nodes                16\n",
       "C782                     Secondary malignant neoplasm of pleura                                                 12\n",
       "C797                     Secondary malignant neoplasm of adrenal gland                                           9\n",
       "C774                     Secondary and unspecified malignant neoplasm of inguinal and lower limb lymph nodes     8\n",
       "C800                     Malignant neoplasm, primary site unknown, so stated                                     8\n",
       "C788                     Secondary malignant neoplasm of other and unspecified digestive organs                  7\n",
       "C794                     Secondary malignant neoplasm of other and unspecified parts of nervous system           7\n",
       "C792                     Secondary malignant neoplasm of skin                                                    7\n",
       "C781                     Secondary malignant neoplasm of mediastinum                                             5\n",
       "C784                     Secondary malignant neoplasm of small intestine                                         3\n",
       "C779                     Secondary and unspecified malignant neoplasm of lymph node, unspecified                 2\n",
       "C785                     Secondary malignant neoplasm of large intestine and rectum                              2\n",
       "C791                     Secondary malignant neoplasm of bladder and other and unspecified urinary organs        1\n",
       "C7982                    Secondary malignant neoplasm of genital organs                                          1\n",
       "dtype: int64"
      ]
     },
     "execution_count": 42,
     "metadata": {},
     "output_type": "execute_result"
    }
   ],
   "source": [
    "filteredIcdDf[\n",
    "    (filteredIcdDf.AUSTRALIAN_MODIFICATION.str.startswith('C77'))\n",
    "    |\n",
    "    (filteredIcdDf.AUSTRALIAN_MODIFICATION.str.startswith('C78'))\n",
    "    |\n",
    "    (filteredIcdDf.AUSTRALIAN_MODIFICATION.str.startswith('C79'))\n",
    "    |\n",
    "    (filteredIcdDf.AUSTRALIAN_MODIFICATION.str.startswith('C80'))\n",
    "][['AUSTRALIAN_MODIFICATION', 'ICD_DESCRIPTION']].value_counts()"
   ]
  },
  {
   "cell_type": "code",
   "execution_count": 43,
   "metadata": {},
   "outputs": [
    {
     "data": {
      "text/plain": [
       "5.34"
      ]
     },
     "execution_count": 43,
     "metadata": {},
     "output_type": "execute_result"
    }
   ],
   "source": [
    "round(filteredIcdDf[\n",
    "    (filteredIcdDf.AUSTRALIAN_MODIFICATION.str.startswith('C77'))\n",
    "    |\n",
    "    (filteredIcdDf.AUSTRALIAN_MODIFICATION.str.startswith('C78'))\n",
    "    |\n",
    "    (filteredIcdDf.AUSTRALIAN_MODIFICATION.str.startswith('C79'))\n",
    "    |\n",
    "    (filteredIcdDf.AUSTRALIAN_MODIFICATION.str.startswith('C80'))\n",
    "\n",
    "].PATIENT_ID.unique().shape[0]/filteredIcdDf.PATIENT_ID.unique().shape[0] * 100, 2)"
   ]
  },
  {
   "cell_type": "markdown",
   "metadata": {},
   "source": [
    "## HIV/AIDS"
   ]
  },
  {
   "cell_type": "code",
   "execution_count": 44,
   "metadata": {},
   "outputs": [
    {
     "data": {
      "text/plain": [
       "AUSTRALIAN_MODIFICATION  ICD_DESCRIPTION                                                                          \n",
       "B24                      Unspecified human immunodeficiency virus [HIV] disease                                       20\n",
       "B21                      Human immunodeficiency virus [HIV] disease resulting in malignant neoplasms                  17\n",
       "B20                      Human immunodeficiency virus [HIV] disease resulting in infectious and parasitic diseases     9\n",
       "dtype: int64"
      ]
     },
     "execution_count": 44,
     "metadata": {},
     "output_type": "execute_result"
    }
   ],
   "source": [
    "filteredIcdDf[\n",
    "    (filteredIcdDf.AUSTRALIAN_MODIFICATION.str.startswith('B20'))\n",
    "    |\n",
    "    (filteredIcdDf.AUSTRALIAN_MODIFICATION.str.startswith('B21'))\n",
    "    |\n",
    "    (filteredIcdDf.AUSTRALIAN_MODIFICATION.str.startswith('B22'))\n",
    "    |\n",
    "    (filteredIcdDf.AUSTRALIAN_MODIFICATION.str.startswith('B24'))\n",
    "][['AUSTRALIAN_MODIFICATION', 'ICD_DESCRIPTION']].value_counts()"
   ]
  },
  {
   "cell_type": "code",
   "execution_count": 45,
   "metadata": {},
   "outputs": [
    {
     "data": {
      "text/plain": [
       "0.98"
      ]
     },
     "execution_count": 45,
     "metadata": {},
     "output_type": "execute_result"
    }
   ],
   "source": [
    "round(filteredIcdDf[\n",
    "    (filteredIcdDf.AUSTRALIAN_MODIFICATION.str.startswith('B20'))\n",
    "    |\n",
    "    (filteredIcdDf.AUSTRALIAN_MODIFICATION.str.startswith('B21'))\n",
    "    |\n",
    "    (filteredIcdDf.AUSTRALIAN_MODIFICATION.str.startswith('B22'))\n",
    "    |\n",
    "    (filteredIcdDf.AUSTRALIAN_MODIFICATION.str.startswith('B24'))\n",
    "].PATIENT_ID.unique().shape[0]/filteredIcdDf.PATIENT_ID.unique().shape[0] * 100, 2)"
   ]
  }
 ],
 "metadata": {
  "kernelspec": {
   "display_name": ".venv",
   "language": "python",
   "name": "python3"
  },
  "language_info": {
   "codemirror_mode": {
    "name": "ipython",
    "version": 3
   },
   "file_extension": ".py",
   "mimetype": "text/x-python",
   "name": "python",
   "nbconvert_exporter": "python",
   "pygments_lexer": "ipython3",
   "version": "3.10.12"
  }
 },
 "nbformat": 4,
 "nbformat_minor": 2
}
