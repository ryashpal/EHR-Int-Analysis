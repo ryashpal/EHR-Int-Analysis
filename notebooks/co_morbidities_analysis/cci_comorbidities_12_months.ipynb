{
 "cells": [
  {
   "cell_type": "markdown",
   "metadata": {},
   "source": [
    "# Exploring Co-Morbidities"
   ]
  },
  {
   "cell_type": "markdown",
   "metadata": {},
   "source": [
    "## Read data files"
   ]
  },
  {
   "cell_type": "code",
   "execution_count": 7,
   "metadata": {},
   "outputs": [
    {
     "name": "stderr",
     "output_type": "stream",
     "text": [
      "/tmp/ipykernel_663572/3850446445.py:6: DtypeWarning: Columns (6) have mixed types. Specify dtype option on import or set low_memory=False.\n",
      "  icdDf = pd.read_csv(os.environ['EHR_DATA_BASE'] + '/blood_pos_cohort_20240119/additional_data/2023-03-20-blood-pos-ICDs.csv')\n"
     ]
    }
   ],
   "source": [
    "import os\n",
    "import pandas as pd\n",
    "\n",
    "\n",
    "datamatrixDf = pd.read_csv(os.environ['EHR_DATA_BASE'] + '/blood_pos_cohort_20240531/data/data_matrix.csv')\n",
    "icdDf = pd.read_csv(os.environ['EHR_DATA_BASE'] + '/blood_pos_cohort_20240119/additional_data/2023-03-20-blood-pos-ICDs.csv')\n",
    "admissionsDf = pd.read_csv(os.environ['EHR_DATA_BASE'] + '/blood_pos_cohort_20240119/2023-11-10-blood-admissions.csv')"
   ]
  },
  {
   "cell_type": "code",
   "execution_count": 8,
   "metadata": {},
   "outputs": [
    {
     "data": {
      "text/plain": [
       "((456648, 7), (116754, 194), (436214, 20))"
      ]
     },
     "execution_count": 8,
     "metadata": {},
     "output_type": "execute_result"
    }
   ],
   "source": [
    "icdDf.shape, datamatrixDf.shape, admissionsDf.shape"
   ]
  },
  {
   "cell_type": "markdown",
   "metadata": {},
   "source": [
    "## Filter patients from the cohort"
   ]
  },
  {
   "cell_type": "code",
   "execution_count": 66,
   "metadata": {},
   "outputs": [
    {
     "data": {
      "text/html": [
       "<div>\n",
       "<style scoped>\n",
       "    .dataframe tbody tr th:only-of-type {\n",
       "        vertical-align: middle;\n",
       "    }\n",
       "\n",
       "    .dataframe tbody tr th {\n",
       "        vertical-align: top;\n",
       "    }\n",
       "\n",
       "    .dataframe thead th {\n",
       "        text-align: right;\n",
       "    }\n",
       "</style>\n",
       "<table border=\"1\" class=\"dataframe\">\n",
       "  <thead>\n",
       "    <tr style=\"text-align: right;\">\n",
       "      <th></th>\n",
       "      <th>PATIENT_ID</th>\n",
       "      <th>EPISODE_ID</th>\n",
       "      <th>AUSTRALIAN_MODIFICATION</th>\n",
       "      <th>PREFIX</th>\n",
       "      <th>ICD_DESCRIPTION</th>\n",
       "      <th>RANK</th>\n",
       "      <th>ICD10CODE</th>\n",
       "    </tr>\n",
       "  </thead>\n",
       "  <tbody>\n",
       "    <tr>\n",
       "      <th>24</th>\n",
       "      <td>2152832</td>\n",
       "      <td>583214</td>\n",
       "      <td>Z466</td>\n",
       "      <td>P</td>\n",
       "      <td>Fitting and adjustment of urinary device</td>\n",
       "      <td>1</td>\n",
       "      <td>NaN</td>\n",
       "    </tr>\n",
       "    <tr>\n",
       "      <th>25</th>\n",
       "      <td>2152832</td>\n",
       "      <td>583214</td>\n",
       "      <td>Z466</td>\n",
       "      <td>P</td>\n",
       "      <td>Fitting and adjustment of urinary device</td>\n",
       "      <td>1</td>\n",
       "      <td>NaN</td>\n",
       "    </tr>\n",
       "    <tr>\n",
       "      <th>26</th>\n",
       "      <td>2152832</td>\n",
       "      <td>583214</td>\n",
       "      <td>Z466</td>\n",
       "      <td>P</td>\n",
       "      <td>Fitting and adjustment of urinary device</td>\n",
       "      <td>1</td>\n",
       "      <td>NaN</td>\n",
       "    </tr>\n",
       "    <tr>\n",
       "      <th>27</th>\n",
       "      <td>2152832</td>\n",
       "      <td>583214</td>\n",
       "      <td>Z466</td>\n",
       "      <td>P</td>\n",
       "      <td>Fitting and adjustment of urinary device</td>\n",
       "      <td>1</td>\n",
       "      <td>NaN</td>\n",
       "    </tr>\n",
       "    <tr>\n",
       "      <th>28</th>\n",
       "      <td>2152832</td>\n",
       "      <td>583214</td>\n",
       "      <td>Z466</td>\n",
       "      <td>P</td>\n",
       "      <td>Fitting and adjustment of urinary device</td>\n",
       "      <td>1</td>\n",
       "      <td>NaN</td>\n",
       "    </tr>\n",
       "    <tr>\n",
       "      <th>...</th>\n",
       "      <td>...</td>\n",
       "      <td>...</td>\n",
       "      <td>...</td>\n",
       "      <td>...</td>\n",
       "      <td>...</td>\n",
       "      <td>...</td>\n",
       "      <td>...</td>\n",
       "    </tr>\n",
       "    <tr>\n",
       "      <th>26691590</th>\n",
       "      <td>1013298</td>\n",
       "      <td>15685286</td>\n",
       "      <td>R634</td>\n",
       "      <td>P</td>\n",
       "      <td>Abnormal weight loss</td>\n",
       "      <td>7</td>\n",
       "      <td>NaN</td>\n",
       "    </tr>\n",
       "    <tr>\n",
       "      <th>26691591</th>\n",
       "      <td>1013298</td>\n",
       "      <td>15685286</td>\n",
       "      <td>U823</td>\n",
       "      <td>P</td>\n",
       "      <td>Hypertension</td>\n",
       "      <td>10</td>\n",
       "      <td>NaN</td>\n",
       "    </tr>\n",
       "    <tr>\n",
       "      <th>26691592</th>\n",
       "      <td>1013298</td>\n",
       "      <td>15685286</td>\n",
       "      <td>R410</td>\n",
       "      <td>P</td>\n",
       "      <td>Disorientation, unspecified</td>\n",
       "      <td>6</td>\n",
       "      <td>NaN</td>\n",
       "    </tr>\n",
       "    <tr>\n",
       "      <th>26691593</th>\n",
       "      <td>1013298</td>\n",
       "      <td>15685286</td>\n",
       "      <td>Z8643</td>\n",
       "      <td>P</td>\n",
       "      <td>Personal history of tobacco use disorder</td>\n",
       "      <td>9</td>\n",
       "      <td>Z86.4</td>\n",
       "    </tr>\n",
       "    <tr>\n",
       "      <th>26691594</th>\n",
       "      <td>1013298</td>\n",
       "      <td>15685286</td>\n",
       "      <td>S0081</td>\n",
       "      <td>P</td>\n",
       "      <td>Superficial injury of other parts of head, abr...</td>\n",
       "      <td>1</td>\n",
       "      <td>S00.8</td>\n",
       "    </tr>\n",
       "  </tbody>\n",
       "</table>\n",
       "<p>12374468 rows × 7 columns</p>\n",
       "</div>"
      ],
      "text/plain": [
       "          PATIENT_ID  EPISODE_ID AUSTRALIAN_MODIFICATION PREFIX  \\\n",
       "24           2152832      583214                    Z466      P   \n",
       "25           2152832      583214                    Z466      P   \n",
       "26           2152832      583214                    Z466      P   \n",
       "27           2152832      583214                    Z466      P   \n",
       "28           2152832      583214                    Z466      P   \n",
       "...              ...         ...                     ...    ...   \n",
       "26691590     1013298    15685286                    R634      P   \n",
       "26691591     1013298    15685286                    U823      P   \n",
       "26691592     1013298    15685286                    R410      P   \n",
       "26691593     1013298    15685286                   Z8643      P   \n",
       "26691594     1013298    15685286                   S0081      P   \n",
       "\n",
       "                                            ICD_DESCRIPTION  RANK ICD10CODE  \n",
       "24                 Fitting and adjustment of urinary device     1       NaN  \n",
       "25                 Fitting and adjustment of urinary device     1       NaN  \n",
       "26                 Fitting and adjustment of urinary device     1       NaN  \n",
       "27                 Fitting and adjustment of urinary device     1       NaN  \n",
       "28                 Fitting and adjustment of urinary device     1       NaN  \n",
       "...                                                     ...   ...       ...  \n",
       "26691590                               Abnormal weight loss     7       NaN  \n",
       "26691591                                       Hypertension    10       NaN  \n",
       "26691592                        Disorientation, unspecified     6       NaN  \n",
       "26691593           Personal history of tobacco use disorder     9     Z86.4  \n",
       "26691594  Superficial injury of other parts of head, abr...     1     S00.8  \n",
       "\n",
       "[12374468 rows x 7 columns]"
      ]
     },
     "execution_count": 66,
     "metadata": {},
     "output_type": "execute_result"
    }
   ],
   "source": [
    "filteredIcdDf = datamatrixDf[['person_id', 'visit_occurrence_id']].drop_duplicates().merge(\n",
    "    admissionsDf[['PATIENT_ID', 'EPISODE_ID', 'start_date']],\n",
    "    how='inner',\n",
    "    left_on=['person_id', 'visit_occurrence_id'],\n",
    "    right_on=['PATIENT_ID', 'EPISODE_ID']\n",
    ").drop(\n",
    "    columns=['person_id', 'visit_occurrence_id']\n",
    ").merge(\n",
    "    admissionsDf[['PATIENT_ID', 'EPISODE_ID', 'start_date']].add_suffix('_PREV'),\n",
    "    how='inner',\n",
    "    left_on=['PATIENT_ID'],\n",
    "    right_on=['PATIENT_ID_PREV']\n",
    ").drop(\n",
    "    columns=['PATIENT_ID', 'EPISODE_ID']\n",
    ").merge(\n",
    "    icdDf,\n",
    "    how='inner',\n",
    "    left_on=['PATIENT_ID_PREV', 'EPISODE_ID_PREV'],\n",
    "    right_on=['PATIENT_ID', 'EPISODE_ID'],\n",
    ").drop(\n",
    "    columns=['PATIENT_ID', 'EPISODE_ID']\n",
    ").rename(\n",
    "    columns = {'PATIENT_ID_PREV': 'PATIENT_ID', 'EPISODE_ID_PREV': 'EPISODE_ID'}\n",
    ")\n",
    "filteredIcdDf = filteredIcdDf[((pd.to_datetime(filteredIcdDf.start_date) - pd.Timedelta(weeks=52)) < pd.to_datetime(filteredIcdDf.start_date_PREV)) & (pd.to_datetime(filteredIcdDf.start_date) >= pd.to_datetime(filteredIcdDf.start_date_PREV))]\n",
    "filteredIcdDf = filteredIcdDf.drop(columns=['start_date', 'start_date_PREV'])\n",
    "# filteredIcdDf = icdDf.merge(\n",
    "#     datamatrixDf[['person_id', 'visit_occurrence_id']].drop_duplicates(),\n",
    "#     how='inner',\n",
    "#     left_on=['PATIENT_ID', 'EPISODE_ID'],\n",
    "#     right_on=['person_id', 'visit_occurrence_id']\n",
    "#     )\n",
    "# icdDf[['PATIENT_ID', 'EPISODE_ID']].drop_duplicates().shape, filteredIcdDf[['PATIENT_ID', 'EPISODE_ID']].drop_duplicates().shape, datamatrixDf[['person_id', 'visit_occurrence_id']].drop_duplicates().shape\n",
    "# (pd.to_datetime(filteredIcdDf.start_date) - pd.to_datetime(filteredIcdDf.start_date_PREV)).dt.days.hist(bins=100)\n",
    "# filteredIcdDf[['PATIENT_ID', 'EPISODE_ID']].drop_duplicates().shape, filteredIcdDf[['PATIENT_ID_PREV', 'EPISODE_ID_PREV']].drop_duplicates().shape, datamatrixDf[['person_id', 'visit_occurrence_id']].drop_duplicates().shape\n",
    "# filteredIcdDf[['PATIENT_ID']].drop_duplicates().shape, filteredIcdDf[['PATIENT_ID_PREV']].drop_duplicates().shape, datamatrixDf[['person_id']].drop_duplicates().shape\n",
    "filteredIcdDf\n"
   ]
  },
  {
   "cell_type": "markdown",
   "metadata": {},
   "source": [
    "## Obtaining Co-morbidities from Charlson Comorbidity Index"
   ]
  },
  {
   "cell_type": "markdown",
   "metadata": {},
   "source": [
    "### Myocardial infarction"
   ]
  },
  {
   "cell_type": "code",
   "execution_count": 67,
   "metadata": {},
   "outputs": [
    {
     "data": {
      "text/plain": [
       "AUSTRALIAN_MODIFICATION  ICD_DESCRIPTION                                           \n",
       "I214                     Acute subendocardial myocardial infarction                    4565\n",
       "I211                     Acute transmural myocardial infarction of inferior wall       1447\n",
       "I219                     Acute myocardial infarction, unspecified                       409\n",
       "I210                     Acute transmural myocardial infarction of anterior wall        144\n",
       "I213                     Acute transmural myocardial infarction of unspecified site      48\n",
       "I252                     Old myocardial infarction                                       40\n",
       "I212                     Acute transmural myocardial infarction of other sites           14\n",
       "dtype: int64"
      ]
     },
     "execution_count": 67,
     "metadata": {},
     "output_type": "execute_result"
    }
   ],
   "source": [
    "filteredIcdDf[\n",
    "    (filteredIcdDf.AUSTRALIAN_MODIFICATION.str.startswith('I21'))\n",
    "    |\n",
    "    (filteredIcdDf.AUSTRALIAN_MODIFICATION.str.startswith('I22'))\n",
    "    |\n",
    "    (filteredIcdDf.AUSTRALIAN_MODIFICATION.str.startswith('I252'))\n",
    "][['AUSTRALIAN_MODIFICATION', 'ICD_DESCRIPTION']].value_counts()"
   ]
  },
  {
   "cell_type": "code",
   "execution_count": 71,
   "metadata": {},
   "outputs": [
    {
     "data": {
      "text/plain": [
       "5.69"
      ]
     },
     "execution_count": 71,
     "metadata": {},
     "output_type": "execute_result"
    }
   ],
   "source": [
    "round(filteredIcdDf[\n",
    "    (filteredIcdDf.AUSTRALIAN_MODIFICATION.str.startswith('I21'))\n",
    "    |\n",
    "    (filteredIcdDf.AUSTRALIAN_MODIFICATION.str.startswith('I22'))\n",
    "    |\n",
    "    (filteredIcdDf.AUSTRALIAN_MODIFICATION.str.startswith('I252'))\n",
    "].PATIENT_ID.unique().shape[0]/datamatrixDf.person_id.unique().shape[0] * 100, 2)"
   ]
  },
  {
   "cell_type": "markdown",
   "metadata": {},
   "source": [
    "### Congestive heart failure"
   ]
  },
  {
   "cell_type": "code",
   "execution_count": 72,
   "metadata": {},
   "outputs": [
    {
     "data": {
      "text/plain": [
       "AUSTRALIAN_MODIFICATION  ICD_DESCRIPTION                                                                              \n",
       "I500                     Congestive heart failure                                                                         12569\n",
       "I509                     Heart failure, unspecified                                                                        9180\n",
       "I501                     Left ventricular failure                                                                          7752\n",
       "I420                     Dilated cardiomyopathy                                                                             869\n",
       "I255                     Ischaemic cardiomyopathy                                                                           802\n",
       "I429                     Cardiomyopathy, unspecified                                                                        600\n",
       "I438                     Cardiomyopathy in other diseases classified elsewhere                                              112\n",
       "I428                     Other cardiomyopathies                                                                              93\n",
       "I132                     Hypertensive heart and kidney disease with both (congestive) heart failure and kidney failure       77\n",
       "I426                     Alcoholic cardiomyopathy                                                                            37\n",
       "I427                     Cardiomyopathy due to drugs and other external agents                                               26\n",
       "I425                     Other restrictive cardiomyopathy                                                                    20\n",
       "I130                     Hypertensive heart and kidney disease with (congestive) heart failure                                6\n",
       "I110                     Hypertensive heart disease with (congestive) heart failure                                           6\n",
       "I431                     Cardiomyopathy in metabolic diseases                                                                 5\n",
       "dtype: int64"
      ]
     },
     "execution_count": 72,
     "metadata": {},
     "output_type": "execute_result"
    }
   ],
   "source": [
    "filteredIcdDf[\n",
    "    (filteredIcdDf.AUSTRALIAN_MODIFICATION.str.startswith('I099'))\n",
    "    |\n",
    "    (filteredIcdDf.AUSTRALIAN_MODIFICATION.str.startswith('I110'))\n",
    "    |\n",
    "    (filteredIcdDf.AUSTRALIAN_MODIFICATION.str.startswith('I130'))\n",
    "    |\n",
    "    (filteredIcdDf.AUSTRALIAN_MODIFICATION.str.startswith('I132'))\n",
    "    |\n",
    "    (filteredIcdDf.AUSTRALIAN_MODIFICATION.str.startswith('I255'))\n",
    "    |\n",
    "    (filteredIcdDf.AUSTRALIAN_MODIFICATION.str.startswith('I420'))\n",
    "    |\n",
    "    (filteredIcdDf.AUSTRALIAN_MODIFICATION.str.startswith('I425'))\n",
    "    |\n",
    "    (filteredIcdDf.AUSTRALIAN_MODIFICATION.str.startswith('I426'))\n",
    "    |\n",
    "    (filteredIcdDf.AUSTRALIAN_MODIFICATION.str.startswith('I427'))\n",
    "    |\n",
    "    (filteredIcdDf.AUSTRALIAN_MODIFICATION.str.startswith('I428'))\n",
    "    |\n",
    "    (filteredIcdDf.AUSTRALIAN_MODIFICATION.str.startswith('I429'))\n",
    "    |\n",
    "    (filteredIcdDf.AUSTRALIAN_MODIFICATION.str.startswith('I43'))\n",
    "    |\n",
    "    (filteredIcdDf.AUSTRALIAN_MODIFICATION.str.startswith('I50'))\n",
    "    |\n",
    "    (filteredIcdDf.AUSTRALIAN_MODIFICATION.str.startswith('P290'))\n",
    "][['AUSTRALIAN_MODIFICATION', 'ICD_DESCRIPTION']].value_counts()"
   ]
  },
  {
   "cell_type": "code",
   "execution_count": 74,
   "metadata": {},
   "outputs": [
    {
     "data": {
      "text/plain": [
       "12.58"
      ]
     },
     "execution_count": 74,
     "metadata": {},
     "output_type": "execute_result"
    }
   ],
   "source": [
    "round(filteredIcdDf[\n",
    "    (filteredIcdDf.AUSTRALIAN_MODIFICATION.str.startswith('I099'))\n",
    "    |\n",
    "    (filteredIcdDf.AUSTRALIAN_MODIFICATION.str.startswith('I110'))\n",
    "    |\n",
    "    (filteredIcdDf.AUSTRALIAN_MODIFICATION.str.startswith('I130'))\n",
    "    |\n",
    "    (filteredIcdDf.AUSTRALIAN_MODIFICATION.str.startswith('I132'))\n",
    "    |\n",
    "    (filteredIcdDf.AUSTRALIAN_MODIFICATION.str.startswith('I255'))\n",
    "    |\n",
    "    (filteredIcdDf.AUSTRALIAN_MODIFICATION.str.startswith('I420'))\n",
    "    |\n",
    "    (filteredIcdDf.AUSTRALIAN_MODIFICATION.str.startswith('I425'))\n",
    "    |\n",
    "    (filteredIcdDf.AUSTRALIAN_MODIFICATION.str.startswith('I426'))\n",
    "    |\n",
    "    (filteredIcdDf.AUSTRALIAN_MODIFICATION.str.startswith('I427'))\n",
    "    |\n",
    "    (filteredIcdDf.AUSTRALIAN_MODIFICATION.str.startswith('I428'))\n",
    "    |\n",
    "    (filteredIcdDf.AUSTRALIAN_MODIFICATION.str.startswith('I429'))\n",
    "    |\n",
    "    (filteredIcdDf.AUSTRALIAN_MODIFICATION.str.startswith('I43'))\n",
    "    |\n",
    "    (filteredIcdDf.AUSTRALIAN_MODIFICATION.str.startswith('I50'))\n",
    "    |\n",
    "    (filteredIcdDf.AUSTRALIAN_MODIFICATION.str.startswith('P290'))\n",
    "].PATIENT_ID.unique().shape[0]/datamatrixDf.person_id.unique().shape[0] * 100, 2)"
   ]
  },
  {
   "cell_type": "markdown",
   "metadata": {},
   "source": [
    "## Peripheral vascular disease"
   ]
  },
  {
   "cell_type": "code",
   "execution_count": 75,
   "metadata": {},
   "outputs": [
    {
     "data": {
      "text/plain": [
       "AUSTRALIAN_MODIFICATION  ICD_DESCRIPTION                                                          \n",
       "I7021                    Atherosclerosis of arteries of extremities with intermittent claudication    527\n",
       "I7020                    Atherosclerosis of arteries of extremities, unspecified                      441\n",
       "Z958                     Presence of other cardiac and vascular implants and grafts                   430\n",
       "I7023                    Atherosclerosis of arteries of extremities with ulceration                   428\n",
       "I7022                    Atherosclerosis of arteries of extremities with rest pain                    233\n",
       "I7101                    Dissection of thoracic aorta                                                 162\n",
       "I7024                    Atherosclerosis of arteries of extremities with gangrene                     158\n",
       "I714                     Abdominal aortic aneurysm, without mention of rupture                        132\n",
       "K559                     Vascular disorder of intestine, unspecified                                  107\n",
       "I708                     Atherosclerosis of other arteries                                            103\n",
       "I739                     Peripheral vascular disease, unspecified                                      31\n",
       "I701                     Atherosclerosis of renal artery                                               25\n",
       "I712                     Thoracic aortic aneurysm, without mention of rupture                          19\n",
       "I715                     Thoracoabdominal aortic aneurysm, ruptured                                    17\n",
       "I7103                    Dissection of thoracoabdominal aorta                                          16\n",
       "K551                     Chronic vascular disorders of intestine                                       14\n",
       "I719                     Aortic aneurysm of unspecified site, without mention of rupture               14\n",
       "I700                     Atherosclerosis of aorta                                                       8\n",
       "I7100                    Dissection of aorta, unspecified site                                          8\n",
       "Z959                     Presence of cardiac and vascular implant and graft, unspecified                2\n",
       "dtype: int64"
      ]
     },
     "execution_count": 75,
     "metadata": {},
     "output_type": "execute_result"
    }
   ],
   "source": [
    "filteredIcdDf[\n",
    "    (filteredIcdDf.AUSTRALIAN_MODIFICATION.str.startswith('I70'))\n",
    "    |\n",
    "    (filteredIcdDf.AUSTRALIAN_MODIFICATION.str.startswith('I71'))\n",
    "    |\n",
    "    (filteredIcdDf.AUSTRALIAN_MODIFICATION.str.startswith('I731'))\n",
    "    |\n",
    "    (filteredIcdDf.AUSTRALIAN_MODIFICATION.str.startswith('I738'))\n",
    "    |\n",
    "    (filteredIcdDf.AUSTRALIAN_MODIFICATION.str.startswith('I739'))\n",
    "    |\n",
    "    (filteredIcdDf.AUSTRALIAN_MODIFICATION.str.startswith('I771'))\n",
    "    |\n",
    "    (filteredIcdDf.AUSTRALIAN_MODIFICATION.str.startswith('I790'))\n",
    "    |\n",
    "    (filteredIcdDf.AUSTRALIAN_MODIFICATION.str.startswith('I792'))\n",
    "    |\n",
    "    (filteredIcdDf.AUSTRALIAN_MODIFICATION.str.startswith('K551'))\n",
    "    |\n",
    "    (filteredIcdDf.AUSTRALIAN_MODIFICATION.str.startswith('K558'))\n",
    "    |\n",
    "    (filteredIcdDf.AUSTRALIAN_MODIFICATION.str.startswith('K559'))\n",
    "    |\n",
    "    (filteredIcdDf.AUSTRALIAN_MODIFICATION.str.startswith('Z958'))\n",
    "    |\n",
    "    (filteredIcdDf.AUSTRALIAN_MODIFICATION.str.startswith('Z959'))\n",
    "][['AUSTRALIAN_MODIFICATION', 'ICD_DESCRIPTION']].value_counts()"
   ]
  },
  {
   "cell_type": "code",
   "execution_count": 76,
   "metadata": {},
   "outputs": [
    {
     "data": {
      "text/plain": [
       "2.53"
      ]
     },
     "execution_count": 76,
     "metadata": {},
     "output_type": "execute_result"
    }
   ],
   "source": [
    "round(filteredIcdDf[\n",
    "    (filteredIcdDf.AUSTRALIAN_MODIFICATION.str.startswith('I70'))\n",
    "    |\n",
    "    (filteredIcdDf.AUSTRALIAN_MODIFICATION.str.startswith('I71'))\n",
    "    |\n",
    "    (filteredIcdDf.AUSTRALIAN_MODIFICATION.str.startswith('I731'))\n",
    "    |\n",
    "    (filteredIcdDf.AUSTRALIAN_MODIFICATION.str.startswith('I738'))\n",
    "    |\n",
    "    (filteredIcdDf.AUSTRALIAN_MODIFICATION.str.startswith('I739'))\n",
    "    |\n",
    "    (filteredIcdDf.AUSTRALIAN_MODIFICATION.str.startswith('I771'))\n",
    "    |\n",
    "    (filteredIcdDf.AUSTRALIAN_MODIFICATION.str.startswith('I790'))\n",
    "    |\n",
    "    (filteredIcdDf.AUSTRALIAN_MODIFICATION.str.startswith('I792'))\n",
    "    |\n",
    "    (filteredIcdDf.AUSTRALIAN_MODIFICATION.str.startswith('K551'))\n",
    "    |\n",
    "    (filteredIcdDf.AUSTRALIAN_MODIFICATION.str.startswith('K558'))\n",
    "    |\n",
    "    (filteredIcdDf.AUSTRALIAN_MODIFICATION.str.startswith('K559'))\n",
    "    |\n",
    "    (filteredIcdDf.AUSTRALIAN_MODIFICATION.str.startswith('Z958'))\n",
    "    |\n",
    "    (filteredIcdDf.AUSTRALIAN_MODIFICATION.str.startswith('Z959'))\n",
    "].PATIENT_ID.unique().shape[0]/datamatrixDf.person_id.unique().shape[0] * 100, 2)"
   ]
  },
  {
   "cell_type": "markdown",
   "metadata": {},
   "source": [
    "## Cerebrovascular disease"
   ]
  },
  {
   "cell_type": "code",
   "execution_count": 77,
   "metadata": {},
   "outputs": [
    {
     "data": {
      "text/plain": [
       "AUSTRALIAN_MODIFICATION  ICD_DESCRIPTION                                                                     \n",
       "I678                     Other specified cerebrovascular diseases                                                2725\n",
       "I611                     Intracerebral haemorrhage in hemisphere, cortical                                       2150\n",
       "I634                     Cerebral infarction due to embolism of cerebral arteries                                1089\n",
       "I639                     Cerebral infarction, unspecified                                                         961\n",
       "I660                     Occlusion and stenosis of middle cerebral artery                                         604\n",
       "G460                     Middle cerebral artery syndrome (I66.0+)                                                 568\n",
       "I615                     Intracerebral haemorrhage, intraventricular                                              390\n",
       "I601                     Subarachnoid haemorrhage from middle cerebral artery                                     339\n",
       "I620                     Subdural haemorrhage (acute)(nontraumatic)                                               320\n",
       "G468                     Other vascular syndromes of brain in cerebrovascular diseases (I60-I67+)                 302\n",
       "G459                     Transient cerebral ischaemic attack, unspecified                                         296\n",
       "I608                     Other subarachnoid haemorrhage                                                           239\n",
       "I610                     Intracerebral haemorrhage in hemisphere, subcortical                                     174\n",
       "I618                     Other intracerebral haemorrhage                                                          166\n",
       "I671                     Cerebral aneurysm, nonruptured                                                           147\n",
       "I635                     Cerebral infarction due to unspecified occlusion or stenosis of cerebral arteries        141\n",
       "I694                     Sequelae of stroke, not specified as haemorrhage or infarction                           137\n",
       "I652                     Occlusion and stenosis of carotid artery                                                 131\n",
       "I630                     Cerebral infarction due to thrombosis of precerebral arteries                            129\n",
       "I693                     Sequelae of cerebral infarction                                                          129\n",
       "I609                     Subarachnoid haemorrhage, unspecified                                                    109\n",
       "I633                     Cerebral infarction due to thrombosis of cerebral arteries                                82\n",
       "I669                     Occlusion and stenosis of unspecified cerebral artery                                     66\n",
       "I651                     Occlusion and stenosis of basilar artery                                                  62\n",
       "I64                      Stroke, not specified as haemorrhage or infarction                                        61\n",
       "I674                     Hypertensive encephalopathy                                                               56\n",
       "I602                     Subarachnoid haemorrhage from anterior communicating artery                               53\n",
       "I619                     Intracerebral haemorrhage, unspecified                                                    34\n",
       "I638                     Other cerebral infarction                                                                 29\n",
       "I614                     Intracerebral haemorrhage in cerebellum                                                   22\n",
       "I621                     Nontraumatic extradural haemorrhage                                                       21\n",
       "I631                     Cerebral infarction due to embolism of precerebral arteries                               17\n",
       "I632                     Cerebral infarction due to unspecified occlusion or stenosis of precerebral arteries      10\n",
       "I690                     Sequelae of subarachnoid haemorrhage                                                       8\n",
       "I653                     Occlusion and stenosis of multiple and bilateral precerebral arteries                      8\n",
       "I672                     Cerebral atherosclerosis                                                                   8\n",
       "I680                     Cerebral amyloid angiopathy (E85.-+)                                                       6\n",
       "I612                     Intracerebral haemorrhage in hemisphere, unspecified                                       5\n",
       "I629                     Intracranial haemorrhage (nontraumatic), unspecified                                       4\n",
       "I607                     Subarachnoid haemorrhage from intracranial artery, unspecified                             2\n",
       "I691                     Sequelae of intracerebral haemorrhage                                                      2\n",
       "I613                     Intracerebral haemorrhage in brain stem                                                    1\n",
       "dtype: int64"
      ]
     },
     "execution_count": 77,
     "metadata": {},
     "output_type": "execute_result"
    }
   ],
   "source": [
    "filteredIcdDf[\n",
    "    (filteredIcdDf.AUSTRALIAN_MODIFICATION.str.startswith('G45'))\n",
    "    |\n",
    "    (filteredIcdDf.AUSTRALIAN_MODIFICATION.str.startswith('G46'))\n",
    "    |\n",
    "    (filteredIcdDf.AUSTRALIAN_MODIFICATION.str.startswith('I6'))\n",
    "    |\n",
    "    (filteredIcdDf.AUSTRALIAN_MODIFICATION.str.startswith('H340'))\n",
    "][['AUSTRALIAN_MODIFICATION', 'ICD_DESCRIPTION']].value_counts()"
   ]
  },
  {
   "cell_type": "code",
   "execution_count": 78,
   "metadata": {},
   "outputs": [
    {
     "data": {
      "text/plain": [
       "5.49"
      ]
     },
     "execution_count": 78,
     "metadata": {},
     "output_type": "execute_result"
    }
   ],
   "source": [
    "round(filteredIcdDf[\n",
    "    (filteredIcdDf.AUSTRALIAN_MODIFICATION.str.startswith('G45'))\n",
    "    |\n",
    "    (filteredIcdDf.AUSTRALIAN_MODIFICATION.str.startswith('G46'))\n",
    "    |\n",
    "    (filteredIcdDf.AUSTRALIAN_MODIFICATION.str.startswith('I6'))\n",
    "    |\n",
    "    (filteredIcdDf.AUSTRALIAN_MODIFICATION.str.startswith('H340'))\n",
    "].PATIENT_ID.unique().shape[0]/datamatrixDf.person_id.unique().shape[0] * 100, 2)"
   ]
  },
  {
   "cell_type": "markdown",
   "metadata": {},
   "source": [
    "### Dementia"
   ]
  },
  {
   "cell_type": "code",
   "execution_count": 79,
   "metadata": {},
   "outputs": [
    {
     "data": {
      "text/plain": [
       "AUSTRALIAN_MODIFICATION  ICD_DESCRIPTION                                                                            \n",
       "F051                     Delirium superimposed on dementia                                                              744\n",
       "F009                     Dementia in Alzheimer's disease, unspecified (G30.9+)                                          199\n",
       "G309                     Alzheimer's disease, unspecified                                                               195\n",
       "F019                     Vascular dementia, unspecified                                                                 119\n",
       "F03                      Unspecified dementia                                                                           108\n",
       "F023                     Dementia in Parkinson's disease (G20+)                                                          67\n",
       "G308                     Other Alzheimer's disease                                                                       61\n",
       "F002                     Dementia in Alzheimer's disease, atypical or mixed type (G30.8+)                                57\n",
       "F028                     Dementia in other specified diseases classified elsewhere                                       33\n",
       "F020                     Dementia in Pick's disease (G31.0+)                                                             18\n",
       "F001                     Dementia in Alzheimer's disease with late onset (G30.1+)                                         5\n",
       "G301                     Alzheimer's disease with late onset                                                              5\n",
       "F0190                    Vascular dementia, unspecified, without mention of psychological or behavioural disturbance      1\n",
       "dtype: int64"
      ]
     },
     "execution_count": 79,
     "metadata": {},
     "output_type": "execute_result"
    }
   ],
   "source": [
    "filteredIcdDf[\n",
    "    (filteredIcdDf.AUSTRALIAN_MODIFICATION.str.startswith('F00'))\n",
    "    |\n",
    "    (filteredIcdDf.AUSTRALIAN_MODIFICATION.str.startswith('F01'))\n",
    "    |\n",
    "    (filteredIcdDf.AUSTRALIAN_MODIFICATION.str.startswith('F02'))\n",
    "    |\n",
    "    (filteredIcdDf.AUSTRALIAN_MODIFICATION.str.startswith('F03'))\n",
    "    |\n",
    "    (filteredIcdDf.AUSTRALIAN_MODIFICATION.str.startswith('G30'))\n",
    "    |\n",
    "    (filteredIcdDf.AUSTRALIAN_MODIFICATION.str.startswith('F051'))\n",
    "    |\n",
    "    (filteredIcdDf.AUSTRALIAN_MODIFICATION.str.startswith('G311'))\n",
    "][['AUSTRALIAN_MODIFICATION', 'ICD_DESCRIPTION']].value_counts()"
   ]
  },
  {
   "cell_type": "code",
   "execution_count": 80,
   "metadata": {},
   "outputs": [
    {
     "data": {
      "text/plain": [
       "2.56"
      ]
     },
     "execution_count": 80,
     "metadata": {},
     "output_type": "execute_result"
    }
   ],
   "source": [
    "round(filteredIcdDf[\n",
    "    (filteredIcdDf.AUSTRALIAN_MODIFICATION.str.startswith('F00'))\n",
    "    |\n",
    "    (filteredIcdDf.AUSTRALIAN_MODIFICATION.str.startswith('F01'))\n",
    "    |\n",
    "    (filteredIcdDf.AUSTRALIAN_MODIFICATION.str.startswith('F02'))\n",
    "    |\n",
    "    (filteredIcdDf.AUSTRALIAN_MODIFICATION.str.startswith('F03'))\n",
    "    |\n",
    "    (filteredIcdDf.AUSTRALIAN_MODIFICATION.str.startswith('G30'))\n",
    "    |\n",
    "    (filteredIcdDf.AUSTRALIAN_MODIFICATION.str.startswith('F051'))\n",
    "    |\n",
    "    (filteredIcdDf.AUSTRALIAN_MODIFICATION.str.startswith('G311'))\n",
    "].PATIENT_ID.unique().shape[0]/datamatrixDf.person_id.unique().shape[0] * 100, 2)"
   ]
  },
  {
   "cell_type": "markdown",
   "metadata": {},
   "source": [
    "## Chronic pulmonary disease"
   ]
  },
  {
   "cell_type": "code",
   "execution_count": 81,
   "metadata": {},
   "outputs": [
    {
     "data": {
      "text/plain": [
       "AUSTRALIAN_MODIFICATION  ICD_DESCRIPTION                                                             \n",
       "J440                     Chronic obstructive pulmonary disease with acute lower respiratory infection    6196\n",
       "J441                     Chronic obstructive pulmonary disease with acute exacerbation, unspecified      2835\n",
       "J459                     Asthma, unspecified                                                             1627\n",
       "J47                      Bronchiectasis                                                                  1301\n",
       "J449                     Chronic obstructive pulmonary disease, unspecified                               389\n",
       "J450                     Predominantly allergic asthma                                                    192\n",
       "J448                     Other specified chronic obstructive pulmonary disease                            145\n",
       "J439                     Emphysema, unspecified                                                           125\n",
       "J40                      Bronchitis, not specified as acute or chronic                                     78\n",
       "J628                     Pneumoconiosis due to other dust containing silica                                65\n",
       "J410                     Simple chronic bronchitis                                                         63\n",
       "J679                     Hypersensitivity pneumonitis due to unspecified organic dust                       9\n",
       "dtype: int64"
      ]
     },
     "execution_count": 81,
     "metadata": {},
     "output_type": "execute_result"
    }
   ],
   "source": [
    "filteredIcdDf[\n",
    "    (filteredIcdDf.AUSTRALIAN_MODIFICATION.str.startswith('I278'))\n",
    "    |\n",
    "    (filteredIcdDf.AUSTRALIAN_MODIFICATION.str.startswith('I279'))\n",
    "    |\n",
    "    (filteredIcdDf.AUSTRALIAN_MODIFICATION.str.startswith('J40')) | (filteredIcdDf.AUSTRALIAN_MODIFICATION.str.startswith('J41')) | (filteredIcdDf.AUSTRALIAN_MODIFICATION.str.startswith('J42')) | (filteredIcdDf.AUSTRALIAN_MODIFICATION.str.startswith('J43')) | (filteredIcdDf.AUSTRALIAN_MODIFICATION.str.startswith('J44')) | (filteredIcdDf.AUSTRALIAN_MODIFICATION.str.startswith('J45')) | (filteredIcdDf.AUSTRALIAN_MODIFICATION.str.startswith('J46')) | (filteredIcdDf.AUSTRALIAN_MODIFICATION.str.startswith('J47'))\n",
    "    |\n",
    "    (filteredIcdDf.AUSTRALIAN_MODIFICATION.str.startswith('J60')) | (filteredIcdDf.AUSTRALIAN_MODIFICATION.str.startswith('J61')) | (filteredIcdDf.AUSTRALIAN_MODIFICATION.str.startswith('J62')) | (filteredIcdDf.AUSTRALIAN_MODIFICATION.str.startswith('J63')) | (filteredIcdDf.AUSTRALIAN_MODIFICATION.str.startswith('J64')) | (filteredIcdDf.AUSTRALIAN_MODIFICATION.str.startswith('J65')) | (filteredIcdDf.AUSTRALIAN_MODIFICATION.str.startswith('J66')) | (filteredIcdDf.AUSTRALIAN_MODIFICATION.str.startswith('J67'))\n",
    "    |\n",
    "    (filteredIcdDf.AUSTRALIAN_MODIFICATION.str.startswith('J684'))\n",
    "    |\n",
    "    (filteredIcdDf.AUSTRALIAN_MODIFICATION.str.startswith('J701'))\n",
    "    |\n",
    "    (filteredIcdDf.AUSTRALIAN_MODIFICATION.str.startswith('J703'))\n",
    "][['AUSTRALIAN_MODIFICATION', 'ICD_DESCRIPTION']].value_counts()"
   ]
  },
  {
   "cell_type": "code",
   "execution_count": 82,
   "metadata": {},
   "outputs": [
    {
     "data": {
      "text/plain": [
       "5.42"
      ]
     },
     "execution_count": 82,
     "metadata": {},
     "output_type": "execute_result"
    }
   ],
   "source": [
    "round(filteredIcdDf[\n",
    "    (filteredIcdDf.AUSTRALIAN_MODIFICATION.str.startswith('I278'))\n",
    "    |\n",
    "    (filteredIcdDf.AUSTRALIAN_MODIFICATION.str.startswith('I279'))\n",
    "    |\n",
    "    (filteredIcdDf.AUSTRALIAN_MODIFICATION.str.startswith('J40')) | (filteredIcdDf.AUSTRALIAN_MODIFICATION.str.startswith('J41')) | (filteredIcdDf.AUSTRALIAN_MODIFICATION.str.startswith('J42')) | (filteredIcdDf.AUSTRALIAN_MODIFICATION.str.startswith('J43')) | (filteredIcdDf.AUSTRALIAN_MODIFICATION.str.startswith('J44')) | (filteredIcdDf.AUSTRALIAN_MODIFICATION.str.startswith('J45')) | (filteredIcdDf.AUSTRALIAN_MODIFICATION.str.startswith('J46')) | (filteredIcdDf.AUSTRALIAN_MODIFICATION.str.startswith('J47'))\n",
    "    |\n",
    "    (filteredIcdDf.AUSTRALIAN_MODIFICATION.str.startswith('J60')) | (filteredIcdDf.AUSTRALIAN_MODIFICATION.str.startswith('J61')) | (filteredIcdDf.AUSTRALIAN_MODIFICATION.str.startswith('J62')) | (filteredIcdDf.AUSTRALIAN_MODIFICATION.str.startswith('J63')) | (filteredIcdDf.AUSTRALIAN_MODIFICATION.str.startswith('J64')) | (filteredIcdDf.AUSTRALIAN_MODIFICATION.str.startswith('J65')) | (filteredIcdDf.AUSTRALIAN_MODIFICATION.str.startswith('J66')) | (filteredIcdDf.AUSTRALIAN_MODIFICATION.str.startswith('J67'))\n",
    "    |\n",
    "    (filteredIcdDf.AUSTRALIAN_MODIFICATION.str.startswith('J684'))\n",
    "    |\n",
    "    (filteredIcdDf.AUSTRALIAN_MODIFICATION.str.startswith('J701'))\n",
    "    |\n",
    "    (filteredIcdDf.AUSTRALIAN_MODIFICATION.str.startswith('J703'))\n",
    "].PATIENT_ID.unique().shape[0]/datamatrixDf.person_id.unique().shape[0] * 100, 2)"
   ]
  },
  {
   "cell_type": "markdown",
   "metadata": {},
   "source": [
    "## Rheumatologic disease"
   ]
  },
  {
   "cell_type": "code",
   "execution_count": 83,
   "metadata": {},
   "outputs": [
    {
     "data": {
      "text/plain": [
       "AUSTRALIAN_MODIFICATION  ICD_DESCRIPTION                                               \n",
       "M349                     Systemic sclerosis, unspecified                                   228\n",
       "M0699                    Rheumatoid arthritis, unspecified, site unspecified               111\n",
       "M321                     Systemic lupus erythematosus with organ or system involvement      69\n",
       "M348                     Other forms of systemic sclerosis                                  56\n",
       "M0694                    Rheumatoid arthritis, unspecified, hand                            52\n",
       "M0696                    Rheumatoid arthritis, unspecified, lower leg                       39\n",
       "M353                     Polymyalgia rheumatica                                             18\n",
       "M0698                    Rheumatoid arthritis, unspecified, other site                      18\n",
       "M328                     Other forms of systemic lupus erythematosus                        16\n",
       "M0695                    Rheumatoid arthritis, unspecified, pelvic region and thigh         12\n",
       "M0594                    Seropositive rheumatoid arthritis, unspecified, hand                8\n",
       "M0690                    Rheumatoid arthritis, unspecified, multiple sites                   8\n",
       "M0643                    Inflammatory polyarthropathy, forearm                               8\n",
       "M0646                    Inflammatory polyarthropathy, lower leg                             8\n",
       "M0600                    Seronegative rheumatoid arthritis, multiple sites                   7\n",
       "M332                     Polymyositis                                                        4\n",
       "M0590                    Seropositive rheumatoid arthritis, unspecified, multiple sites      4\n",
       "M341                     CR(E)ST syndrome                                                    4\n",
       "M329                     Systemic lupus erythematosus, unspecified                           4\n",
       "M0697                    Rheumatoid arthritis, unspecified, ankle and foot                   2\n",
       "M0509                    Felty's syndrome, site unspecified                                  1\n",
       "dtype: int64"
      ]
     },
     "execution_count": 83,
     "metadata": {},
     "output_type": "execute_result"
    }
   ],
   "source": [
    "filteredIcdDf[\n",
    "    (filteredIcdDf.AUSTRALIAN_MODIFICATION.str.startswith('M05'))\n",
    "    |\n",
    "    (filteredIcdDf.AUSTRALIAN_MODIFICATION.str.startswith('M06'))\n",
    "    |\n",
    "    (filteredIcdDf.AUSTRALIAN_MODIFICATION.str.startswith('M315'))\n",
    "    |\n",
    "    (filteredIcdDf.AUSTRALIAN_MODIFICATION.str.startswith('M32'))\n",
    "    |\n",
    "    (filteredIcdDf.AUSTRALIAN_MODIFICATION.str.startswith('M33'))\n",
    "    |\n",
    "    (filteredIcdDf.AUSTRALIAN_MODIFICATION.str.startswith('M34'))\n",
    "    |\n",
    "    (filteredIcdDf.AUSTRALIAN_MODIFICATION.str.startswith('M351'))\n",
    "    |\n",
    "    (filteredIcdDf.AUSTRALIAN_MODIFICATION.str.startswith('M353'))\n",
    "    |\n",
    "    (filteredIcdDf.AUSTRALIAN_MODIFICATION.str.startswith('M360'))\n",
    "][['AUSTRALIAN_MODIFICATION', 'ICD_DESCRIPTION']].value_counts()"
   ]
  },
  {
   "cell_type": "code",
   "execution_count": 84,
   "metadata": {},
   "outputs": [
    {
     "data": {
      "text/plain": [
       "1.01"
      ]
     },
     "execution_count": 84,
     "metadata": {},
     "output_type": "execute_result"
    }
   ],
   "source": [
    "round(filteredIcdDf[\n",
    "    (filteredIcdDf.AUSTRALIAN_MODIFICATION.str.startswith('M05'))\n",
    "    |\n",
    "    (filteredIcdDf.AUSTRALIAN_MODIFICATION.str.startswith('M06'))\n",
    "    |\n",
    "    (filteredIcdDf.AUSTRALIAN_MODIFICATION.str.startswith('M315'))\n",
    "    |\n",
    "    (filteredIcdDf.AUSTRALIAN_MODIFICATION.str.startswith('M32'))\n",
    "    |\n",
    "    (filteredIcdDf.AUSTRALIAN_MODIFICATION.str.startswith('M33'))\n",
    "    |\n",
    "    (filteredIcdDf.AUSTRALIAN_MODIFICATION.str.startswith('M34'))\n",
    "    |\n",
    "    (filteredIcdDf.AUSTRALIAN_MODIFICATION.str.startswith('M351'))\n",
    "    |\n",
    "    (filteredIcdDf.AUSTRALIAN_MODIFICATION.str.startswith('M353'))\n",
    "    |\n",
    "    (filteredIcdDf.AUSTRALIAN_MODIFICATION.str.startswith('M360'))\n",
    "].PATIENT_ID.unique().shape[0]/datamatrixDf.person_id.unique().shape[0] * 100, 2)"
   ]
  },
  {
   "cell_type": "markdown",
   "metadata": {},
   "source": [
    "## Peptic ulcer"
   ]
  },
  {
   "cell_type": "code",
   "execution_count": 85,
   "metadata": {},
   "outputs": [
    {
     "data": {
      "text/plain": [
       "AUSTRALIAN_MODIFICATION  ICD_DESCRIPTION                                                                    \n",
       "K2970                    Gastritis, unspecified, without mention of haemorrhage                                 757\n",
       "K2960                    Other gastritis, without mention of haemorrhage                                        489\n",
       "K2971                    Gastritis, unspecified, with haemorrhage                                               298\n",
       "K291                     Other acute gastritis                                                                  286\n",
       "K2950                    Chronic gastritis, unspecified, without mention of haemorrhage                         212\n",
       "K254                     Gastric ulcer, chronic or unspecified with haemorrhage                                 202\n",
       "K2980                    Duodenitis, without mention of haemorrhage                                             162\n",
       "K264                     Duodenal ulcer, chronic or unspecified with haemorrhage                                156\n",
       "K259                     Gastric ulcer, unspecified as acute or chronic, without haemorrhage or perforation     125\n",
       "K290                     Acute haemorrhagic gastritis                                                           111\n",
       "K262                     Duodenal ulcer, acute with both haemorrhage and perforation                             81\n",
       "K265                     Duodenal ulcer, chronic or unspecified with perforation                                 78\n",
       "K269                     Duodenal ulcer, unspecified as acute or chronic, without haemorrhage or perforation     50\n",
       "K2981                    Duodenitis, with haemorrhage                                                            44\n",
       "K2951                    Chronic gastritis, unspecified, with haemorrhage                                        37\n",
       "K266                     Duodenal ulcer, chronic or unspecified with both haemorrhage and perforation            27\n",
       "K2961                    Other gastritis, with haemorrhage                                                       20\n",
       "K250                     Gastric ulcer, acute with haemorrhage                                                    8\n",
       "K257                     Gastric ulcer, chronic without haemorrhage or perforation                                5\n",
       "K284                     Gastrojejunal ulcer, chronic or unspecified with haemorrhage                             4\n",
       "K260                     Duodenal ulcer, acute with haemorrhage                                                   2\n",
       "K279                     Peptic ulcer, unspecified as acute or chronic, without haemorrhage or perforation        2\n",
       "K2940                    Chronic atrophic gastritis, without mention of haemorrhage                               1\n",
       "dtype: int64"
      ]
     },
     "execution_count": 85,
     "metadata": {},
     "output_type": "execute_result"
    }
   ],
   "source": [
    "filteredIcdDf[\n",
    "    (filteredIcdDf.AUSTRALIAN_MODIFICATION.str.startswith('K25'))\n",
    "    |\n",
    "    (filteredIcdDf.AUSTRALIAN_MODIFICATION.str.startswith('K26'))\n",
    "    |\n",
    "    (filteredIcdDf.AUSTRALIAN_MODIFICATION.str.startswith('K27'))\n",
    "    |\n",
    "    (filteredIcdDf.AUSTRALIAN_MODIFICATION.str.startswith('K28'))\n",
    "    |\n",
    "    (filteredIcdDf.AUSTRALIAN_MODIFICATION.str.startswith('K29'))\n",
    "][['AUSTRALIAN_MODIFICATION', 'ICD_DESCRIPTION']].value_counts()"
   ]
  },
  {
   "cell_type": "code",
   "execution_count": 86,
   "metadata": {},
   "outputs": [
    {
     "data": {
      "text/plain": [
       "3.14"
      ]
     },
     "execution_count": 86,
     "metadata": {},
     "output_type": "execute_result"
    }
   ],
   "source": [
    "round(filteredIcdDf[\n",
    "    (filteredIcdDf.AUSTRALIAN_MODIFICATION.str.startswith('K25'))\n",
    "    |\n",
    "    (filteredIcdDf.AUSTRALIAN_MODIFICATION.str.startswith('K26'))\n",
    "    |\n",
    "    (filteredIcdDf.AUSTRALIAN_MODIFICATION.str.startswith('K27'))\n",
    "    |\n",
    "    (filteredIcdDf.AUSTRALIAN_MODIFICATION.str.startswith('K28'))\n",
    "    |\n",
    "    (filteredIcdDf.AUSTRALIAN_MODIFICATION.str.startswith('K29'))\n",
    "].PATIENT_ID.unique().shape[0]/datamatrixDf.person_id.unique().shape[0] * 100, 2)"
   ]
  },
  {
   "cell_type": "markdown",
   "metadata": {},
   "source": [
    "## Hemiplegia/paraplegia"
   ]
  },
  {
   "cell_type": "code",
   "execution_count": 87,
   "metadata": {},
   "outputs": [
    {
     "data": {
      "text/plain": [
       "AUSTRALIAN_MODIFICATION  ICD_DESCRIPTION                              \n",
       "G819                     Hemiplegia, unspecified                          2269\n",
       "G834                     Cauda equina syndrome                             119\n",
       "G832                     Monoplegia of upper limb                           66\n",
       "G8242                    Spastic tetraplegia, unspecified, chronic          48\n",
       "G8225                    Paraplegia, unspecified, incomplete, acute         26\n",
       "G833                     Monoplegia, unspecified                            19\n",
       "G8205                    Flaccid paraplegia, incomplete, acute              17\n",
       "G8250                    Tetraplegia, unspecified, unspecified              10\n",
       "G8200                    Flaccid paraplegia, unspecified                     9\n",
       "G8252                    Tetraplegia, unspecified, chronic                   8\n",
       "G831                     Monoplegia of lower limb                            6\n",
       "G839                     Paralytic syndrome, unspecified                     4\n",
       "G8220                    Paraplegia, unspecified, unspecified                2\n",
       "G8256                    Tetraplegia, unspecified, incomplete, chronic       1\n",
       "G8255                    Tetraplegia, unspecified, incomplete, acute         1\n",
       "dtype: int64"
      ]
     },
     "execution_count": 87,
     "metadata": {},
     "output_type": "execute_result"
    }
   ],
   "source": [
    "filteredIcdDf[\n",
    "    (filteredIcdDf.AUSTRALIAN_MODIFICATION.str.startswith('G041'))\n",
    "    |\n",
    "    (filteredIcdDf.AUSTRALIAN_MODIFICATION.str.startswith('G114'))\n",
    "    |\n",
    "    (filteredIcdDf.AUSTRALIAN_MODIFICATION.str.startswith('G801'))\n",
    "    |\n",
    "    (filteredIcdDf.AUSTRALIAN_MODIFICATION.str.startswith('G802'))\n",
    "    |\n",
    "    (filteredIcdDf.AUSTRALIAN_MODIFICATION.str.startswith('G81'))\n",
    "    |\n",
    "    (filteredIcdDf.AUSTRALIAN_MODIFICATION.str.startswith('G82'))\n",
    "    |\n",
    "    (filteredIcdDf.AUSTRALIAN_MODIFICATION.str.startswith('G830'))\n",
    "    |\n",
    "    (filteredIcdDf.AUSTRALIAN_MODIFICATION.str.startswith('G831'))\n",
    "    |\n",
    "    (filteredIcdDf.AUSTRALIAN_MODIFICATION.str.startswith('G832'))\n",
    "    |\n",
    "    (filteredIcdDf.AUSTRALIAN_MODIFICATION.str.startswith('G833'))\n",
    "    |\n",
    "    (filteredIcdDf.AUSTRALIAN_MODIFICATION.str.startswith('G834'))\n",
    "    |\n",
    "    (filteredIcdDf.AUSTRALIAN_MODIFICATION.str.startswith('G839'))\n",
    "][['AUSTRALIAN_MODIFICATION', 'ICD_DESCRIPTION']].value_counts()"
   ]
  },
  {
   "cell_type": "code",
   "execution_count": 88,
   "metadata": {},
   "outputs": [
    {
     "data": {
      "text/plain": [
       "2.35"
      ]
     },
     "execution_count": 88,
     "metadata": {},
     "output_type": "execute_result"
    }
   ],
   "source": [
    "round(filteredIcdDf[\n",
    "    (filteredIcdDf.AUSTRALIAN_MODIFICATION.str.startswith('G041'))\n",
    "    |\n",
    "    (filteredIcdDf.AUSTRALIAN_MODIFICATION.str.startswith('G114'))\n",
    "    |\n",
    "    (filteredIcdDf.AUSTRALIAN_MODIFICATION.str.startswith('G801'))\n",
    "    |\n",
    "    (filteredIcdDf.AUSTRALIAN_MODIFICATION.str.startswith('G802'))\n",
    "    |\n",
    "    (filteredIcdDf.AUSTRALIAN_MODIFICATION.str.startswith('G81'))\n",
    "    |\n",
    "    (filteredIcdDf.AUSTRALIAN_MODIFICATION.str.startswith('G82'))\n",
    "    |\n",
    "    (filteredIcdDf.AUSTRALIAN_MODIFICATION.str.startswith('G830'))\n",
    "    |\n",
    "    (filteredIcdDf.AUSTRALIAN_MODIFICATION.str.startswith('G831'))\n",
    "    |\n",
    "    (filteredIcdDf.AUSTRALIAN_MODIFICATION.str.startswith('G832'))\n",
    "    |\n",
    "    (filteredIcdDf.AUSTRALIAN_MODIFICATION.str.startswith('G833'))\n",
    "    |\n",
    "    (filteredIcdDf.AUSTRALIAN_MODIFICATION.str.startswith('G834'))\n",
    "    |\n",
    "    (filteredIcdDf.AUSTRALIAN_MODIFICATION.str.startswith('G839'))\n",
    "].PATIENT_ID.unique().shape[0]/datamatrixDf.person_id.unique().shape[0] * 100, 2)"
   ]
  },
  {
   "cell_type": "markdown",
   "metadata": {},
   "source": [
    "## Diabetes without complications"
   ]
  },
  {
   "cell_type": "code",
   "execution_count": 89,
   "metadata": {},
   "outputs": [
    {
     "data": {
      "text/plain": [
       "AUSTRALIAN_MODIFICATION  ICD_DESCRIPTION                                                                                                    \n",
       "E119                     Type 2 diabetes mellitus without complication                                                                          70774\n",
       "E139                     Other specified diabetes mellitus without complication                                                                 33070\n",
       "E1165                    Type 2 diabetes mellitus with poor control                                                                             16172\n",
       "E1164                    Type 2 diabetes mellitus with hypoglycaemia                                                                            11530\n",
       "E1365                    Other specified diabetes mellitus with poor control                                                                     5286\n",
       "E1364                    Other specified diabetes mellitus with hypoglycaemia                                                                    3923\n",
       "E1101                    Type 2 diabetes mellitus with hyperosmolarity without nonketotic hyperglycaemic-hyperosmolar coma [NKHHC]               3565\n",
       "E1169                    Type 2 diabetes mellitus with other specified complication                                                              3262\n",
       "E1111                    Type 2 diabetes mellitus with ketoacidosis, without coma                                                                 830\n",
       "E1065                    Type 1 diabetes mellitus with poor control                                                                               635\n",
       "E1161                    Type 2 diabetes mellitus with specified diabetic musculoskeletal and connective tissue complication                      605\n",
       "E109                     Type 1 diabetes mellitus without complication                                                                            493\n",
       "E1064                    Type 1 diabetes mellitus with hypoglycaemia                                                                              488\n",
       "E1162                    Type 2 diabetes mellitus with specified skin and subcutaneous tissue complication                                        357\n",
       "E1011                    Type 1 diabetes mellitus with ketoacidosis, without coma                                                                 271\n",
       "E1469                    Unspecified diabetes mellitus with other specified complication                                                          198\n",
       "E1369                    Other specified diabetes mellitus with other specified complication                                                      162\n",
       "E1113                    Type 2 diabetes mellitus with lactic acidosis, without coma                                                              145\n",
       "E1311                    Other specified diabetes mellitus with ketoacidosis, without coma                                                        129\n",
       "E1301                    Other specified diabetes mellitus with hyperosmolarity, without nonketotic hyperglycaemic-hyperosmolar coma [NKHHC]      103\n",
       "E1069                    Type 1 diabetes mellitus with other specified complication                                                                43\n",
       "E1163                    Type 2 diabetes mellitus with specified periodontal complication                                                          41\n",
       "E1061                    Type 1 diabetes mellitus with specified diabetic musculoskeletal and connective tissue complication                       20\n",
       "E1313                    Other specified diabetes mellitus with lactic acidosis, without coma                                                      16\n",
       "E1001                    Type 1 diabetes mellitus with hyperosmolarity without nonketotic hyperglycaemic-hyperosmolar coma (NKHHC)                 15\n",
       "E1115                    Type 2 diabetes mellitus with ketoacidosis, with lactic acidosis, without coma                                             9\n",
       "E1015                    Type 1 diabetes mellitus with ketoacidosis, with lactic acidosis, without coma                                             6\n",
       "E1102                    Type 2 diabetes mellitus with hyperosmolarity with coma                                                                    4\n",
       "E1013                    Type 1 diabetes mellitus with lactic acidosis, without coma                                                                1\n",
       "dtype: int64"
      ]
     },
     "execution_count": 89,
     "metadata": {},
     "output_type": "execute_result"
    }
   ],
   "source": [
    "filteredIcdDf[\n",
    "    (filteredIcdDf.AUSTRALIAN_MODIFICATION.str.startswith('E100'))\n",
    "    |\n",
    "    (filteredIcdDf.AUSTRALIAN_MODIFICATION.str.startswith('E101'))\n",
    "    |\n",
    "    (filteredIcdDf.AUSTRALIAN_MODIFICATION.str.startswith('E106'))\n",
    "    |\n",
    "    (filteredIcdDf.AUSTRALIAN_MODIFICATION.str.startswith('E108'))\n",
    "    |\n",
    "    (filteredIcdDf.AUSTRALIAN_MODIFICATION.str.startswith('E109'))\n",
    "    |\n",
    "    (filteredIcdDf.AUSTRALIAN_MODIFICATION.str.startswith('E110'))\n",
    "    |\n",
    "    (filteredIcdDf.AUSTRALIAN_MODIFICATION.str.startswith('E111'))\n",
    "    |\n",
    "    (filteredIcdDf.AUSTRALIAN_MODIFICATION.str.startswith('E116'))\n",
    "    |\n",
    "    (filteredIcdDf.AUSTRALIAN_MODIFICATION.str.startswith('E118'))\n",
    "    |\n",
    "    (filteredIcdDf.AUSTRALIAN_MODIFICATION.str.startswith('E119'))\n",
    "    |\n",
    "    (filteredIcdDf.AUSTRALIAN_MODIFICATION.str.startswith('E120'))\n",
    "    |\n",
    "    (filteredIcdDf.AUSTRALIAN_MODIFICATION.str.startswith('E121'))\n",
    "    |\n",
    "    (filteredIcdDf.AUSTRALIAN_MODIFICATION.str.startswith('E126'))\n",
    "    |\n",
    "    (filteredIcdDf.AUSTRALIAN_MODIFICATION.str.startswith('E128'))\n",
    "    |\n",
    "    (filteredIcdDf.AUSTRALIAN_MODIFICATION.str.startswith('E129'))\n",
    "    |\n",
    "    (filteredIcdDf.AUSTRALIAN_MODIFICATION.str.startswith('E130'))\n",
    "    |\n",
    "    (filteredIcdDf.AUSTRALIAN_MODIFICATION.str.startswith('E131'))\n",
    "    |\n",
    "    (filteredIcdDf.AUSTRALIAN_MODIFICATION.str.startswith('E136'))\n",
    "    |\n",
    "    (filteredIcdDf.AUSTRALIAN_MODIFICATION.str.startswith('E138'))\n",
    "    |\n",
    "    (filteredIcdDf.AUSTRALIAN_MODIFICATION.str.startswith('E139'))\n",
    "    |\n",
    "    (filteredIcdDf.AUSTRALIAN_MODIFICATION.str.startswith('E140'))\n",
    "    |\n",
    "    (filteredIcdDf.AUSTRALIAN_MODIFICATION.str.startswith('E141'))\n",
    "    |\n",
    "    (filteredIcdDf.AUSTRALIAN_MODIFICATION.str.startswith('E146'))\n",
    "    |\n",
    "    (filteredIcdDf.AUSTRALIAN_MODIFICATION.str.startswith('E148'))\n",
    "][['AUSTRALIAN_MODIFICATION', 'ICD_DESCRIPTION']].value_counts()"
   ]
  },
  {
   "cell_type": "code",
   "execution_count": 90,
   "metadata": {},
   "outputs": [
    {
     "data": {
      "text/plain": [
       "14.81"
      ]
     },
     "execution_count": 90,
     "metadata": {},
     "output_type": "execute_result"
    }
   ],
   "source": [
    "round(filteredIcdDf[\n",
    "    (filteredIcdDf.AUSTRALIAN_MODIFICATION.str.startswith('E100'))\n",
    "    |\n",
    "    (filteredIcdDf.AUSTRALIAN_MODIFICATION.str.startswith('E101'))\n",
    "    |\n",
    "    (filteredIcdDf.AUSTRALIAN_MODIFICATION.str.startswith('E106'))\n",
    "    |\n",
    "    (filteredIcdDf.AUSTRALIAN_MODIFICATION.str.startswith('E108'))\n",
    "    |\n",
    "    (filteredIcdDf.AUSTRALIAN_MODIFICATION.str.startswith('E109'))\n",
    "    |\n",
    "    (filteredIcdDf.AUSTRALIAN_MODIFICATION.str.startswith('E110'))\n",
    "    |\n",
    "    (filteredIcdDf.AUSTRALIAN_MODIFICATION.str.startswith('E111'))\n",
    "    |\n",
    "    (filteredIcdDf.AUSTRALIAN_MODIFICATION.str.startswith('E116'))\n",
    "    |\n",
    "    (filteredIcdDf.AUSTRALIAN_MODIFICATION.str.startswith('E118'))\n",
    "    |\n",
    "    (filteredIcdDf.AUSTRALIAN_MODIFICATION.str.startswith('E119'))\n",
    "    |\n",
    "    (filteredIcdDf.AUSTRALIAN_MODIFICATION.str.startswith('E120'))\n",
    "    |\n",
    "    (filteredIcdDf.AUSTRALIAN_MODIFICATION.str.startswith('E121'))\n",
    "    |\n",
    "    (filteredIcdDf.AUSTRALIAN_MODIFICATION.str.startswith('E126'))\n",
    "    |\n",
    "    (filteredIcdDf.AUSTRALIAN_MODIFICATION.str.startswith('E128'))\n",
    "    |\n",
    "    (filteredIcdDf.AUSTRALIAN_MODIFICATION.str.startswith('E129'))\n",
    "    |\n",
    "    (filteredIcdDf.AUSTRALIAN_MODIFICATION.str.startswith('E130'))\n",
    "    |\n",
    "    (filteredIcdDf.AUSTRALIAN_MODIFICATION.str.startswith('E131'))\n",
    "    |\n",
    "    (filteredIcdDf.AUSTRALIAN_MODIFICATION.str.startswith('E136'))\n",
    "    |\n",
    "    (filteredIcdDf.AUSTRALIAN_MODIFICATION.str.startswith('E138'))\n",
    "    |\n",
    "    (filteredIcdDf.AUSTRALIAN_MODIFICATION.str.startswith('E139'))\n",
    "    |\n",
    "    (filteredIcdDf.AUSTRALIAN_MODIFICATION.str.startswith('E140'))\n",
    "    |\n",
    "    (filteredIcdDf.AUSTRALIAN_MODIFICATION.str.startswith('E141'))\n",
    "    |\n",
    "    (filteredIcdDf.AUSTRALIAN_MODIFICATION.str.startswith('E146'))\n",
    "    |\n",
    "    (filteredIcdDf.AUSTRALIAN_MODIFICATION.str.startswith('E148'))\n",
    "].PATIENT_ID.unique().shape[0]/datamatrixDf.person_id.unique().shape[0] * 100, 2)"
   ]
  },
  {
   "cell_type": "markdown",
   "metadata": {},
   "source": [
    "## Diabetes with chronic complications"
   ]
  },
  {
   "cell_type": "code",
   "execution_count": 91,
   "metadata": {},
   "outputs": [
    {
     "data": {
      "text/plain": [
       "AUSTRALIAN_MODIFICATION  ICD_DESCRIPTION                                                                                            \n",
       "E1122                    Type 2 diabetes mellitus with established diabetic nephropathy                                                 27579\n",
       "E1172                    Type 2 diabetes mellitus with features of insulin resistance                                                   23437\n",
       "E1171                    Type 2 diabetes mellitus with multiple microvascular and other specified nonvascular complications             21125\n",
       "E1129                    Type 2 diabetes mellitus with other specified kidney complication                                              20738\n",
       "E1151                    Type 2 diabetes mellitus with peripheral angiopathy, without gangrene                                          11417\n",
       "E1121                    Type 2 diabetes mellitus with incipient diabetic nephropathy                                                    4737\n",
       "E1173                    Type 2 diabetes mellitus with foot ulcer due to multiple causes                                                 3540\n",
       "E1329                    Other specified diabetes mellitus with other specified kidney complication                                      3303\n",
       "E1322                    Other specified diabetes mellitus with established diabetic nephropathy                                         2027\n",
       "E1342                    Other specified diabetes mellitus with diabetic polyneuropathy                                                  1774\n",
       "E1372                    Other specified diabetes mellitus with features of insulin resistance                                           1435\n",
       "E1371                    Other specified diabetes mellitus with multiple microvascular and other specified nonvascular complications     1322\n",
       "E1152                    Type 2 diabetes mellitus with peripheral angiopathy, with gangrene                                              1028\n",
       "E1022                    Type 1 diabetes mellitus with established diabetic nephropathy                                                   695\n",
       "E1042                    Type 1 diabetes mellitus with diabetic polyneuropathy                                                            682\n",
       "E1071                    Type 1 diabetes mellitus with multiple microvascular and other specified nonvascular complications               611\n",
       "E1343                    Other specified diabetes mellitus with diabetic autonomic neuropathy                                             425\n",
       "E1073                    Type 1 diabetes mellitus with foot ulcer due to multiple causes                                                  302\n",
       "E1339                    Other specified diabetes mellitus with other specified ophthalmic complication                                   250\n",
       "E1340                    Other specified diabetes mellitus with unspecified neuropathy                                                    249\n",
       "E1335                    Other specified diabetes mellitus with advanced ophthalmic disease                                               238\n",
       "E1052                    Type 1 diabetes mellitus with peripheral angiopathy, with gangrene                                               217\n",
       "E1321                    Other specified diabetes mellitus with incipient diabetic nephropathy                                            214\n",
       "E1373                    Other specified diabetes mellitus with foot ulcer due to multiple causes                                         209\n",
       "E1029                    Type 1 diabetes mellitus with other specified kidney complication                                                205\n",
       "E1031                    Type 1 diabetes mellitus with background retinopathy                                                             199\n",
       "E1472                    Unspecified diabetes mellitus with features of insulin resistance                                                198\n",
       "E1051                    Type 1 diabetes mellitus with peripheral angiopathy, without gangrene                                            139\n",
       "E1040                    Type 1 diabetes mellitus with unspecified neuropathy                                                             110\n",
       "E1043                    Type 1 diabetes mellitus with diabetic autonomic neuropathy                                                       99\n",
       "E1033                    Type 1 diabetes mellitus with proliferative retinopathy                                                           89\n",
       "E1021                    Type 1 diabetes mellitus with incipient diabetic nephropathy                                                      57\n",
       "E1039                    Type 1 diabetes mellitus with other specified ophthalmic complication                                             46\n",
       "E1351                    Other specified diabetes mellitus with peripheral angiopathy, without gangrene                                    44\n",
       "E1331                    Other specified diabetes mellitus with background retinopathy                                                     14\n",
       "E1422                    Unspecified diabetes mellitus with established diabetic nephropathy                                               13\n",
       "E1440                    Unspecified diabetes mellitus with unspecified neuropathy                                                          6\n",
       "E1471                    Unspecified diabetes mellitus with multiple microvascular and other specified nonvascular complications            6\n",
       "E1439                    Unspecified diabetes mellitus with other specified ophthalmic complication                                         6\n",
       "E1035                    Type 1 diabetes mellitus with advanced ophthalmic disease                                                          4\n",
       "E1352                    Other specified diabetes mellitus with peripheral angiopathy, with gangrene                                        4\n",
       "E1442                    Unspecified diabetes mellitus with diabetic polyneuropathy                                                         4\n",
       "E1153                    Type 2 diabetes mellitus with diabetic cardiomyopathy                                                              1\n",
       "dtype: int64"
      ]
     },
     "execution_count": 91,
     "metadata": {},
     "output_type": "execute_result"
    }
   ],
   "source": [
    "filteredIcdDf[\n",
    "    (filteredIcdDf.AUSTRALIAN_MODIFICATION.str.startswith('E102'))\n",
    "    |\n",
    "    (filteredIcdDf.AUSTRALIAN_MODIFICATION.str.startswith('E103'))\n",
    "    |\n",
    "    (filteredIcdDf.AUSTRALIAN_MODIFICATION.str.startswith('E104'))\n",
    "    |\n",
    "    (filteredIcdDf.AUSTRALIAN_MODIFICATION.str.startswith('E105'))\n",
    "    |\n",
    "    (filteredIcdDf.AUSTRALIAN_MODIFICATION.str.startswith('E107'))\n",
    "    |\n",
    "    (filteredIcdDf.AUSTRALIAN_MODIFICATION.str.startswith('E112'))\n",
    "    |\n",
    "    (filteredIcdDf.AUSTRALIAN_MODIFICATION.str.startswith('E115'))\n",
    "    |\n",
    "    (filteredIcdDf.AUSTRALIAN_MODIFICATION.str.startswith('E117'))\n",
    "    |\n",
    "    (filteredIcdDf.AUSTRALIAN_MODIFICATION.str.startswith('E122'))\n",
    "    |\n",
    "    (filteredIcdDf.AUSTRALIAN_MODIFICATION.str.startswith('E123'))\n",
    "    |\n",
    "    (filteredIcdDf.AUSTRALIAN_MODIFICATION.str.startswith('E124'))\n",
    "    |\n",
    "    (filteredIcdDf.AUSTRALIAN_MODIFICATION.str.startswith('E125'))\n",
    "    |\n",
    "    (filteredIcdDf.AUSTRALIAN_MODIFICATION.str.startswith('E127'))\n",
    "    |\n",
    "    (filteredIcdDf.AUSTRALIAN_MODIFICATION.str.startswith('E132'))\n",
    "    |\n",
    "    (filteredIcdDf.AUSTRALIAN_MODIFICATION.str.startswith('E133'))\n",
    "    |\n",
    "    (filteredIcdDf.AUSTRALIAN_MODIFICATION.str.startswith('E134'))\n",
    "    |\n",
    "    (filteredIcdDf.AUSTRALIAN_MODIFICATION.str.startswith('E135'))\n",
    "    |\n",
    "    (filteredIcdDf.AUSTRALIAN_MODIFICATION.str.startswith('E137'))\n",
    "    |\n",
    "    (filteredIcdDf.AUSTRALIAN_MODIFICATION.str.startswith('E142'))\n",
    "    |\n",
    "    (filteredIcdDf.AUSTRALIAN_MODIFICATION.str.startswith('E143'))\n",
    "    |\n",
    "    (filteredIcdDf.AUSTRALIAN_MODIFICATION.str.startswith('E144'))\n",
    "    |\n",
    "    (filteredIcdDf.AUSTRALIAN_MODIFICATION.str.startswith('E145'))\n",
    "    |\n",
    "    (filteredIcdDf.AUSTRALIAN_MODIFICATION.str.startswith('E147'))\n",
    "][['AUSTRALIAN_MODIFICATION', 'ICD_DESCRIPTION']].value_counts()"
   ]
  },
  {
   "cell_type": "code",
   "execution_count": 92,
   "metadata": {},
   "outputs": [
    {
     "data": {
      "text/plain": [
       "14.3"
      ]
     },
     "execution_count": 92,
     "metadata": {},
     "output_type": "execute_result"
    }
   ],
   "source": [
    "round(filteredIcdDf[\n",
    "    (filteredIcdDf.AUSTRALIAN_MODIFICATION.str.startswith('E102'))\n",
    "    |\n",
    "    (filteredIcdDf.AUSTRALIAN_MODIFICATION.str.startswith('E103'))\n",
    "    |\n",
    "    (filteredIcdDf.AUSTRALIAN_MODIFICATION.str.startswith('E104'))\n",
    "    |\n",
    "    (filteredIcdDf.AUSTRALIAN_MODIFICATION.str.startswith('E105'))\n",
    "    |\n",
    "    (filteredIcdDf.AUSTRALIAN_MODIFICATION.str.startswith('E107'))\n",
    "    |\n",
    "    (filteredIcdDf.AUSTRALIAN_MODIFICATION.str.startswith('E112'))\n",
    "    |\n",
    "    (filteredIcdDf.AUSTRALIAN_MODIFICATION.str.startswith('E115'))\n",
    "    |\n",
    "    (filteredIcdDf.AUSTRALIAN_MODIFICATION.str.startswith('E117'))\n",
    "    |\n",
    "    (filteredIcdDf.AUSTRALIAN_MODIFICATION.str.startswith('E122'))\n",
    "    |\n",
    "    (filteredIcdDf.AUSTRALIAN_MODIFICATION.str.startswith('E123'))\n",
    "    |\n",
    "    (filteredIcdDf.AUSTRALIAN_MODIFICATION.str.startswith('E124'))\n",
    "    |\n",
    "    (filteredIcdDf.AUSTRALIAN_MODIFICATION.str.startswith('E125'))\n",
    "    |\n",
    "    (filteredIcdDf.AUSTRALIAN_MODIFICATION.str.startswith('E127'))\n",
    "    |\n",
    "    (filteredIcdDf.AUSTRALIAN_MODIFICATION.str.startswith('E132'))\n",
    "    |\n",
    "    (filteredIcdDf.AUSTRALIAN_MODIFICATION.str.startswith('E133'))\n",
    "    |\n",
    "    (filteredIcdDf.AUSTRALIAN_MODIFICATION.str.startswith('E134'))\n",
    "    |\n",
    "    (filteredIcdDf.AUSTRALIAN_MODIFICATION.str.startswith('E135'))\n",
    "    |\n",
    "    (filteredIcdDf.AUSTRALIAN_MODIFICATION.str.startswith('E137'))\n",
    "    |\n",
    "    (filteredIcdDf.AUSTRALIAN_MODIFICATION.str.startswith('E142'))\n",
    "    |\n",
    "    (filteredIcdDf.AUSTRALIAN_MODIFICATION.str.startswith('E143'))\n",
    "    |\n",
    "    (filteredIcdDf.AUSTRALIAN_MODIFICATION.str.startswith('E144'))\n",
    "    |\n",
    "    (filteredIcdDf.AUSTRALIAN_MODIFICATION.str.startswith('E145'))\n",
    "    |\n",
    "    (filteredIcdDf.AUSTRALIAN_MODIFICATION.str.startswith('E147'))\n",
    "].PATIENT_ID.unique().shape[0]/datamatrixDf.person_id.unique().shape[0] * 100, 2)"
   ]
  },
  {
   "cell_type": "markdown",
   "metadata": {},
   "source": [
    "## Mild liver disease"
   ]
  },
  {
   "cell_type": "code",
   "execution_count": 93,
   "metadata": {},
   "outputs": [
    {
     "data": {
      "text/plain": [
       "AUSTRALIAN_MODIFICATION  ICD_DESCRIPTION                                  \n",
       "B181                     Chronic viral hepatitis B without delta-agent        18893\n",
       "B182                     Chronic viral hepatitis C                            18026\n",
       "K746                     Other and unspecified cirrhosis of liver              3774\n",
       "K703                     Alcoholic cirrhosis of liver                          3476\n",
       "K760                     Fatty (change of) liver, not elsewhere classified     3338\n",
       "K769                     Liver disease, unspecified                            2893\n",
       "K768                     Other specified diseases of liver                     2436\n",
       "K701                     Alcoholic hepatitis                                    269\n",
       "K763                     Infarction of liver                                    157\n",
       "Z944                     Liver transplant status                                112\n",
       "K709                     Alcoholic liver disease, unspecified                    76\n",
       "K764                     Peliosis hepatis                                        20\n",
       "K700                     Alcoholic fatty liver                                    9\n",
       "B180                     Chronic viral hepatitis B with delta-agent               6\n",
       "K743                     Primary biliary cirrhosis                                5\n",
       "dtype: int64"
      ]
     },
     "execution_count": 93,
     "metadata": {},
     "output_type": "execute_result"
    }
   ],
   "source": [
    "filteredIcdDf[\n",
    "    (filteredIcdDf.AUSTRALIAN_MODIFICATION.str.startswith('B18'))\n",
    "    |\n",
    "    (filteredIcdDf.AUSTRALIAN_MODIFICATION.str.startswith('K700'))\n",
    "    |\n",
    "    (filteredIcdDf.AUSTRALIAN_MODIFICATION.str.startswith('K701'))\n",
    "    |\n",
    "    (filteredIcdDf.AUSTRALIAN_MODIFICATION.str.startswith('K702'))\n",
    "    |\n",
    "    (filteredIcdDf.AUSTRALIAN_MODIFICATION.str.startswith('K703'))\n",
    "    |\n",
    "    (filteredIcdDf.AUSTRALIAN_MODIFICATION.str.startswith('K709'))\n",
    "    |\n",
    "    (filteredIcdDf.AUSTRALIAN_MODIFICATION.str.startswith('K713'))\n",
    "    |\n",
    "    (filteredIcdDf.AUSTRALIAN_MODIFICATION.str.startswith('K714'))\n",
    "    |\n",
    "    (filteredIcdDf.AUSTRALIAN_MODIFICATION.str.startswith('K715'))\n",
    "    |\n",
    "    (filteredIcdDf.AUSTRALIAN_MODIFICATION.str.startswith('K717'))\n",
    "    |\n",
    "    (filteredIcdDf.AUSTRALIAN_MODIFICATION.str.startswith('K73'))\n",
    "    |\n",
    "    (filteredIcdDf.AUSTRALIAN_MODIFICATION.str.startswith('K74'))\n",
    "    |\n",
    "    (filteredIcdDf.AUSTRALIAN_MODIFICATION.str.startswith('K760'))\n",
    "    |\n",
    "    (filteredIcdDf.AUSTRALIAN_MODIFICATION.str.startswith('K762'))\n",
    "    |\n",
    "    (filteredIcdDf.AUSTRALIAN_MODIFICATION.str.startswith('K763'))\n",
    "    |\n",
    "    (filteredIcdDf.AUSTRALIAN_MODIFICATION.str.startswith('K764'))\n",
    "    |\n",
    "    (filteredIcdDf.AUSTRALIAN_MODIFICATION.str.startswith('K768'))\n",
    "    |\n",
    "    (filteredIcdDf.AUSTRALIAN_MODIFICATION.str.startswith('K769'))\n",
    "    |\n",
    "    (filteredIcdDf.AUSTRALIAN_MODIFICATION.str.startswith('Z944'))\n",
    "][['AUSTRALIAN_MODIFICATION', 'ICD_DESCRIPTION']].value_counts()"
   ]
  },
  {
   "cell_type": "code",
   "execution_count": 94,
   "metadata": {},
   "outputs": [
    {
     "data": {
      "text/plain": [
       "7.26"
      ]
     },
     "execution_count": 94,
     "metadata": {},
     "output_type": "execute_result"
    }
   ],
   "source": [
    "round(filteredIcdDf[\n",
    "    (filteredIcdDf.AUSTRALIAN_MODIFICATION.str.startswith('B18'))\n",
    "    |\n",
    "    (filteredIcdDf.AUSTRALIAN_MODIFICATION.str.startswith('K700'))\n",
    "    |\n",
    "    (filteredIcdDf.AUSTRALIAN_MODIFICATION.str.startswith('K701'))\n",
    "    |\n",
    "    (filteredIcdDf.AUSTRALIAN_MODIFICATION.str.startswith('K702'))\n",
    "    |\n",
    "    (filteredIcdDf.AUSTRALIAN_MODIFICATION.str.startswith('K703'))\n",
    "    |\n",
    "    (filteredIcdDf.AUSTRALIAN_MODIFICATION.str.startswith('K709'))\n",
    "    |\n",
    "    (filteredIcdDf.AUSTRALIAN_MODIFICATION.str.startswith('K713'))\n",
    "    |\n",
    "    (filteredIcdDf.AUSTRALIAN_MODIFICATION.str.startswith('K714'))\n",
    "    |\n",
    "    (filteredIcdDf.AUSTRALIAN_MODIFICATION.str.startswith('K715'))\n",
    "    |\n",
    "    (filteredIcdDf.AUSTRALIAN_MODIFICATION.str.startswith('K717'))\n",
    "    |\n",
    "    (filteredIcdDf.AUSTRALIAN_MODIFICATION.str.startswith('K73'))\n",
    "    |\n",
    "    (filteredIcdDf.AUSTRALIAN_MODIFICATION.str.startswith('K74'))\n",
    "    |\n",
    "    (filteredIcdDf.AUSTRALIAN_MODIFICATION.str.startswith('K760'))\n",
    "    |\n",
    "    (filteredIcdDf.AUSTRALIAN_MODIFICATION.str.startswith('K762'))\n",
    "    |\n",
    "    (filteredIcdDf.AUSTRALIAN_MODIFICATION.str.startswith('K763'))\n",
    "    |\n",
    "    (filteredIcdDf.AUSTRALIAN_MODIFICATION.str.startswith('K764'))\n",
    "    |\n",
    "    (filteredIcdDf.AUSTRALIAN_MODIFICATION.str.startswith('K768'))\n",
    "    |\n",
    "    (filteredIcdDf.AUSTRALIAN_MODIFICATION.str.startswith('K769'))\n",
    "    |\n",
    "    (filteredIcdDf.AUSTRALIAN_MODIFICATION.str.startswith('Z944'))\n",
    "].PATIENT_ID.unique().shape[0]/datamatrixDf.person_id.unique().shape[0] * 100, 2)"
   ]
  },
  {
   "cell_type": "markdown",
   "metadata": {},
   "source": [
    "## Moderate/severe liver disease"
   ]
  },
  {
   "cell_type": "code",
   "execution_count": 95,
   "metadata": {},
   "outputs": [
    {
     "data": {
      "text/plain": [
       "AUSTRALIAN_MODIFICATION  ICD_DESCRIPTION                                                                 \n",
       "K765                     Hepatic veno-occlusive disease                                                      1947\n",
       "K729                     Hepatic failure, unspecified                                                        1446\n",
       "K704                     Alcoholic hepatic failure                                                            785\n",
       "I982                     Oesophageal varices without mention of bleeding in diseases classified elsewhere     744\n",
       "K767                     Hepatorenal syndrome                                                                 356\n",
       "I864                     Gastric varices                                                                      329\n",
       "K766                     Portal hypertension                                                                  245\n",
       "I859                     Oesophageal varices without bleeding                                                 195\n",
       "I850                     Oesophageal varices with bleeding                                                     71\n",
       "K721                     Chronic hepatic failure                                                               38\n",
       "K711                     Toxic liver disease with hepatic necrosis                                              4\n",
       "dtype: int64"
      ]
     },
     "execution_count": 95,
     "metadata": {},
     "output_type": "execute_result"
    }
   ],
   "source": [
    "filteredIcdDf[\n",
    "    (filteredIcdDf.AUSTRALIAN_MODIFICATION.str.startswith('I850'))\n",
    "    |\n",
    "    (filteredIcdDf.AUSTRALIAN_MODIFICATION.str.startswith('I859'))\n",
    "    |\n",
    "    (filteredIcdDf.AUSTRALIAN_MODIFICATION.str.startswith('I864'))\n",
    "    |\n",
    "    (filteredIcdDf.AUSTRALIAN_MODIFICATION.str.startswith('I982'))\n",
    "    |\n",
    "    (filteredIcdDf.AUSTRALIAN_MODIFICATION.str.startswith('K704'))\n",
    "    |\n",
    "    (filteredIcdDf.AUSTRALIAN_MODIFICATION.str.startswith('K711'))\n",
    "    |\n",
    "    (filteredIcdDf.AUSTRALIAN_MODIFICATION.str.startswith('K721'))\n",
    "    |\n",
    "    (filteredIcdDf.AUSTRALIAN_MODIFICATION.str.startswith('K729'))\n",
    "    |\n",
    "    (filteredIcdDf.AUSTRALIAN_MODIFICATION.str.startswith('K765'))\n",
    "    |\n",
    "    (filteredIcdDf.AUSTRALIAN_MODIFICATION.str.startswith('K766'))\n",
    "    |\n",
    "    (filteredIcdDf.AUSTRALIAN_MODIFICATION.str.startswith('K767'))\n",
    "][['AUSTRALIAN_MODIFICATION', 'ICD_DESCRIPTION']].value_counts()"
   ]
  },
  {
   "cell_type": "code",
   "execution_count": 96,
   "metadata": {},
   "outputs": [
    {
     "data": {
      "text/plain": [
       "2.18"
      ]
     },
     "execution_count": 96,
     "metadata": {},
     "output_type": "execute_result"
    }
   ],
   "source": [
    "round(filteredIcdDf[\n",
    "    (filteredIcdDf.AUSTRALIAN_MODIFICATION.str.startswith('I850'))\n",
    "    |\n",
    "    (filteredIcdDf.AUSTRALIAN_MODIFICATION.str.startswith('I859'))\n",
    "    |\n",
    "    (filteredIcdDf.AUSTRALIAN_MODIFICATION.str.startswith('I864'))\n",
    "    |\n",
    "    (filteredIcdDf.AUSTRALIAN_MODIFICATION.str.startswith('I982'))\n",
    "    |\n",
    "    (filteredIcdDf.AUSTRALIAN_MODIFICATION.str.startswith('K704'))\n",
    "    |\n",
    "    (filteredIcdDf.AUSTRALIAN_MODIFICATION.str.startswith('K711'))\n",
    "    |\n",
    "    (filteredIcdDf.AUSTRALIAN_MODIFICATION.str.startswith('K721'))\n",
    "    |\n",
    "    (filteredIcdDf.AUSTRALIAN_MODIFICATION.str.startswith('K729'))\n",
    "    |\n",
    "    (filteredIcdDf.AUSTRALIAN_MODIFICATION.str.startswith('K765'))\n",
    "    |\n",
    "    (filteredIcdDf.AUSTRALIAN_MODIFICATION.str.startswith('K766'))\n",
    "    |\n",
    "    (filteredIcdDf.AUSTRALIAN_MODIFICATION.str.startswith('K767'))\n",
    "].PATIENT_ID.unique().shape[0]/datamatrixDf.person_id.unique().shape[0] * 100, 2)"
   ]
  },
  {
   "cell_type": "markdown",
   "metadata": {},
   "source": [
    "## Renal disease"
   ]
  },
  {
   "cell_type": "code",
   "execution_count": 97,
   "metadata": {},
   "outputs": [
    {
     "data": {
      "text/plain": [
       "AUSTRALIAN_MODIFICATION  ICD_DESCRIPTION                                                             \n",
       "Z491                     Extracorporeal dialysis                                                         224713\n",
       "N185                     Chronic kidney disease, stage 5                                                  15104\n",
       "N183                     Chronic kidney disease, stage 3                                                  10243\n",
       "Z940                     Kidney transplant status                                                          6703\n",
       "N19                      Unspecified kidney failure                                                        6115\n",
       "N182                     Chronic kidney disease, stage 2                                                   4599\n",
       "I120                     Hypertensive kidney disease with kidney failure                                   3797\n",
       "N184                     Chronic kidney disease, stage 4                                                   3497\n",
       "Z490                     Preparatory care for dialysis                                                      964\n",
       "N189                     Chronic kidney disease, unspecified                                                935\n",
       "Z992                     Dependence on kidney dialysis                                                      793\n",
       "N055                     Unspecified nephritic syndrome, diffuse mesangiocapillary glomerulonephritis        96\n",
       "I131                     Hypertensive heart and kidney disease with kidney failure                           67\n",
       "N052                     Unspecified nephritic syndrome, diffuse membranous glomerulonephritis               48\n",
       "N181                     Chronic kidney disease, stage 1                                                     23\n",
       "dtype: int64"
      ]
     },
     "execution_count": 97,
     "metadata": {},
     "output_type": "execute_result"
    }
   ],
   "source": [
    "filteredIcdDf[\n",
    "    (filteredIcdDf.AUSTRALIAN_MODIFICATION.str.startswith('I120'))\n",
    "    |\n",
    "    (filteredIcdDf.AUSTRALIAN_MODIFICATION.str.startswith('I131'))\n",
    "    |\n",
    "    (filteredIcdDf.AUSTRALIAN_MODIFICATION.str.startswith('N032'))\n",
    "    |\n",
    "    (filteredIcdDf.AUSTRALIAN_MODIFICATION.str.startswith('N033'))\n",
    "    |\n",
    "    (filteredIcdDf.AUSTRALIAN_MODIFICATION.str.startswith('N034'))\n",
    "    |\n",
    "    (filteredIcdDf.AUSTRALIAN_MODIFICATION.str.startswith('N035'))\n",
    "    |\n",
    "    (filteredIcdDf.AUSTRALIAN_MODIFICATION.str.startswith('N036'))\n",
    "    |\n",
    "    (filteredIcdDf.AUSTRALIAN_MODIFICATION.str.startswith('N037'))\n",
    "    |\n",
    "    (filteredIcdDf.AUSTRALIAN_MODIFICATION.str.startswith('N052'))\n",
    "    |\n",
    "    (filteredIcdDf.AUSTRALIAN_MODIFICATION.str.startswith('N053'))\n",
    "    |\n",
    "    (filteredIcdDf.AUSTRALIAN_MODIFICATION.str.startswith('N054'))\n",
    "    |\n",
    "    (filteredIcdDf.AUSTRALIAN_MODIFICATION.str.startswith('N055'))\n",
    "    |\n",
    "    (filteredIcdDf.AUSTRALIAN_MODIFICATION.str.startswith('N056'))\n",
    "    |\n",
    "    (filteredIcdDf.AUSTRALIAN_MODIFICATION.str.startswith('N057'))\n",
    "    |\n",
    "    (filteredIcdDf.AUSTRALIAN_MODIFICATION.str.startswith('N18'))\n",
    "    |\n",
    "    (filteredIcdDf.AUSTRALIAN_MODIFICATION.str.startswith('N19'))\n",
    "    |\n",
    "    (filteredIcdDf.AUSTRALIAN_MODIFICATION.str.startswith('N250'))\n",
    "    |\n",
    "    (filteredIcdDf.AUSTRALIAN_MODIFICATION.str.startswith('Z490'))\n",
    "    |\n",
    "    (filteredIcdDf.AUSTRALIAN_MODIFICATION.str.startswith('Z491'))\n",
    "    |\n",
    "    (filteredIcdDf.AUSTRALIAN_MODIFICATION.str.startswith('Z492'))\n",
    "    |\n",
    "    (filteredIcdDf.AUSTRALIAN_MODIFICATION.str.startswith('Z940'))\n",
    "    |\n",
    "    (filteredIcdDf.AUSTRALIAN_MODIFICATION.str.startswith('Z992'))\n",
    "][['AUSTRALIAN_MODIFICATION', 'ICD_DESCRIPTION']].value_counts()"
   ]
  },
  {
   "cell_type": "code",
   "execution_count": 98,
   "metadata": {},
   "outputs": [
    {
     "data": {
      "text/plain": [
       "12.73"
      ]
     },
     "execution_count": 98,
     "metadata": {},
     "output_type": "execute_result"
    }
   ],
   "source": [
    "round(filteredIcdDf[\n",
    "    (filteredIcdDf.AUSTRALIAN_MODIFICATION.str.startswith('I120'))\n",
    "    |\n",
    "    (filteredIcdDf.AUSTRALIAN_MODIFICATION.str.startswith('I131'))\n",
    "    |\n",
    "    (filteredIcdDf.AUSTRALIAN_MODIFICATION.str.startswith('N032'))\n",
    "    |\n",
    "    (filteredIcdDf.AUSTRALIAN_MODIFICATION.str.startswith('N033'))\n",
    "    |\n",
    "    (filteredIcdDf.AUSTRALIAN_MODIFICATION.str.startswith('N034'))\n",
    "    |\n",
    "    (filteredIcdDf.AUSTRALIAN_MODIFICATION.str.startswith('N035'))\n",
    "    |\n",
    "    (filteredIcdDf.AUSTRALIAN_MODIFICATION.str.startswith('N036'))\n",
    "    |\n",
    "    (filteredIcdDf.AUSTRALIAN_MODIFICATION.str.startswith('N037'))\n",
    "    |\n",
    "    (filteredIcdDf.AUSTRALIAN_MODIFICATION.str.startswith('N052'))\n",
    "    |\n",
    "    (filteredIcdDf.AUSTRALIAN_MODIFICATION.str.startswith('N053'))\n",
    "    |\n",
    "    (filteredIcdDf.AUSTRALIAN_MODIFICATION.str.startswith('N054'))\n",
    "    |\n",
    "    (filteredIcdDf.AUSTRALIAN_MODIFICATION.str.startswith('N055'))\n",
    "    |\n",
    "    (filteredIcdDf.AUSTRALIAN_MODIFICATION.str.startswith('N056'))\n",
    "    |\n",
    "    (filteredIcdDf.AUSTRALIAN_MODIFICATION.str.startswith('N057'))\n",
    "    |\n",
    "    (filteredIcdDf.AUSTRALIAN_MODIFICATION.str.startswith('N18'))\n",
    "    |\n",
    "    (filteredIcdDf.AUSTRALIAN_MODIFICATION.str.startswith('N19'))\n",
    "    |\n",
    "    (filteredIcdDf.AUSTRALIAN_MODIFICATION.str.startswith('N250'))\n",
    "    |\n",
    "    (filteredIcdDf.AUSTRALIAN_MODIFICATION.str.startswith('Z490'))\n",
    "    |\n",
    "    (filteredIcdDf.AUSTRALIAN_MODIFICATION.str.startswith('Z491'))\n",
    "    |\n",
    "    (filteredIcdDf.AUSTRALIAN_MODIFICATION.str.startswith('Z492'))\n",
    "    |\n",
    "    (filteredIcdDf.AUSTRALIAN_MODIFICATION.str.startswith('Z940'))\n",
    "    |\n",
    "    (filteredIcdDf.AUSTRALIAN_MODIFICATION.str.startswith('Z992'))\n",
    "].PATIENT_ID.unique().shape[0]/datamatrixDf.person_id.unique().shape[0] * 100, 2)"
   ]
  },
  {
   "cell_type": "markdown",
   "metadata": {},
   "source": [
    "## Any malignancy (tumor, leukemia, lymphoma)"
   ]
  },
  {
   "cell_type": "code",
   "execution_count": 99,
   "metadata": {},
   "outputs": [
    {
     "data": {
      "text/plain": [
       "AUSTRALIAN_MODIFICATION  ICD_DESCRIPTION                                                                  \n",
       "C9200                    Acute myeloblastic leukaemia [AML], without mention of remission                     472110\n",
       "C9201                    Acute myeloblastic leukaemia [AML], in remission                                     246697\n",
       "C9100                    Acute lymphoblastic leukaemia [ALL], without mention of remission                    137199\n",
       "C9101                    Acute lymphoblastic leukaemia [ALL], in remission                                    131966\n",
       "C9280                    Acute myeloid leukaemia with multilineage dysplasia, without mention of remission     92880\n",
       "                                                                                                               ...  \n",
       "C340                     Malignant neoplasm of main bronchus                                                       1\n",
       "C502                     Malignant neoplasm of upper-inner quadrant of breast                                      1\n",
       "C434                     Malignant melanoma of scalp and neck                                                      1\n",
       "C189                     Malignant neoplasm of colon, unspecified part                                             1\n",
       "C9170                    Other lymphoid leukaemia, without mention of remission                                    1\n",
       "Length: 151, dtype: int64"
      ]
     },
     "execution_count": 99,
     "metadata": {},
     "output_type": "execute_result"
    }
   ],
   "source": [
    "filteredIcdDf[\n",
    "    (filteredIcdDf.AUSTRALIAN_MODIFICATION.str.startswith('C0'))\n",
    "    |\n",
    "    (filteredIcdDf.AUSTRALIAN_MODIFICATION.str.startswith('C1'))\n",
    "    |\n",
    "    (filteredIcdDf.AUSTRALIAN_MODIFICATION.str.startswith('C20'))\n",
    "    |\n",
    "    (filteredIcdDf.AUSTRALIAN_MODIFICATION.str.startswith('C21'))\n",
    "    |\n",
    "    (filteredIcdDf.AUSTRALIAN_MODIFICATION.str.startswith('C22'))\n",
    "    |\n",
    "    (filteredIcdDf.AUSTRALIAN_MODIFICATION.str.startswith('C23'))\n",
    "    |\n",
    "    (filteredIcdDf.AUSTRALIAN_MODIFICATION.str.startswith('C24'))\n",
    "    |\n",
    "    (filteredIcdDf.AUSTRALIAN_MODIFICATION.str.startswith('C25'))\n",
    "    |\n",
    "    (filteredIcdDf.AUSTRALIAN_MODIFICATION.str.startswith('C26'))\n",
    "    |\n",
    "    (filteredIcdDf.AUSTRALIAN_MODIFICATION.str.startswith('C30'))\n",
    "    |\n",
    "    (filteredIcdDf.AUSTRALIAN_MODIFICATION.str.startswith('C31'))\n",
    "    |\n",
    "    (filteredIcdDf.AUSTRALIAN_MODIFICATION.str.startswith('C32'))\n",
    "    |\n",
    "    (filteredIcdDf.AUSTRALIAN_MODIFICATION.str.startswith('C33'))\n",
    "    |\n",
    "    (filteredIcdDf.AUSTRALIAN_MODIFICATION.str.startswith('C34'))\n",
    "    |\n",
    "    (filteredIcdDf.AUSTRALIAN_MODIFICATION.str.startswith('C37'))\n",
    "    |\n",
    "    (filteredIcdDf.AUSTRALIAN_MODIFICATION.str.startswith('C38'))\n",
    "    |\n",
    "    (filteredIcdDf.AUSTRALIAN_MODIFICATION.str.startswith('C39'))\n",
    "    |\n",
    "    (filteredIcdDf.AUSTRALIAN_MODIFICATION.str.startswith('C40'))\n",
    "    |\n",
    "    (filteredIcdDf.AUSTRALIAN_MODIFICATION.str.startswith('C41'))\n",
    "    |\n",
    "    (filteredIcdDf.AUSTRALIAN_MODIFICATION.str.startswith('C43'))\n",
    "    |\n",
    "    (filteredIcdDf.AUSTRALIAN_MODIFICATION.str.startswith('C45'))\n",
    "    |\n",
    "    (filteredIcdDf.AUSTRALIAN_MODIFICATION.str.startswith('C46'))\n",
    "    |\n",
    "    (filteredIcdDf.AUSTRALIAN_MODIFICATION.str.startswith('C47'))\n",
    "    |\n",
    "    (filteredIcdDf.AUSTRALIAN_MODIFICATION.str.startswith('C48'))\n",
    "    |\n",
    "    (filteredIcdDf.AUSTRALIAN_MODIFICATION.str.startswith('C49'))\n",
    "    |\n",
    "    (filteredIcdDf.AUSTRALIAN_MODIFICATION.str.startswith('C50'))\n",
    "    |\n",
    "    (filteredIcdDf.AUSTRALIAN_MODIFICATION.str.startswith('C51'))\n",
    "    |\n",
    "    (filteredIcdDf.AUSTRALIAN_MODIFICATION.str.startswith('C52'))\n",
    "    |\n",
    "    (filteredIcdDf.AUSTRALIAN_MODIFICATION.str.startswith('C53'))\n",
    "    |\n",
    "    (filteredIcdDf.AUSTRALIAN_MODIFICATION.str.startswith('C54'))\n",
    "    |\n",
    "    (filteredIcdDf.AUSTRALIAN_MODIFICATION.str.startswith('C55'))\n",
    "    |\n",
    "    (filteredIcdDf.AUSTRALIAN_MODIFICATION.str.startswith('C56'))\n",
    "    |\n",
    "    (filteredIcdDf.AUSTRALIAN_MODIFICATION.str.startswith('C57'))\n",
    "    |\n",
    "    (filteredIcdDf.AUSTRALIAN_MODIFICATION.str.startswith('C58'))\n",
    "    |\n",
    "    (filteredIcdDf.AUSTRALIAN_MODIFICATION.str.startswith('C6'))\n",
    "    |\n",
    "    (filteredIcdDf.AUSTRALIAN_MODIFICATION.str.startswith('C70'))\n",
    "    |\n",
    "    (filteredIcdDf.AUSTRALIAN_MODIFICATION.str.startswith('C71'))\n",
    "    |\n",
    "    (filteredIcdDf.AUSTRALIAN_MODIFICATION.str.startswith('C72'))\n",
    "    |\n",
    "    (filteredIcdDf.AUSTRALIAN_MODIFICATION.str.startswith('C73'))\n",
    "    |\n",
    "    (filteredIcdDf.AUSTRALIAN_MODIFICATION.str.startswith('C74'))\n",
    "    |\n",
    "    (filteredIcdDf.AUSTRALIAN_MODIFICATION.str.startswith('C75'))\n",
    "    |\n",
    "    (filteredIcdDf.AUSTRALIAN_MODIFICATION.str.startswith('C76'))\n",
    "    |\n",
    "    (filteredIcdDf.AUSTRALIAN_MODIFICATION.str.startswith('C81'))\n",
    "    |\n",
    "    (filteredIcdDf.AUSTRALIAN_MODIFICATION.str.startswith('C82'))\n",
    "    |\n",
    "    (filteredIcdDf.AUSTRALIAN_MODIFICATION.str.startswith('C83'))\n",
    "    |\n",
    "    (filteredIcdDf.AUSTRALIAN_MODIFICATION.str.startswith('C84'))\n",
    "    |\n",
    "    (filteredIcdDf.AUSTRALIAN_MODIFICATION.str.startswith('C85'))\n",
    "    |\n",
    "    (filteredIcdDf.AUSTRALIAN_MODIFICATION.str.startswith('C88'))\n",
    "    |\n",
    "    (filteredIcdDf.AUSTRALIAN_MODIFICATION.str.startswith('C90'))\n",
    "    |\n",
    "    (filteredIcdDf.AUSTRALIAN_MODIFICATION.str.startswith('C91'))\n",
    "    |\n",
    "    (filteredIcdDf.AUSTRALIAN_MODIFICATION.str.startswith('C92'))\n",
    "    |\n",
    "    (filteredIcdDf.AUSTRALIAN_MODIFICATION.str.startswith('C93'))\n",
    "    |\n",
    "    (filteredIcdDf.AUSTRALIAN_MODIFICATION.str.startswith('C94'))\n",
    "    |\n",
    "    (filteredIcdDf.AUSTRALIAN_MODIFICATION.str.startswith('C95'))\n",
    "    |\n",
    "    (filteredIcdDf.AUSTRALIAN_MODIFICATION.str.startswith('C96'))\n",
    "    |\n",
    "    (filteredIcdDf.AUSTRALIAN_MODIFICATION.str.startswith('C97'))\n",
    "][['AUSTRALIAN_MODIFICATION', 'ICD_DESCRIPTION']].value_counts()"
   ]
  },
  {
   "cell_type": "code",
   "execution_count": 100,
   "metadata": {},
   "outputs": [
    {
     "data": {
      "text/plain": [
       "16.27"
      ]
     },
     "execution_count": 100,
     "metadata": {},
     "output_type": "execute_result"
    }
   ],
   "source": [
    "round(filteredIcdDf[\n",
    "    (filteredIcdDf.AUSTRALIAN_MODIFICATION.str.startswith('C0'))\n",
    "    |\n",
    "    (filteredIcdDf.AUSTRALIAN_MODIFICATION.str.startswith('C1'))\n",
    "    |\n",
    "    (filteredIcdDf.AUSTRALIAN_MODIFICATION.str.startswith('C20'))\n",
    "    |\n",
    "    (filteredIcdDf.AUSTRALIAN_MODIFICATION.str.startswith('C21'))\n",
    "    |\n",
    "    (filteredIcdDf.AUSTRALIAN_MODIFICATION.str.startswith('C22'))\n",
    "    |\n",
    "    (filteredIcdDf.AUSTRALIAN_MODIFICATION.str.startswith('C23'))\n",
    "    |\n",
    "    (filteredIcdDf.AUSTRALIAN_MODIFICATION.str.startswith('C24'))\n",
    "    |\n",
    "    (filteredIcdDf.AUSTRALIAN_MODIFICATION.str.startswith('C25'))\n",
    "    |\n",
    "    (filteredIcdDf.AUSTRALIAN_MODIFICATION.str.startswith('C26'))\n",
    "    |\n",
    "    (filteredIcdDf.AUSTRALIAN_MODIFICATION.str.startswith('C30'))\n",
    "    |\n",
    "    (filteredIcdDf.AUSTRALIAN_MODIFICATION.str.startswith('C31'))\n",
    "    |\n",
    "    (filteredIcdDf.AUSTRALIAN_MODIFICATION.str.startswith('C32'))\n",
    "    |\n",
    "    (filteredIcdDf.AUSTRALIAN_MODIFICATION.str.startswith('C33'))\n",
    "    |\n",
    "    (filteredIcdDf.AUSTRALIAN_MODIFICATION.str.startswith('C34'))\n",
    "    |\n",
    "    (filteredIcdDf.AUSTRALIAN_MODIFICATION.str.startswith('C37'))\n",
    "    |\n",
    "    (filteredIcdDf.AUSTRALIAN_MODIFICATION.str.startswith('C38'))\n",
    "    |\n",
    "    (filteredIcdDf.AUSTRALIAN_MODIFICATION.str.startswith('C39'))\n",
    "    |\n",
    "    (filteredIcdDf.AUSTRALIAN_MODIFICATION.str.startswith('C40'))\n",
    "    |\n",
    "    (filteredIcdDf.AUSTRALIAN_MODIFICATION.str.startswith('C41'))\n",
    "    |\n",
    "    (filteredIcdDf.AUSTRALIAN_MODIFICATION.str.startswith('C43'))\n",
    "    |\n",
    "    (filteredIcdDf.AUSTRALIAN_MODIFICATION.str.startswith('C45'))\n",
    "    |\n",
    "    (filteredIcdDf.AUSTRALIAN_MODIFICATION.str.startswith('C46'))\n",
    "    |\n",
    "    (filteredIcdDf.AUSTRALIAN_MODIFICATION.str.startswith('C47'))\n",
    "    |\n",
    "    (filteredIcdDf.AUSTRALIAN_MODIFICATION.str.startswith('C48'))\n",
    "    |\n",
    "    (filteredIcdDf.AUSTRALIAN_MODIFICATION.str.startswith('C49'))\n",
    "    |\n",
    "    (filteredIcdDf.AUSTRALIAN_MODIFICATION.str.startswith('C50'))\n",
    "    |\n",
    "    (filteredIcdDf.AUSTRALIAN_MODIFICATION.str.startswith('C51'))\n",
    "    |\n",
    "    (filteredIcdDf.AUSTRALIAN_MODIFICATION.str.startswith('C52'))\n",
    "    |\n",
    "    (filteredIcdDf.AUSTRALIAN_MODIFICATION.str.startswith('C53'))\n",
    "    |\n",
    "    (filteredIcdDf.AUSTRALIAN_MODIFICATION.str.startswith('C54'))\n",
    "    |\n",
    "    (filteredIcdDf.AUSTRALIAN_MODIFICATION.str.startswith('C55'))\n",
    "    |\n",
    "    (filteredIcdDf.AUSTRALIAN_MODIFICATION.str.startswith('C56'))\n",
    "    |\n",
    "    (filteredIcdDf.AUSTRALIAN_MODIFICATION.str.startswith('C57'))\n",
    "    |\n",
    "    (filteredIcdDf.AUSTRALIAN_MODIFICATION.str.startswith('C58'))\n",
    "    |\n",
    "    (filteredIcdDf.AUSTRALIAN_MODIFICATION.str.startswith('C6'))\n",
    "    |\n",
    "    (filteredIcdDf.AUSTRALIAN_MODIFICATION.str.startswith('C70'))\n",
    "    |\n",
    "    (filteredIcdDf.AUSTRALIAN_MODIFICATION.str.startswith('C71'))\n",
    "    |\n",
    "    (filteredIcdDf.AUSTRALIAN_MODIFICATION.str.startswith('C72'))\n",
    "    |\n",
    "    (filteredIcdDf.AUSTRALIAN_MODIFICATION.str.startswith('C73'))\n",
    "    |\n",
    "    (filteredIcdDf.AUSTRALIAN_MODIFICATION.str.startswith('C74'))\n",
    "    |\n",
    "    (filteredIcdDf.AUSTRALIAN_MODIFICATION.str.startswith('C75'))\n",
    "    |\n",
    "    (filteredIcdDf.AUSTRALIAN_MODIFICATION.str.startswith('C76'))\n",
    "    |\n",
    "    (filteredIcdDf.AUSTRALIAN_MODIFICATION.str.startswith('C81'))\n",
    "    |\n",
    "    (filteredIcdDf.AUSTRALIAN_MODIFICATION.str.startswith('C82'))\n",
    "    |\n",
    "    (filteredIcdDf.AUSTRALIAN_MODIFICATION.str.startswith('C83'))\n",
    "    |\n",
    "    (filteredIcdDf.AUSTRALIAN_MODIFICATION.str.startswith('C84'))\n",
    "    |\n",
    "    (filteredIcdDf.AUSTRALIAN_MODIFICATION.str.startswith('C85'))\n",
    "    |\n",
    "    (filteredIcdDf.AUSTRALIAN_MODIFICATION.str.startswith('C88'))\n",
    "    |\n",
    "    (filteredIcdDf.AUSTRALIAN_MODIFICATION.str.startswith('C90'))\n",
    "    |\n",
    "    (filteredIcdDf.AUSTRALIAN_MODIFICATION.str.startswith('C91'))\n",
    "    |\n",
    "    (filteredIcdDf.AUSTRALIAN_MODIFICATION.str.startswith('C92'))\n",
    "    |\n",
    "    (filteredIcdDf.AUSTRALIAN_MODIFICATION.str.startswith('C93'))\n",
    "    |\n",
    "    (filteredIcdDf.AUSTRALIAN_MODIFICATION.str.startswith('C94'))\n",
    "    |\n",
    "    (filteredIcdDf.AUSTRALIAN_MODIFICATION.str.startswith('C95'))\n",
    "    |\n",
    "    (filteredIcdDf.AUSTRALIAN_MODIFICATION.str.startswith('C96'))\n",
    "    |\n",
    "    (filteredIcdDf.AUSTRALIAN_MODIFICATION.str.startswith('C97'))\n",
    "].PATIENT_ID.unique().shape[0]/datamatrixDf.person_id.unique().shape[0] * 100, 2)"
   ]
  },
  {
   "cell_type": "markdown",
   "metadata": {},
   "source": [
    "## Metastatic solid tumor"
   ]
  },
  {
   "cell_type": "code",
   "execution_count": 101,
   "metadata": {},
   "outputs": [
    {
     "data": {
      "text/plain": [
       "AUSTRALIAN_MODIFICATION  ICD_DESCRIPTION                                                                    \n",
       "C786                     Secondary malignant neoplasm of retroperitoneum and peritoneum                         5008\n",
       "C771                     Secondary and unspecified malignant neoplasm of intrathoracic lymph nodes              3707\n",
       "C795                     Secondary malignant neoplasm of bone and bone marrow                                   3617\n",
       "C782                     Secondary malignant neoplasm of pleura                                                 3572\n",
       "C787                     Secondary malignant neoplasm of liver and intrahepatic bile duct                       2865\n",
       "C772                     Secondary and unspecified malignant neoplasm of intra-abdominal lymph nodes            2537\n",
       "C780                     Secondary malignant neoplasm of lung                                                   2261\n",
       "C773                     Secondary and unspecified malignant neoplasm of axillary and upper limb lymph nodes    1580\n",
       "C775                     Secondary and unspecified malignant neoplasm of intrapelvic lymph nodes                1497\n",
       "C7988                    Secondary malignant neoplasm of other specified sites                                   970\n",
       "C770                     Secondary and unspecified malignant neoplasm of lymph nodes of head, face and neck      614\n",
       "C793                     Secondary malignant neoplasm of brain and cerebral meninges                             511\n",
       "C788                     Secondary malignant neoplasm of other and unspecified digestive organs                  281\n",
       "C797                     Secondary malignant neoplasm of adrenal gland                                           269\n",
       "C774                     Secondary and unspecified malignant neoplasm of inguinal and lower limb lymph nodes     240\n",
       "C784                     Secondary malignant neoplasm of small intestine                                         202\n",
       "C792                     Secondary malignant neoplasm of skin                                                    161\n",
       "C794                     Secondary malignant neoplasm of other and unspecified parts of nervous system           158\n",
       "C781                     Secondary malignant neoplasm of mediastinum                                             106\n",
       "C800                     Malignant neoplasm, primary site unknown, so stated                                      97\n",
       "C799                     Secondary malignant neoplasm, unspecified site                                           65\n",
       "C779                     Secondary and unspecified malignant neoplasm of lymph node, unspecified                  30\n",
       "C7982                    Secondary malignant neoplasm of genital organs                                           25\n",
       "C785                     Secondary malignant neoplasm of large intestine and rectum                               22\n",
       "C791                     Secondary malignant neoplasm of bladder and other and unspecified urinary organs         12\n",
       "C809                     Malignant neoplasm, primary site unspecified                                              7\n",
       "C790                     Secondary malignant neoplasm of kidney and renal pelvis                                   1\n",
       "dtype: int64"
      ]
     },
     "execution_count": 101,
     "metadata": {},
     "output_type": "execute_result"
    }
   ],
   "source": [
    "filteredIcdDf[\n",
    "    (filteredIcdDf.AUSTRALIAN_MODIFICATION.str.startswith('C77'))\n",
    "    |\n",
    "    (filteredIcdDf.AUSTRALIAN_MODIFICATION.str.startswith('C78'))\n",
    "    |\n",
    "    (filteredIcdDf.AUSTRALIAN_MODIFICATION.str.startswith('C79'))\n",
    "    |\n",
    "    (filteredIcdDf.AUSTRALIAN_MODIFICATION.str.startswith('C80'))\n",
    "][['AUSTRALIAN_MODIFICATION', 'ICD_DESCRIPTION']].value_counts()"
   ]
  },
  {
   "cell_type": "code",
   "execution_count": 102,
   "metadata": {},
   "outputs": [
    {
     "data": {
      "text/plain": [
       "3.24"
      ]
     },
     "execution_count": 102,
     "metadata": {},
     "output_type": "execute_result"
    }
   ],
   "source": [
    "round(filteredIcdDf[\n",
    "    (filteredIcdDf.AUSTRALIAN_MODIFICATION.str.startswith('C77'))\n",
    "    |\n",
    "    (filteredIcdDf.AUSTRALIAN_MODIFICATION.str.startswith('C78'))\n",
    "    |\n",
    "    (filteredIcdDf.AUSTRALIAN_MODIFICATION.str.startswith('C79'))\n",
    "    |\n",
    "    (filteredIcdDf.AUSTRALIAN_MODIFICATION.str.startswith('C80'))\n",
    "\n",
    "].PATIENT_ID.unique().shape[0]/datamatrixDf.person_id.unique().shape[0] * 100, 2)"
   ]
  },
  {
   "cell_type": "markdown",
   "metadata": {},
   "source": [
    "## HIV/AIDS"
   ]
  },
  {
   "cell_type": "code",
   "execution_count": 103,
   "metadata": {},
   "outputs": [
    {
     "data": {
      "text/plain": [
       "AUSTRALIAN_MODIFICATION  ICD_DESCRIPTION                                                                          \n",
       "B24                      Unspecified human immunodeficiency virus [HIV] disease                                       908\n",
       "B21                      Human immunodeficiency virus [HIV] disease resulting in malignant neoplasms                  890\n",
       "B20                      Human immunodeficiency virus [HIV] disease resulting in infectious and parasitic diseases    105\n",
       "dtype: int64"
      ]
     },
     "execution_count": 103,
     "metadata": {},
     "output_type": "execute_result"
    }
   ],
   "source": [
    "filteredIcdDf[\n",
    "    (filteredIcdDf.AUSTRALIAN_MODIFICATION.str.startswith('B20'))\n",
    "    |\n",
    "    (filteredIcdDf.AUSTRALIAN_MODIFICATION.str.startswith('B21'))\n",
    "    |\n",
    "    (filteredIcdDf.AUSTRALIAN_MODIFICATION.str.startswith('B22'))\n",
    "    |\n",
    "    (filteredIcdDf.AUSTRALIAN_MODIFICATION.str.startswith('B24'))\n",
    "][['AUSTRALIAN_MODIFICATION', 'ICD_DESCRIPTION']].value_counts()"
   ]
  },
  {
   "cell_type": "code",
   "execution_count": 104,
   "metadata": {},
   "outputs": [
    {
     "data": {
      "text/plain": [
       "0.76"
      ]
     },
     "execution_count": 104,
     "metadata": {},
     "output_type": "execute_result"
    }
   ],
   "source": [
    "round(filteredIcdDf[\n",
    "    (filteredIcdDf.AUSTRALIAN_MODIFICATION.str.startswith('B20'))\n",
    "    |\n",
    "    (filteredIcdDf.AUSTRALIAN_MODIFICATION.str.startswith('B21'))\n",
    "    |\n",
    "    (filteredIcdDf.AUSTRALIAN_MODIFICATION.str.startswith('B22'))\n",
    "    |\n",
    "    (filteredIcdDf.AUSTRALIAN_MODIFICATION.str.startswith('B24'))\n",
    "].PATIENT_ID.unique().shape[0]/datamatrixDf.person_id.unique().shape[0] * 100, 2)"
   ]
  }
 ],
 "metadata": {
  "kernelspec": {
   "display_name": ".venv",
   "language": "python",
   "name": "python3"
  },
  "language_info": {
   "codemirror_mode": {
    "name": "ipython",
    "version": 3
   },
   "file_extension": ".py",
   "mimetype": "text/x-python",
   "name": "python",
   "nbconvert_exporter": "python",
   "pygments_lexer": "ipython3",
   "version": "3.10.12"
  }
 },
 "nbformat": 4,
 "nbformat_minor": 2
}
