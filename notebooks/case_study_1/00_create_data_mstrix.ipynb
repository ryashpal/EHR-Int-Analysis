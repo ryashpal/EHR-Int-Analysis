{
 "cells": [
  {
   "cell_type": "markdown",
   "metadata": {},
   "source": [
    "# Create data matrix"
   ]
  },
  {
   "cell_type": "markdown",
   "metadata": {},
   "source": [
    "## Read individual files and merge"
   ]
  },
  {
   "cell_type": "code",
   "execution_count": 7,
   "metadata": {},
   "outputs": [
    {
     "name": "stdout",
     "output_type": "stream",
     "text": [
      "df.shape:  (635, 7)\n",
      "df.shape:  (628, 7)\n",
      "df.shape:  (602, 7)\n",
      "mergedDf.shape:  (1865, 7)\n"
     ]
    }
   ],
   "source": [
    "import os\n",
    "\n",
    "import pandas as pd\n",
    "\n",
    "\n",
    "dfs = []\n",
    "casestudy1DirPath = '/home/vmadmin/workspace/EHR-Int-Analysis/data/case_study_1'\n",
    "observationsDirPath = casestudy1DirPath + '/' + 'ehr_observations'\n",
    "for file in os.listdir(observationsDirPath):\n",
    "    df = pd.read_csv(observationsDirPath + '/' + file)\n",
    "    print('df.shape: ', df.shape)\n",
    "    dfs.append(df)\n",
    "mergedDf = pd.concat(dfs)\n",
    "print('mergedDf.shape: ', mergedDf.shape)"
   ]
  },
  {
   "cell_type": "markdown",
   "metadata": {},
   "source": [
    "## Save merged file"
   ]
  },
  {
   "cell_type": "code",
   "execution_count": 8,
   "metadata": {},
   "outputs": [],
   "source": [
    "casestudy1DirPath = '/home/vmadmin/workspace/EHR-Int-Analysis/data/case_study_1'\n",
    "\n",
    "mergedDf.to_csv(casestudy1DirPath + '/merged_observations.csv', index=False)"
   ]
  },
  {
   "cell_type": "markdown",
   "metadata": {},
   "source": [
    "## Coverage analysis"
   ]
  },
  {
   "cell_type": "code",
   "execution_count": 9,
   "metadata": {},
   "outputs": [
    {
     "name": "stderr",
     "output_type": "stream",
     "text": [
      "sh: 1: .venv/bin/python: not found\n"
     ]
    },
    {
     "data": {
      "text/plain": [
       "32512"
      ]
     },
     "execution_count": 9,
     "metadata": {},
     "output_type": "execute_result"
    }
   ],
   "source": [
    "import os\n",
    "\n",
    "casestudy1DirPath = '/home/vmadmin/workspace/EHR-Int-Analysis/data/case_study_1'\n",
    "\n",
    "\n",
    "os.system(\n",
    "    '''cd $EHR_QC_PREPROCESS_BASE;'''\n",
    "    +\n",
    "    '''.venv/bin/python -m ehrqc.plot.Coverage ''' + casestudy1DirPath + '/merged_observations.csv' + ''' 100 -i \"observation_id\" \"patient_id\" \"encounter_id\"'''\n",
    "    )\n"
   ]
  }
 ],
 "metadata": {
  "kernelspec": {
   "display_name": ".venv",
   "language": "python",
   "name": "python3"
  },
  "language_info": {
   "codemirror_mode": {
    "name": "ipython",
    "version": 3
   },
   "file_extension": ".py",
   "mimetype": "text/x-python",
   "name": "python",
   "nbconvert_exporter": "python",
   "pygments_lexer": "ipython3",
   "version": "3.10.12"
  }
 },
 "nbformat": 4,
 "nbformat_minor": 2
}
